{
 "cells": [
  {
   "cell_type": "markdown",
   "metadata": {
    "slideshow": {
     "slide_type": "slide"
    }
   },
   "source": [
    "# Using Python in HPC\n",
    "\n",
    "Brian Skjerven  \n",
    "Marco DeLapierre  \n",
    "Maciej Cytowski  \n",
    "\n",
    "![Pawsey logo](../img/pawsey.jpg)"
   ]
  },
  {
   "cell_type": "markdown",
   "metadata": {
    "slideshow": {
     "slide_type": "slide"
    }
   },
   "source": [
    "## Overview\n",
    "\n",
    "* Python: The Good and the Bad\n",
    "* Best Practices for Python in HPC\n",
    "* Python Libraries\n",
    "    * Numerical (NumPy, SciPy)\n",
    "    * I/O (H5Py, PyTables)\n",
    "    * Machine Learning (PyTorch)\n",
    "* Parallel Python\n",
    "* PySpark\n",
    "* Other Topics (e.g., ML, CUDA)\n"
   ]
  },
  {
   "cell_type": "markdown",
   "metadata": {
    "slideshow": {
     "slide_type": "slide"
    }
   },
   "source": [
    "![Python logo](../img/python_logo.png)\n",
    "\n",
    "* Dynamic, interpreted, interactive\n",
    "* Object-oriented\n",
    "* Automatic memory management\n",
    "* Range of external libraries and modules\n",
    "* Extendable with C, C++, Fortran\n",
    "    * More on this later\n",
    "* Easy to learn\n",
    "    * Equally easy to do “dumb” things"
   ]
  },
  {
   "cell_type": "markdown",
   "metadata": {
    "slideshow": {
     "slide_type": "slide"
    }
   },
   "source": [
    "# Obligatory xkcd\n",
    "\n",
    "![xkcd](../img/xkcd_python.png)"
   ]
  },
  {
   "cell_type": "markdown",
   "metadata": {
    "slideshow": {
     "slide_type": "slide"
    }
   },
   "source": [
    "# Space Invaders\n",
    "\n",
    "Here's 37 lines of Python code that creates a fully functioning game"
   ]
  },
  {
   "cell_type": "markdown",
   "metadata": {
    "slideshow": {
     "slide_type": "slide"
    }
   },
   "source": [
    "```python\n",
    "import math, time\n",
    "import tkinter as tk\n",
    "from tkinter import Tk, Canvas, PhotoImage, Label, Button\n",
    "\n",
    "class Game(tk.Frame):\n",
    "    def __init__(self, parent, *args, **kwargs):\n",
    "        tk.Frame.__init__(self, parent, *args, **kwargs)\n",
    "        self.parent = parent\n",
    "        parent.title(\"Space Invaders\")\n",
    "\n",
    "        canvas, aliens, lasers = Canvas(parent, width=800, height=400, bg='black'), {}, {}\n",
    "        canvas.pack()\n",
    "        i1, i2 = PhotoImage(format = 'gif', file = \"alien.gif\"), PhotoImage(format = 'gif', file = \"laser.gif\")\n",
    "        for x, y, p in [(100+40*j, 160-20*i, 100*i) for i in range(8) for j in range(15)]:\n",
    "            aliens[canvas.create_image(x, y, image = i1)] = p\n",
    "        canvas.bind('<Button-1>', lambda e: lasers.update({canvas.create_image(e.x, 390, image=i2): 10}))\n",
    "        while aliens:\n",
    "            try:\n",
    "                for l in lasers:\n",
    "                    canvas.move(l, 0, -5)\n",
    "                    if canvas.coords(l)[1]<0:\n",
    "                        canvas.delete(l); del lasers[l]\n",
    "                for a in aliens:\n",
    "                    canvas.move(a, 2.0*math.sin(time.time()),0)\n",
    "                    p = canvas.coords(a)\n",
    "                    items = canvas.find_overlapping(p[0]-5, p[1]-5, p[0]+5, p[1]+5)\n",
    "                    for i in items[1:2]:\n",
    "                        canvas.delete(a); del aliens[a]; canvas.delete(i); del lasers[i]\n",
    "                time.sleep(0.02); root.update()\n",
    "            except: pass\n",
    "\n",
    "if __name__ == \"__main__\":\n",
    "    root = tk.Tk()\n",
    "    Game(root).pack(side=\"top\", fill=\"both\", expand=True)\n",
    "    root.mainloop()\n",
    "```"
   ]
  },
  {
   "cell_type": "markdown",
   "metadata": {
    "slideshow": {
     "slide_type": "slide"
    }
   },
   "source": [
    "![Space Invaders Python](../img/space_invaders.png)\n",
    "\n",
    "Try that in C++  \n",
    "(code is available in this repo)"
   ]
  },
  {
   "cell_type": "markdown",
   "metadata": {
    "slideshow": {
     "slide_type": "slide"
    }
   },
   "source": [
    "# 1D Heat Equation\n",
    "\n",
    "![1D Heat Eqn](../img/1dheat.png)\n",
    "* Time-dependent\n",
    "* Finite differences, Backward Euler\n",
    "* Benchmark:\n",
    "    * Python 2.7.13 (using NumPy)\n",
    "    * GCC 7.2.0 (using PETSc)\n",
    "    * Serial test (Single node of Magnus)\n",
    "    * Discretisation using 10-100 million points"
   ]
  },
  {
   "cell_type": "markdown",
   "metadata": {
    "slideshow": {
     "slide_type": "slide"
    }
   },
   "source": [
    "![Solving 1D Heat Eqn](../img/1dheat_plot.png)\n",
    "\n",
    "* Left axis is Python runtime\n",
    "* Right axis is PETSc runtime\n",
    "* Python failed at 100K grid points\n",
    "    * Memory limitation (64GB on Magnus)\n",
    "* PETSc also ran on 10 million & 100 million grid points"
   ]
  },
  {
   "cell_type": "markdown",
   "metadata": {
    "slideshow": {
     "slide_type": "slide"
    }
   },
   "source": [
    "# Python Performace\n",
    "\n",
    "Simple fact: Python is slower than a compiled language like C or Fortran  \n",
    "  \n",
    "Why?\n",
    "   * Python objects can be inefficient\n",
    "   * Compiled vs Interpreted languages\n",
    "   * Dynamic typing\n",
    "   "
   ]
  },
  {
   "cell_type": "markdown",
   "metadata": {
    "slideshow": {
     "slide_type": "slide"
    }
   },
   "source": [
    "# Interpreters\n",
    "\n",
    "Ok...time to be pedantic\n",
    "\n",
    "Python is technically a specification for a language that can be implemented any number of ways.  When people refer to using Python, they're also talking about the **interpreter** that they use.  The interpreter is a separate program that executes the source code, as opposed to a compiled language where source code is translated into instructions that your target machine can understand.\n",
    "\n",
    "There are benefits to interpreted languages:\n",
    "* Development speed (no need to compile)\n",
    "* Easier to implement (compilers are hard!)\n",
    "* Code distribution is easier\n",
    "\n",
    "And disadvantages:\n",
    "* Performance issues\n",
    "* Security (code injection)\n",
    "\n",
    "Most common is **CPython**, but there are other options:\n",
    "* Jython (Java-based)\n",
    "* IronPython (.NET Framework/C#)\n",
    "* PyPY (Python written in...Python)\n",
    "\n",
    "There are trade-offs with different interpeters; e.g. PyPy gives good performance but is beta for Python 3.\n",
    "\n",
    "For HPC applications I'd recommend sticking with CPython (or whatever is on your particular system) and focus your efforts on other areas for performance improvement (more on that later)."
   ]
  },
  {
   "cell_type": "code",
   "execution_count": 9,
   "metadata": {
    "slideshow": {
     "slide_type": "subslide"
    }
   },
   "outputs": [],
   "source": [
    "# Simple function in Python\n",
    "def test_func(n):\n",
    "    x = 1\n",
    "    for i in range(n):\n",
    "        x += x * i"
   ]
  },
  {
   "cell_type": "code",
   "execution_count": 10,
   "metadata": {
    "slideshow": {
     "slide_type": "fragment"
    }
   },
   "outputs": [
    {
     "name": "stdout",
     "output_type": "stream",
     "text": [
      "32.6 ms ± 759 µs per loop (mean ± std. dev. of 7 runs, 10 loops each)\n"
     ]
    }
   ],
   "source": [
    "# Time our function\n",
    "%timeit test_func(10000)"
   ]
  },
  {
   "cell_type": "markdown",
   "metadata": {
    "slideshow": {
     "slide_type": "fragment"
    }
   },
   "source": [
    "Here's the Fortran equivalent:"
   ]
  },
  {
   "cell_type": "code",
   "execution_count": 11,
   "metadata": {
    "slideshow": {
     "slide_type": "fragment"
    }
   },
   "outputs": [
    {
     "name": "stdout",
     "output_type": "stream",
     "text": [
      "Overwriting test_func.f\n"
     ]
    }
   ],
   "source": [
    "%%file test_func.f\n",
    "\n",
    "      subroutine test_func(n)\n",
    "           integer :: n, i\n",
    "           double precision :: x\n",
    "    \n",
    "           x = 1\n",
    "           do i = 0,n-1\n",
    "                x = x + (x * 1)\n",
    "           enddo\n",
    "      end subroutine test_func"
   ]
  },
  {
   "cell_type": "markdown",
   "metadata": {
    "slideshow": {
     "slide_type": "fragment"
    }
   },
   "source": [
    "We can use the `f2py` tool to compile our Fortran code and call it from Python:"
   ]
  },
  {
   "cell_type": "code",
   "execution_count": 12,
   "metadata": {
    "slideshow": {
     "slide_type": "fragment"
    }
   },
   "outputs": [],
   "source": [
    "!f2py -c test_func.f -m test_func > /dev/null"
   ]
  },
  {
   "cell_type": "code",
   "execution_count": 13,
   "metadata": {
    "slideshow": {
     "slide_type": "fragment"
    }
   },
   "outputs": [
    {
     "name": "stdout",
     "output_type": "stream",
     "text": [
      "141 ns ± 2.56 ns per loop (mean ± std. dev. of 7 runs, 10000000 loops each)\n"
     ]
    }
   ],
   "source": [
    "from test_func import test_func\n",
    "%timeit test_func(10000)"
   ]
  },
  {
   "cell_type": "markdown",
   "metadata": {
    "slideshow": {
     "slide_type": "slide"
    }
   },
   "source": [
    "# Python's Memory Layout\n",
    "\n",
    "![NumPy Array vs Python List](../img/python_memory.png)\n",
    "\n",
    "* NumPy array is simply a Python object pointing to a C array (which is contiguous)\n",
    "<br>\n",
    "* Python list points to a contiguous block of pointers\n",
    "    * Each points to a different Python object\n",
    "    * Each object is spread out in memory"
   ]
  },
  {
   "cell_type": "markdown",
   "metadata": {
    "slideshow": {
     "slide_type": "slide"
    }
   },
   "source": [
    "# Static vs. Dynamic Typing\n",
    "\n",
    "Python knows nothing (at runtime) about the variables in your code\n",
    "\n",
    "* Are they integers? floats? strings\n",
    "\n",
    "Only knows they exist as Python objects"
   ]
  },
  {
   "cell_type": "markdown",
   "metadata": {
    "slideshow": {
     "slide_type": "slide"
    }
   },
   "source": [
    "# Integer Addition in C\n",
    "\n",
    "```c\n",
    "int a = 1;\n",
    "int b = 2;\n",
    "intc c = a+b;\n",
    "```\n",
    "\n",
    "That corresponds to the following steps:\n",
    "\n",
    "1. Assign `<int> 1` to `a`  \n",
    "<br>\n",
    "2. Assign `<int> 2` to `b`  \n",
    "<br>\n",
    "3. Call `<binary_add<int,int>(a,b)`  \n",
    "<br>\n",
    "4. Assign result to `c`\n",
    "\n",
    "<img src=\"../img/c_integer.png\" alt=\"C integer\" style=\"width: 200px;\"/>"
   ]
  },
  {
   "cell_type": "markdown",
   "metadata": {
    "slideshow": {
     "slide_type": "slide"
    }
   },
   "source": [
    "# Integer Addition in Python\n",
    "```python\n",
    "a = 1\n",
    "b = 2\n",
    "c = a + b\n",
    "```\n",
    "\n",
    "1. Assign `1` to `a`  \n",
    "    Set `a->PyObject_HEAD->typecde` to integer  \n",
    "    Set `a->val=1`\n",
    "    <br>\n",
    "    \n",
    "2. Assign `2` to `b`  \n",
    "    Set `b->PyObject_HEAD->typecde` to integer  \n",
    "    Set `b->val=2` \n",
    "    <br>\n",
    "    \n",
    "3. Call `binary_add(a,b)`  \n",
    "    Find typecode in `a->PyObject_HEAD`  \n",
    "    `a` is an integer; value is `a->val`  \n",
    "    Find typecode in `b->PyObject_HEAD`  \n",
    "    `b` is an integer; value is `b->val`  \n",
    "    Call `binary_add<int, int>(a->val, b->val)  \n",
    "    Result is `result`, and type is integer  \n",
    "    <br>\n",
    "    \n",
    "4. Creat Python object `c`  \n",
    "    Set `c->PyObject_HEAD->typecode` to integer  \n",
    "    Set `c->val` to `result`  \n",
    "\n",
    "<img src=\"../img/python_integer.png\" alt=\"Python integer\" style=\"width: 200px;\"/>"
   ]
  },
  {
   "cell_type": "markdown",
   "metadata": {
    "slideshow": {
     "slide_type": "slide"
    }
   },
   "source": [
    "# So....what do we do?\n",
    "\n",
    "![C vs Python](../img/foxtrot.png)"
   ]
  },
  {
   "cell_type": "markdown",
   "metadata": {
    "slideshow": {
     "slide_type": "slide"
    }
   },
   "source": [
    "# Leverage the best of both C & Python\n",
    "\n",
    "* **petsc4py**\n",
    "    * Python bindings for PETSc (linear algebra package written in C)\n",
    "    * Uses standard Python objects (e.g. NumPy arrays)\n",
    "    * Uses a wrapper around compiled PETSc libraries\n",
    "    * Compute intensive kernels now done in C libraries\n",
    "    * Use of NumPy arrays means that memory layout is contiguous, and arrays can be accessed by Python and C code  \n",
    "<br>\n",
    "* Same 1-D Heat Equation\n",
    "    * 130 lines of Python code\n",
    "    * Performance?"
   ]
  },
  {
   "cell_type": "markdown",
   "metadata": {
    "slideshow": {
     "slide_type": "slide"
    }
   },
   "source": [
    "![petsc4py](../img/1dheat_petsc4py.png)"
   ]
  },
  {
   "cell_type": "markdown",
   "metadata": {
    "slideshow": {
     "slide_type": "slide"
    }
   },
   "source": [
    "![petsc4py log plot](../img/1dheat_petsc4py_log.png)"
   ]
  },
  {
   "cell_type": "code",
   "execution_count": 14,
   "metadata": {
    "slideshow": {
     "slide_type": "skip"
    }
   },
   "outputs": [],
   "source": [
    "%matplotlib inline"
   ]
  },
  {
   "cell_type": "code",
   "execution_count": 15,
   "metadata": {
    "slideshow": {
     "slide_type": "slide"
    }
   },
   "outputs": [
    {
     "name": "stdout",
     "output_type": "stream",
     "text": [
      "steps 62 (2 rejected, 0 SNES fails), nonlinear its 256, linear its 411\n"
     ]
    }
   ],
   "source": [
    "# Solves Heat equation on a periodic domain, using raw VecScatter\n",
    "from __future__ import division\n",
    "import sys, petsc4py\n",
    "petsc4py.init(sys.argv)\n",
    "\n",
    "from petsc4py import PETSc\n",
    "from mpi4py import MPI\n",
    "import numpy\n",
    "import matplotlib\n",
    "\n",
    "class Heat(object):\n",
    "    def __init__(self,comm,N):\n",
    "        self.comm = comm\n",
    "        self.N = N              # global problem size\n",
    "        self.h = 1/N            # grid spacing on unit interval\n",
    "        self.n = N // comm.size + int(comm.rank < (N % comm.size)) # owned part of global problem\n",
    "        self.start = comm.exscan(self.n)\n",
    "        if comm.rank == 0: self.start = 0\n",
    "        gindices = numpy.arange(self.start-1, self.start+self.n+1, dtype=int) % N # periodic\n",
    "        self.mat = PETSc.Mat().create(comm=comm)\n",
    "        size = (self.n, self.N) # local and global sizes\n",
    "        self.mat.setSizes((size,size))\n",
    "        self.mat.setFromOptions()\n",
    "        self.mat.setPreallocationNNZ((3,1)) # Conservative preallocation for 3 \"local\" columns and one non-local\n",
    "\n",
    "        # Allow matrix insertion using local indices [0:n+2]\n",
    "        lgmap = PETSc.LGMap().create(list(gindices), comm=comm)\n",
    "        self.mat.setLGMap(lgmap, lgmap)\n",
    "\n",
    "        # Global and local vectors\n",
    "        self.gvec = self.mat.getVecRight()\n",
    "        self.lvec = PETSc.Vec().create(comm=PETSc.COMM_SELF)\n",
    "        self.lvec.setSizes(self.n+2)\n",
    "        self.lvec.setUp()\n",
    "        # Configure scatter from global to local\n",
    "        isg = PETSc.IS().createGeneral(list(gindices), comm=comm)\n",
    "        self.g2l = PETSc.Scatter().create(self.gvec, isg, self.lvec, None)\n",
    "\n",
    "        self.tozero, self.zvec = PETSc.Scatter.toZero(self.gvec)\n",
    "        self.history = []\n",
    "\n",
    "        if False:                # Print some diagnostics\n",
    "            print('[%d] local size %d, global size %d, starting offset %d' % (comm.rank, self.n, self.N, self.start))\n",
    "            self.gvec.setArray(numpy.arange(self.start,self.start+self.n))\n",
    "            self.gvec.view()\n",
    "            self.g2l.scatter(self.gvec, self.lvec, PETSc.InsertMode.INSERT)\n",
    "            for rank in range(comm.size):\n",
    "                if rank == comm.rank:\n",
    "                    print('Contents of local Vec on rank %d' % rank)\n",
    "                    self.lvec.view()\n",
    "                comm.barrier()\n",
    "    def evalSolution(self, t, x):\n",
    "        assert t == 0.0, \"only for t=0.0\"\n",
    "        coord = numpy.arange(self.start, self.start+self.n) / self.N\n",
    "        x.setArray((numpy.abs(coord-0.5) < 0.1) * 1.0)\n",
    "    def evalFunction(self, ts, t, x, xdot, f):\n",
    "        self.g2l.scatter(x, self.lvec, PETSc.InsertMode.INSERT) # lvec is a work vector\n",
    "        h = self.h\n",
    "        with self.lvec as u, xdot as udot:\n",
    "            f.setArray(udot*h + 2*u[1:-1]/h - u[:-2]/h - u[2:]/h) # Scale equation by volume element\n",
    "    def evalJacobian(self, ts, t, x, xdot, a, A, B):\n",
    "        h = self.h\n",
    "        for i in range(self.n):\n",
    "            lidx = i + 1\n",
    "            gidx = self.start + i\n",
    "            B.setValuesLocal([lidx], [lidx-1,lidx,lidx+1], [-1/h, a*h+2/h, -1/h])\n",
    "        B.assemble()\n",
    "        if A != B: A.assemble() # If operator is different from preconditioning matrix\n",
    "        return True # same nonzero pattern\n",
    "    def monitor(self, ts, i, t, x):\n",
    "        if self.history:\n",
    "            lasti, lastt, lastx = self.history[-1]\n",
    "            if i < lasti + 4 or t < lastt + 1e-4: return\n",
    "        self.tozero.scatter(x, self.zvec, PETSc.InsertMode.INSERT)\n",
    "        xx = self.zvec[:].tolist()\n",
    "        self.history.append((i, t, xx))\n",
    "    def plotHistory(self):\n",
    "        try:\n",
    "            from matplotlib import pylab, rcParams\n",
    "        except ImportError:\n",
    "            print(\"matplotlib not available\")\n",
    "            raise SystemExit\n",
    "        rcParams.update({'text.usetex':True, 'figure.figsize':(10,6)})\n",
    "        #rc('figure', figsize=(600,400))\n",
    "        pylab.title('Heat: TS \\\\texttt{%s}' % ts.getType())\n",
    "        x = numpy.arange(self.N) / self.N\n",
    "        for i,t,u in self.history:\n",
    "            pylab.plot(x, u, label='step=%d t=%8.2g'%(i,t))\n",
    "        pylab.xlabel('$x$')\n",
    "        pylab.ylabel('$u$')\n",
    "        pylab.legend(loc='upper right')\n",
    "        #pylab.savefig('heat-history.png')\n",
    "        pylab.show()\n",
    "\n",
    "OptDB = PETSc.Options()\n",
    "ode = Heat(MPI.COMM_WORLD, OptDB.getInt('n',10000))\n",
    "\n",
    "x = ode.gvec.duplicate()\n",
    "f = ode.gvec.duplicate()\n",
    "\n",
    "ts = PETSc.TS().create(comm=ode.comm)\n",
    "ts.setType(ts.Type.ROSW)        # Rosenbrock-W. ARKIMEX is a nonlinearly implicit alternative.\n",
    "\n",
    "ts.setIFunction(ode.evalFunction, ode.gvec)\n",
    "ts.setIJacobian(ode.evalJacobian, ode.mat)\n",
    "\n",
    "ts.setMonitor(ode.monitor)\n",
    "\n",
    "ts.setTime(0.0)\n",
    "ts.setTimeStep(ode.h**2)\n",
    "ts.setMaxTime(1)\n",
    "ts.setMaxSteps(100)\n",
    "ts.setMaxSNESFailures(-1)       # allow an unlimited number of failures (step will be rejected and retried)\n",
    "\n",
    "snes = ts.getSNES()             # Nonlinear solver\n",
    "snes.setTolerances(max_it=10)   # Stop nonlinear solve after 10 iterations (TS will retry with shorter step)\n",
    "ksp = snes.getKSP()             # Linear solver\n",
    "ksp.setType(ksp.Type.CG)        # Conjugate gradients\n",
    "pc = ksp.getPC()                # Preconditioner\n",
    "if False:                       # Configure algebraic multigrid, could use run-time options instead\n",
    "    pc.setType(pc.Type.GAMG)    # PETSc's native AMG implementation, mostly based on smoothed aggregation\n",
    "    OptDB['mg_coarse_pc_type'] = 'svd' # more specific multigrid options\n",
    "    OptDB['mg_levels_pc_type'] = 'sor'\n",
    "\n",
    "ts.setFromOptions()             # Apply run-time options, e.g. -ts_adapt_monitor -ts_type arkimex -snes_converged_reason\n",
    "ode.evalSolution(0.0, x)\n",
    "ts.solve(x)\n",
    "if ode.comm.rank == 0:\n",
    "    print('steps %d (%d rejected, %d SNES fails), nonlinear its %d, linear its %d'\n",
    "          % (ts.getStepNumber(), ts.getStepRejections(), ts.getSNESFailures(),\n",
    "             ts.getSNESIterations(), ts.getKSPIterations()))"
   ]
  },
  {
   "cell_type": "code",
   "execution_count": 16,
   "metadata": {
    "slideshow": {
     "slide_type": "slide"
    }
   },
   "outputs": [
    {
     "data": {
      "image/png": "[encoded data removed]",
      "text/plain": [
       "<Figure size 720x432 with 1 Axes>"
      ]
     },
     "metadata": {
      "needs_background": "light"
     },
     "output_type": "display_data"
    }
   ],
   "source": [
    "ode.plotHistory()"
   ]
  },
  {
   "cell_type": "markdown",
   "metadata": {
    "slideshow": {
     "slide_type": "slide"
    }
   },
   "source": [
    "# Moral of the story\n",
    "\n",
    "* Need a balance between development effort and computational performance  \n",
    "<br>\n",
    "* Python is an excellent \"glue\" or framework to use for your application  \n",
    "<br>\n",
    "* Need to use a compiled language like C or Fortran for the computational kernels\n",
    "    * But I don't know Fortran?\n",
    "    * Chances are there's already a module for you..."
   ]
  },
  {
   "cell_type": "markdown",
   "metadata": {
    "slideshow": {
     "slide_type": "slide"
    }
   },
   "source": [
    "# Python Tools\n",
    "\n",
    "![Python Tools](../img/python_tools.png)"
   ]
  }
 ],
 "metadata": {
  "celltoolbar": "Slideshow",
  "kernelspec": {
   "display_name": "Python 3",
   "language": "python",
   "name": "python3"
  },
  "language_info": {
   "codemirror_mode": {
    "name": "ipython",
    "version": 3
   },
   "file_extension": ".py",
   "mimetype": "text/x-python",
   "name": "python",
   "nbconvert_exporter": "python",
   "pygments_lexer": "ipython3",
   "version": "3.7.3"
  }
 },
 "nbformat": 4,
 "nbformat_minor": 2
}
