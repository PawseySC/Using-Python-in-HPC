{
 "cells": [
  {
   "cell_type": "markdown",
   "metadata": {},
   "source": [
    "# scikit-learn - Machine Learning in Python\n",
    "\n",
    "Scikit-learn is a machine learning library for Python. A key feature is that is has been designed to seemlessly interoperate with the scientific libraries NumPy and SciPy, which we have introduced in the previous notebooks, as well as with the graphical library Matplotlib.\n",
    "\n",
    "It collects a number of algorithms for supervised and unsupervised learning, including\n",
    "* Classification\n",
    "    * SVM (`sklearn.svm`)\n",
    "    * Nearest neighbors (`sklearn.neighbors`)\n",
    "    * Random forests (`sklearn.ensemble`)\n",
    "* Regression\n",
    "    * SVR (``)\n",
    "    * Ridge regression (``)\n",
    "    * Lasso (``)\n",
    "* Clustering\n",
    "    * k-Means (``)\n",
    "    * Spectral clustering (``)\n",
    "    * Mean-shift (``)\n",
    "* Dimensionality reduction\n",
    "    * PCA (``)\n",
    "    * Feature selection (``)\n",
    "    * Non-negative matrix factorization (``)\n",
    "\n",
    "Scikit-learn also offers modules for model evaulation and selection, including grid search, cross validation and metrics."
   ]
  },
  {
   "cell_type": "markdown",
   "metadata": {},
   "source": [
    "To access the scikit-learn module, you can import the whole module:"
   ]
  },
  {
   "cell_type": "code",
   "execution_count": 1,
   "metadata": {},
   "outputs": [],
   "source": [
    "import sklearn as sk"
   ]
  },
  {
   "cell_type": "markdown",
   "metadata": {},
   "source": [
    "or just the required component(s):"
   ]
  },
  {
   "cell_type": "code",
   "execution_count": 2,
   "metadata": {},
   "outputs": [],
   "source": [
    "from sklearn import svm"
   ]
  },
  {
   "cell_type": "markdown",
   "metadata": {},
   "source": [
    "# A super-brief-intro"
   ]
  },
  {
   "cell_type": "code",
   "execution_count": null,
   "metadata": {},
   "outputs": [],
   "source": []
  }
 ],
 "metadata": {
  "kernelspec": {
   "display_name": "Python 3",
   "language": "python",
   "name": "python3"
  },
  "language_info": {
   "codemirror_mode": {
    "name": "ipython",
    "version": 3
   },
   "file_extension": ".py",
   "mimetype": "text/x-python",
   "name": "python",
   "nbconvert_exporter": "python",
   "pygments_lexer": "ipython3",
   "version": "3.7.3"
  }
 },
 "nbformat": 4,
 "nbformat_minor": 2
}
