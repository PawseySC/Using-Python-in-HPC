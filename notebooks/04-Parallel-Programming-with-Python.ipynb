{
 "cells": [
  {
   "cell_type": "markdown",
   "metadata": {},
   "source": [
    "# Parallel Programming with Python\n",
    "\n",
    "Python has the ability to run in parallel, using both shared memory and distributed memory methods.  This tutorial is meant to give you a brief introduction to what's available and, more importantly, when it's appropriate to use."
   ]
  },
  {
   "cell_type": "markdown",
   "metadata": {},
   "source": [
    "## Python Threading\n",
    "\n",
    "Generally, Python threading is terrible.  But it shouldn't be:\n",
    "\n",
    "* POSIX threads\n",
    "* Shared memory with parent process\n",
    "* Lightweight threads"
   ]
  },
  {
   "cell_type": "markdown",
   "metadata": {},
   "source": [
    "### Global Interpreter Lock (GIL)\n",
    "\n",
    "In order to keep memory coherent, the Python intrepter only allows a single thread to run at once....killing performance for any kind of shared memory workload.\n",
    "\n",
    "There are (some) good reasons for this (I/O, intrepreter maintenance, etc.)"
   ]
  },
  {
   "cell_type": "markdown",
   "metadata": {},
   "source": [
    "### Example: Calculate Pi with Python Threads"
   ]
  },
  {
   "cell_type": "markdown",
   "metadata": {},
   "source": [
    "Simple process:\n",
    "* Inscribe a circle in a square\n",
    "* Throw darts at it\n",
    "* Count how many are inside the circle and how many are outside\n",
    "* Use the ratio of those to compute pi\n",
    "\n",
    "<img src=\"../img/circle_and_square.png\" style=\"height:350px\">"
   ]
  },
  {
   "cell_type": "code",
   "execution_count": 1,
   "metadata": {},
   "outputs": [
    {
     "name": "stdout",
     "output_type": "stream",
     "text": [
      "3.138488\n"
     ]
    }
   ],
   "source": [
    "from threading import Thread, Lock\n",
    "import random\n",
    "\n",
    "lock = Lock() # lock for making operations atomic\n",
    "\n",
    "def calcInside(nsamples,rank):\n",
    "    global inside # we need something everyone can share random.seed(rank)\n",
    "    random.seed(rank)\n",
    "    for i in range(nsamples):\n",
    "        x = random.random()\n",
    "        y = random.random()\n",
    "        if (x*x)+(y*y)<1:\n",
    "            lock.acquire() # GIL doesn't always save you\n",
    "            inside += 1\n",
    "            lock.release()\n",
    "\n",
    "if __name__ == '__main__':\n",
    "    nt=4 # thread count\n",
    "    inside = 0 # initialise\n",
    "    samples=int(10e5/nt)\n",
    "    threads=[Thread(target=calcInside, args=(samples,i)) for i in range(nt)]\n",
    "    \n",
    "    for t in threads: t.start()\n",
    "    for t in threads: t.join()\n",
    "    \n",
    "    print((4.0*inside)/(1.0*samples*nt))"
   ]
  },
  {
   "cell_type": "markdown",
   "metadata": {},
   "source": [
    "A few notes on the above code:\n",
    "\n",
    "* Python data-structures (e.g. lists, dictionaries, etc.) are thread-safe, meaning that when updating their values the GIL is held and other threads wait until it's released before updating object  \n",
    "<br>\n",
    "* Simpler data structures like integegers aren't thread-safe, which means we could have mulitple threads accessing the same object and either data could be corrupted or missed  \n",
    "<br>\n",
    "* We have to explicitly lock our `inside` counter in the above code to avoid this"
   ]
  },
  {
   "cell_type": "markdown",
   "metadata": {},
   "source": [
    "## Subprocess\n",
    "\n",
    "Python's `subprocess` module allows the Python intrepter to spawn and control processes that aren't affected by the GIL.  The basic command in the `subprocess` module is `Popen()`, which lets you open a proces:"
   ]
  },
  {
   "cell_type": "code",
   "execution_count": 2,
   "metadata": {},
   "outputs": [],
   "source": [
    "import subprocess\n",
    "pi=subprocess.Popen('python -c \"import math; print(math.pi)\"',shell=True,stdout=subprocess.PIPE)"
   ]
  },
  {
   "cell_type": "code",
   "execution_count": 3,
   "metadata": {},
   "outputs": [
    {
     "data": {
      "text/plain": [
       "b'3.141592653589793\\n'"
      ]
     },
     "execution_count": 3,
     "metadata": {},
     "output_type": "execute_result"
    }
   ],
   "source": [
    "pi.stdout.read()"
   ]
  },
  {
   "cell_type": "code",
   "execution_count": 4,
   "metadata": {},
   "outputs": [
    {
     "data": {
      "text/plain": [
       "40"
      ]
     },
     "execution_count": 4,
     "metadata": {},
     "output_type": "execute_result"
    }
   ],
   "source": [
    "pi.pid"
   ]
  },
  {
   "cell_type": "markdown",
   "metadata": {},
   "source": [
    "Some issues with subprocess:\n",
    "* Shared memory is tricky at best\n",
    "* Locks and atomics are difficult\n",
    "\n",
    "It's really designed for launching independent processes:"
   ]
  },
  {
   "cell_type": "code",
   "execution_count": 4,
   "metadata": {},
   "outputs": [],
   "source": [
    "cmds = [\n",
    "    'echo foo',\n",
    "    'echo bar',\n",
    "    'date',\n",
    "    'hostname'\n",
    "]\n",
    "\n",
    "tasks = [subprocess.Popen(c, shell=True) for c in cmds]\n",
    "for t in tasks: t.wait()"
   ]
  },
  {
   "cell_type": "markdown",
   "metadata": {},
   "source": [
    "You can see the output of those subprocesses with `docker logs jupyter`\n",
    "\n",
    "```console\n",
    "foo\n",
    "bar\n",
    "Wed Apr 10 05:48:08 UTC 2019\n",
    "023c8899762c\n",
    "```"
   ]
  },
  {
   "cell_type": "markdown",
   "metadata": {},
   "source": [
    "Let's look at another method..."
   ]
  },
  {
   "cell_type": "markdown",
   "metadata": {},
   "source": [
    "## Multiprocessing\n",
    "\n",
    "This module blends together Python threads and subprocesses.  It bypasses the GIL, so threads can be used and see some performance.  Under the hood it uses subprocesses, but has a manager to handle things like synchronization and distribuited sharing (but still not true shared memory)."
   ]
  },
  {
   "cell_type": "markdown",
   "metadata": {},
   "source": [
    "### Calculating pi with Multiprocessing"
   ]
  },
  {
   "cell_type": "markdown",
   "metadata": {},
   "source": [
    "We will use the `Pool` module to calculate pi.  `Pool` allows you to define a group of worker processes that you will then divide some work amongst.  `Pool` takes two inputs:\n",
    "\n",
    "* A function that we want to run across the pool of workers\n",
    "* An iterable...some way to identify how we're splitting up work"
   ]
  },
  {
   "cell_type": "code",
   "execution_count": 6,
   "metadata": {},
   "outputs": [
    {
     "name": "stdout",
     "output_type": "stream",
     "text": [
      "3.14226\n"
     ]
    }
   ],
   "source": [
    "import multiprocessing as mp\n",
    "import numpy as np\n",
    "import random\n",
    "\n",
    "processes = mp.cpu_count()\n",
    "nsamples = int(10e5/processes)\n",
    "\n",
    "def calcInside(rank):\n",
    "    inside = 0\n",
    "    random.seed(rank)\n",
    "    for i in range(nsamples):\n",
    "        x = random.random();\n",
    "        y = random.random();\n",
    "        if (x*x)+(y*y)<1:\n",
    "            inside += 1\n",
    "    return (4.0*inside)/nsamples\n",
    "\n",
    "# Important to check if main so child processes don't try to run it\n",
    "if __name__ == '__main__':\n",
    "    pool = mp.Pool(processes)\n",
    "    result = pool.map(calcInside, range(processes))\n",
    "    print(np.mean(result))"
   ]
  },
  {
   "cell_type": "markdown",
   "metadata": {},
   "source": [
    "The `Multiprocessing` module has support for other parallel constructs like process communication and locks.  We won't go into them today, but you should be aware of them."
   ]
  },
  {
   "cell_type": "markdown",
   "metadata": {},
   "source": [
    "While Multiprocessing is certainly an improvement over `subprocess` and Python threads, it does come with overhead that impacts performance.  Additionally, it will only scale to a single node (no distributed memory capability).\n",
    "\n",
    "In order to do that, we need..."
   ]
  },
  {
   "cell_type": "markdown",
   "metadata": {},
   "source": [
    "## mpi4py"
   ]
  },
  {
   "cell_type": "markdown",
   "metadata": {},
   "source": [
    "`mpi4py` is a set of bindings to make use of MPI, Message Passing Interface.  MPI forms the basis of most applications that run on HPC systems today.  We won't cover MPI today, but it is important to understand a few basics to understand what `mpi4py` is doing.\n",
    "\n",
    "Simply, all MPI allows is for processors to communicate data between each other.   Each process executes the same instructions (or code), but on different parts of the data.  At points throughout the computation, they may need to send or receive data to/from memory locations that are non-local.  MPI is the API that allows for this."
   ]
  },
  {
   "cell_type": "markdown",
   "metadata": {},
   "source": [
    "### Hello World"
   ]
  },
  {
   "cell_type": "markdown",
   "metadata": {},
   "source": [
    "```python\n",
    "from mpi4py import MPI\n",
    "import sys\n",
    "\n",
    "size = MPI.COMM_WORLD.Get_size()\n",
    "rank = MPI.COMM_WORLD.Get_rank()\n",
    "name = MPI.Get_processor_name()\n",
    "\n",
    "sys.stdout.write(\n",
    "    \"Hello, World! I am process %d of %d on %s.\\n\"\n",
    "    % (rank, size, name))\n",
    "```"
   ]
  },
  {
   "cell_type": "code",
   "execution_count": 7,
   "metadata": {},
   "outputs": [
    {
     "name": "stdout",
     "output_type": "stream",
     "text": [
      "Hello, World! I am process 0 of 4 on 023c8899762c.\r\n",
      "Hello, World! I am process 2 of 4 on 023c8899762c.\r\n",
      "Hello, World! I am process 3 of 4 on 023c8899762c.\r\n",
      "Hello, World! I am process 1 of 4 on 023c8899762c.\r\n"
     ]
    }
   ],
   "source": [
    "!mpirun -np 4 python ../code/mpi4py/helloworld.py"
   ]
  },
  {
   "cell_type": "markdown",
   "metadata": {},
   "source": [
    "### Point-to-Point Communication"
   ]
  },
  {
   "cell_type": "markdown",
   "metadata": {},
   "source": [
    "```python\n",
    "from mpi4py import MPI\n",
    "\n",
    "comm = MPI.COMM_WORLD\n",
    "rank = comm.Get_rank()\n",
    "\n",
    "if rank == 0:\n",
    "    data = {'a': 7, 'b': 3.14}\n",
    "    comm.send(data, dest=1)\n",
    "elif rank == 1:\n",
    "    data = comm.recv(source=0)\n",
    "    print('On process 1, data is ',data)\n",
    "```"
   ]
  },
  {
   "cell_type": "code",
   "execution_count": 8,
   "metadata": {},
   "outputs": [
    {
     "name": "stdout",
     "output_type": "stream",
     "text": [
      "On process 1, data is  {'a': 7, 'b': 3.14}\r\n"
     ]
    }
   ],
   "source": [
    "!mpirun -np 4 python ../code/mpi4py/pt2pt.py"
   ]
  },
  {
   "cell_type": "markdown",
   "metadata": {},
   "source": [
    "We sent a dictionary, but we can also send NumPy arrays (and we should try to do that all the time):"
   ]
  },
  {
   "cell_type": "markdown",
   "metadata": {},
   "source": [
    "```python\n",
    "from mpi4py import MPI\n",
    "import numpy as np\n",
    "\n",
    "comm = MPI.COMM_WORLD\n",
    "rank = comm.Get_rank()\n",
    "\n",
    "if rank == 0:\n",
    "    # in real code, this section might\n",
    "    # read in data parameters from a file\n",
    "    numData = 10  \n",
    "    comm.send(numData, dest=1)\n",
    "\n",
    "    data = np.linspace(0.0,3.14,numData)  \n",
    "    comm.Send(data, dest=1)\n",
    "\n",
    "elif rank == 1:\n",
    "\n",
    "    numData = comm.recv(source=0)\n",
    "    print('Number of data to receive: ',numData)\n",
    "\n",
    "    data = np.empty(numData, dtype='d')  # allocate space to receive the array\n",
    "    comm.Recv(data, source=0)\n",
    "\n",
    "    print('data received: ',data)\n",
    "```"
   ]
  },
  {
   "cell_type": "code",
   "execution_count": 9,
   "metadata": {},
   "outputs": [
    {
     "name": "stdout",
     "output_type": "stream",
     "text": [
      "Number of data to receive:  10\r\n",
      "data received:  [0.         0.34888889 0.69777778 1.04666667 1.39555556 1.74444444\r\n",
      " 2.09333333 2.44222222 2.79111111 3.14      ]\r\n"
     ]
    }
   ],
   "source": [
    "!mpirun -np 4 python ../code/mpi4py/pt2pt_numpy.py"
   ]
  },
  {
   "cell_type": "markdown",
   "metadata": {},
   "source": [
    "### Collectives"
   ]
  },
  {
   "cell_type": "markdown",
   "metadata": {},
   "source": [
    "Collectives are operations that all processors execute together.  They may execute at slightly different times, but they all will call the same function.  These are useful for operations like gathering data onto a root process, or distributing data from one to all.\n",
    "\n",
    "Hers' an example of performing a `gather` operation:"
   ]
  },
  {
   "cell_type": "markdown",
   "metadata": {},
   "source": [
    "<img src=\"../img/gather.png\" style=\"height:150px\">"
   ]
  },
  {
   "cell_type": "markdown",
   "metadata": {},
   "source": [
    "```python\n",
    "from mpi4py import MPI\n",
    "import numpy as np\n",
    "\n",
    "comm = MPI.COMM_WORLD\n",
    "size = comm.Get_size()\n",
    "rank = comm.Get_rank()   \n",
    "\n",
    "numDataPerRank = 10  \n",
    "sendbuf = np.linspace(rank*numDataPerRank+1,(rank+1)*numDataPerRank,numDataPerRank)\n",
    "print('Rank: ',rank, ', sendbuf: ',sendbuf)\n",
    "\n",
    "recvbuf = None\n",
    "if rank == 0:\n",
    "    recvbuf = np.empty(numDataPerRank*size, dtype='d')  \n",
    "\n",
    "comm.Gather(sendbuf, recvbuf, root=0)\n",
    "\n",
    "if rank == 0:\n",
    "    print('Rank: ',rank, ', recvbuf received: ',recvbuf)\n",
    "```"
   ]
  },
  {
   "cell_type": "code",
   "execution_count": 10,
   "metadata": {},
   "outputs": [
    {
     "name": "stdout",
     "output_type": "stream",
     "text": [
      "Rank:  3 , sendbuf:  [31. 32. 33. 34. 35. 36. 37. 38. 39. 40.]\r\n",
      "Rank:  2 , sendbuf:  [21. 22. 23. 24. 25. 26. 27. 28. 29. 30.]\r\n",
      "Rank:  1 , sendbuf:  [11. 12. 13. 14. 15. 16. 17. 18. 19. 20.]\r\n",
      "Rank:  0 , sendbuf:  [ 1.  2.  3.  4.  5.  6.  7.  8.  9. 10.]\r\n",
      "Rank:  0 , recvbuf received:  [ 1.  2.  3.  4.  5.  6.  7.  8.  9. 10. 11. 12. 13. 14. 15. 16. 17. 18.\r\n",
      " 19. 20. 21. 22. 23. 24. 25. 26. 27. 28. 29. 30. 31. 32. 33. 34. 35. 36.\r\n",
      " 37. 38. 39. 40.]\r\n"
     ]
    }
   ],
   "source": [
    "!mpirun -np 4 python ../code/mpi4py/gather.py"
   ]
  },
  {
   "cell_type": "markdown",
   "metadata": {},
   "source": [
    "mpi4py has the ability to ship *any* serialisable Python object.  That means that objects like `dicts` need to be converted to a byte stream, a process called pickling.  That means a Python object (except for strings and ints) needs to be pickled, sent over MPI, and then repickled...adding significant overhead."
   ]
  },
  {
   "cell_type": "markdown",
   "metadata": {},
   "source": [
    "However, arrays in NumPy map to C memory allocations, and mpi4py can send them at *almost* the speed of C/C++/Fortran:"
   ]
  },
  {
   "cell_type": "markdown",
   "metadata": {},
   "source": [
    "<img src=\"../img/allgather_bench.png\" style=\"height:450px\">\n",
    "<img src=\"../img/latency_bench.png\" style=\"height:450px\">\n",
    "<img src=\"../img/bandwidth_bench.png\" style=\"height:450px\">"
   ]
  },
  {
   "cell_type": "markdown",
   "metadata": {},
   "source": [
    "## Computing Pi\n",
    "\n",
    "Now let's look at how we can compute pi with mpi4py."
   ]
  },
  {
   "cell_type": "code",
   "execution_count": 11,
   "metadata": {},
   "outputs": [
    {
     "name": "stdout",
     "output_type": "stream",
     "text": [
      "pi is approximately 3.1450000000000000, error is 0.0034073464102069\n"
     ]
    }
   ],
   "source": [
    "from mpi4py import MPI\n",
    "import numpy\n",
    "\n",
    "# Function to calcualte pi that each MPI rank will use\n",
    "def compute_pi(samples):\n",
    "    count = 0\n",
    "    for x, y in samples:\n",
    "        if x**2 + y**2 <= 1:\n",
    "            count += 1\n",
    "    pi = 4*float(count)/len(samples)\n",
    "    return pi\n",
    "\n",
    "# Set up our MPI environment\n",
    "comm = MPI.COMM_WORLD\n",
    "nprocs = comm.Get_size()\n",
    "myrank = comm.Get_rank()\n",
    "\n",
    "# Processor 0 generates random samples that each processor will use\n",
    "if myrank == 0:\n",
    "    N = 100000 // nprocs\n",
    "    samples = numpy.random.random((nprocs, N, 2))\n",
    "else:\n",
    "    samples = None\n",
    "\n",
    "# Distribute the samples amongst all processors wiht MPI_Scatter\n",
    "samples = comm.scatter(samples, root=0)\n",
    "\n",
    "# Each processors calculates their value of pi (we'll take the average)\n",
    "mypi = compute_pi(samples) / nprocs\n",
    "\n",
    "# MPI_Reduce collects all individual \n",
    "pi = comm.reduce(mypi, op=MPI.SUM, root=0)\n",
    "\n",
    "if myrank == 0:\n",
    "    error = abs(pi - numpy.pi)\n",
    "    print(\"pi is approximately %.16f, error is %.16f\" % (pi, error))"
   ]
  },
  {
   "cell_type": "markdown",
   "metadata": {},
   "source": [
    "That runs on a single MPI process, so let's launch it in parallel:"
   ]
  },
  {
   "cell_type": "code",
   "execution_count": 12,
   "metadata": {},
   "outputs": [
    {
     "name": "stdout",
     "output_type": "stream",
     "text": [
      "pi is approximately 3.1414663999999997, error is 0.0001262535897935\r\n"
     ]
    }
   ],
   "source": [
    "!mpirun -np 4 ../code/mpi4py/pi_mpi.py"
   ]
  },
  {
   "cell_type": "markdown",
   "metadata": {},
   "source": [
    "## ipyparallel\n",
    "\n",
    "ipyparallel is Python package for creating and running clusters in Jupyter (used to be known as IPython.parallel).  It offers a nice, interactive method for developing and running parallel Python applications.\n",
    "\n",
    "I'd still recommend using a more traditional approach of a standalone Python script and batch script submitted to a scheduler for large-scale production runs, but for rapid development and prototyping, ipyparalell is a valuable tool.\n",
    "\n",
    "There a 4 parts to the ipyparallel architecture:\n",
    "\n",
    "<img src=\"../img/ipyparallel_overview.png\" style=\"height:450px\">\n",
    "\n",
    "**Engine**  \n",
    "An engine is a Python instance that can accept commands, run code, and return results.  You can run multiple engines, allowing for parallel and distributed computing.\n",
    "\n",
    "**Schedulers**  \n",
    "Any commands that are to be run on an engine first go through a scheduler.  The engines will block when executing code, so the scheduler will manage requests in the background.\n",
    "\n",
    "**Client**  \n",
    "This ia a Python object that lets you connect to a ipyparallel cluster.  \n",
    "**Hub**  \n",
    "The hub is the brain of an ipyparallel cluster.  It manages connections to engines, shcedulers, and clients\n",
    "\n",
    "We won't go into all the details of ipyparallel (there's a lot), but we will start a small cluster to run our mpi4py pi code.\n",
    "\n",
    "You can start clusters via command line options:\n",
    "\n",
    "```python\n",
    "ipcluster start -n 4\n",
    "```\n",
    "but we'll do it via a Jupyter notebook extension.  There is an `Ipython Clusters` tab where you can start a cluster.  Select 4 engines and start the cluster:\n",
    "\n",
    "<img src=\"../img/jupyter-cluster.png\" style=\"height:250px\">\n",
    "\n",
    "It will take a few seconds to start up the cluster, but once it's running we can create a client that we'll use to connect to our cluster:"
   ]
  },
  {
   "cell_type": "code",
   "execution_count": 14,
   "metadata": {},
   "outputs": [
    {
     "data": {
      "text/plain": [
       "[0, 1, 2, 3]"
      ]
     },
     "execution_count": 14,
     "metadata": {},
     "output_type": "execute_result"
    }
   ],
   "source": [
    "import ipyparallel as ipp\n",
    "client = ipp.Client()\n",
    "client.ids"
   ]
  },
  {
   "cell_type": "markdown",
   "metadata": {},
   "source": [
    "Here you can see the IDs of the 4 engines we have runninng in our cluster."
   ]
  },
  {
   "cell_type": "markdown",
   "metadata": {},
   "source": [
    "ipyparallel has a concept called a **view**, which is way to access the engines availalble.  A **direct** view simply lets you send explicit commands to specific engines (e.g. tell each engine to run the same `compute_pi()` function).  A **load balanced** view is more like the `multiprocessing` module we saw previously; you send a command to a pool of workers, and the scheduler will handle which engine it runs on (depending on which one is available).\n",
    "\n",
    "We're going to just focus on the direct views in this example.  To start we simply define what engines we want to use in our direct view:"
   ]
  },
  {
   "cell_type": "code",
   "execution_count": 15,
   "metadata": {},
   "outputs": [
    {
     "data": {
      "text/plain": [
       "<DirectView [0, 1, 2, 3]>"
      ]
     },
     "execution_count": 15,
     "metadata": {},
     "output_type": "execute_result"
    }
   ],
   "source": [
    "dview = client[:]\n",
    "dview"
   ]
  },
  {
   "cell_type": "markdown",
   "metadata": {},
   "source": [
    "Here's the same pi calculation code we've seen before, but we're going to do in parallel without mpi4py:"
   ]
  },
  {
   "cell_type": "code",
   "execution_count": 16,
   "metadata": {},
   "outputs": [],
   "source": [
    "from random import random\n",
    "from math import pi\n",
    "dview['random'] = random\n",
    "\n",
    "# Serial version\n",
    "def serial_pi(nsamples):\n",
    "    s = 0\n",
    "    for i in range(nsamples):\n",
    "        x = random()\n",
    "        y = random()\n",
    "        if x*x + y*y <= 1:\n",
    "            s+=1\n",
    "    return 4.*s/nsamples\n",
    "\n",
    "# Parallel version\n",
    "def parallel_pi(view, nsamples):\n",
    "    p = len(view.targets)\n",
    "    if nsamples % p:\n",
    "        # ensure even divisibility\n",
    "        nsamples += p - (nsamples%p)\n",
    "    \n",
    "    subsamples = nsamples//p\n",
    "    \n",
    "    ar = view.apply(serial_pi, subsamples)\n",
    "    return sum(ar)/p"
   ]
  },
  {
   "cell_type": "markdown",
   "metadata": {},
   "source": [
    "The code is similar to the `mpi4py` version:\n",
    "* We define a serial algorithm\n",
    "* We divide up the number of samples based on the number of engines in our view\n",
    "* The serial algorithm is applied across all engines, and the final answer is aggreated.\n",
    "\n",
    "Let's see the serial version performs:"
   ]
  },
  {
   "cell_type": "code",
   "execution_count": 17,
   "metadata": {},
   "outputs": [
    {
     "name": "stdout",
     "output_type": "stream",
     "text": [
      "3.45 s ± 84.5 ms per loop (mean ± std. dev. of 7 runs, 1 loop each)\n"
     ]
    }
   ],
   "source": [
    "%%timeit\n",
    "serial_pi(int(1e7))"
   ]
  },
  {
   "cell_type": "markdown",
   "metadata": {},
   "source": [
    "We'll run the parallel version, passing in the list of engines in our view that we'll use:"
   ]
  },
  {
   "cell_type": "code",
   "execution_count": 18,
   "metadata": {},
   "outputs": [
    {
     "name": "stdout",
     "output_type": "stream",
     "text": [
      "1.41 s ± 17.1 ms per loop (mean ± std. dev. of 7 runs, 1 loop each)\n"
     ]
    }
   ],
   "source": [
    "%%timeit\n",
    "parallel_pi(dview, int(1e7))"
   ]
  },
  {
   "cell_type": "markdown",
   "metadata": {},
   "source": [
    "ipyparallel "
   ]
  },
  {
   "cell_type": "markdown",
   "metadata": {},
   "source": [
    "## Real Example\n",
    "\n",
    "For those that don't consider Python a vialble HPC language, here's an example of what you can do with Python at scale:\n",
    "\n",
    "<img src=\"../img/pyfr_logo.png\" style=\"height:250px\">\n",
    "\n",
    "\n",
    "[PyFR](http://www.pyfr.org/index.php) - A Python framework for solving advection-diffucions problems.\n",
    "\n",
    "Features:\n",
    "* **Multi-platform**\n",
    "    * AMD GPUs\n",
    "    * NVIDIA GPUs\n",
    "    * CPUs\n",
    "    * Intel MIC\n",
    "    * Even Raspberyy Pi  \n",
    "<br>\n",
    "* **Parallelism**\n",
    "    * MPI (mpi4py)\n",
    "    * CUDA (PyCUDA)\n",
    "    * OpenMP (pyMIC for KNL)\n",
    "    * OpenCL (PyOpenCL)\n",
    "    * HDF5 Parallel I/O (h5py)  \n",
    "<br>    \n",
    "* **Scalable**\n",
    "    * 18,000 K20X GPUs on Titan (ORNL)\n",
    "    * 195 billion DOFs\n",
    "    * 58% peak performance (Summit HPL benchmark was 71%)\n",
    "    * SC16 Best Paper/Gordon Bell nominee\n",
    "    \n",
    "And it does all that in about **8000 lines of code**."
   ]
  },
  {
   "cell_type": "markdown",
   "metadata": {},
   "source": [
    "<img src=\"../img/pyfr-sim.gif\" style=\"height:250px\">"
   ]
  },
  {
   "cell_type": "markdown",
   "metadata": {},
   "source": [
    "### Euler Demo (from PyFR website)\n",
    "\n",
    "Here we'll run a small PyFR demo, a 2D Euler vortex simulation.  We have a separate Conda environment in our notebook for PyFR (select the pyfr kernel from the Kernel menu:"
   ]
  },
  {
   "cell_type": "markdown",
   "metadata": {},
   "source": [
    "<img src=\"../img/conda-nb.png\" style=\"height:600px\">"
   ]
  },
  {
   "cell_type": "markdown",
   "metadata": {},
   "source": [
    "**NOTE:** For this small example, runnning in parallel inside our notebook give pretty terrible performance.  I've written the commands "
   ]
  },
  {
   "cell_type": "code",
   "execution_count": 3,
   "metadata": {},
   "outputs": [],
   "source": [
    "!pyfr import ../demos/data/euler_vortex_2d.msh ../demos/data/euler_vortex_2d.pyfrm"
   ]
  },
  {
   "cell_type": "markdown",
   "metadata": {},
   "source": [
    "We need to partition the mesh depending on how many processors we want to use:"
   ]
  },
  {
   "cell_type": "code",
   "execution_count": 4,
   "metadata": {},
   "outputs": [
    {
     "name": "stdout",
     "output_type": "stream",
     "text": [
      "/opt/conda/envs/pyfr/lib/python3.7/site-packages/h5py/_hl/dataset.py:313: H5pyDeprecationWarning: dataset.value has been deprecated. Use dataset[()] instead.\n",
      "  \"Use dataset[()] instead.\", H5pyDeprecationWarning)\n",
      "/opt/conda/envs/pyfr/lib/python3.7/site-packages/pyfr-1.8.0-py3.7.egg/pyfr/shapes.py:274: FutureWarning: arrays to stack must be passed as a \"sequence\" type such as list or tuple. Support for non-sequence iterables such as generators is deprecated as of NumPy 1.16 and will raise an error in the future.\n"
     ]
    },
    {
     "name": "stdout",
     "output_type": "stream",
     "text": [
      "\u001b[2K\u001b[G   0.0% [>                           ] 0.01/100.00 ela: 00:00:00 rem: 04:00:37\u001b[2K\u001b[G   0.0% [>                           ] 0.01/100.00 ela: 00:00:00 rem: 02:32:31\u001b[2K\u001b[G   0.0% [>                           ] 0.01/100.00 ela: 00:00:01 rem: 02:13:19\u001b[2K\u001b[G   0.0% [>                           ] 0.02/100.00 ela: 00:00:01 rem: 01:53:01\u001b[2K\u001b[G   0.0% [>                           ] 0.03/100.00 ela: 00:00:01 rem: 01:44:41\u001b[2K\u001b[G   0.0% [>                           ] 0.03/100.00 ela: 00:00:01 rem: 01:41:39\u001b[2K\u001b[G   0.0% [>                           ] 0.04/100.00 ela: 00:00:02 rem: 01:36:52\u001b[2K\u001b[G   0.0% [>                           ] 0.04/100.00 ela: 00:00:02 rem: 01:32:20\u001b[2K\u001b[G   0.0% [>                           ] 0.04/100.00 ela: 00:00:02 rem: 01:27:35\u001b[2K\u001b[G   0.1% [>                           ] 0.05/100.00 ela: 00:00:02 rem: 01:23:52\u001b[2K\u001b[G   0.1% [>                           ] 0.05/100.00 ela: 00:00:02 rem: 01:23:26\u001b[2K\u001b[G   0.1% [>                           ] 0.06/100.00 ela: 00:00:02 rem: 01:21:40\u001b[2K\u001b[G   0.1% [>                           ] 0.06/100.00 ela: 00:00:03 rem: 01:19:35\u001b[2K\u001b[G   0.1% [>                           ] 0.07/100.00 ela: 00:00:03 rem: 01:19:39\u001b[2K\u001b[G   0.1% [>                           ] 0.07/100.00 ela: 00:00:03 rem: 01:17:20\u001b[2K\u001b[G   0.1% [>                           ] 0.08/100.00 ela: 00:00:03 rem: 01:15:33\u001b[2K\u001b[G   0.1% [>                           ] 0.12/100.00 ela: 00:00:03 rem: 00:54:36\u001b[2K\u001b[G   0.1% [>                           ] 0.13/100.00 ela: 00:00:04 rem: 00:54:47\u001b[2K\u001b[G   0.1% [>                           ] 0.13/100.00 ela: 00:00:04 rem: 00:55:02\u001b[2K\u001b[G   0.1% [>                           ] 0.14/100.00 ela: 00:00:04 rem: 00:55:39\u001b[2K\u001b[G   0.1% [>                           ] 0.14/100.00 ela: 00:00:04 rem: 00:55:19\u001b[2K\u001b[G   0.1% [>                           ] 0.15/100.00 ela: 00:00:04 rem: 00:55:06\u001b[2K\u001b[G   0.2% [>                           ] 0.15/100.00 ela: 00:00:04 rem: 00:54:51\u001b[2K\u001b[G   0.2% [>                           ] 0.16/100.00 ela: 00:00:05 rem: 00:54:24\u001b[2K\u001b[G   0.2% [>                           ] 0.16/100.00 ela: 00:00:05 rem: 00:54:08\u001b[2K\u001b[G   0.2% [>                           ] 0.17/100.00 ela: 00:00:05 rem: 00:54:20\u001b[2K\u001b[G   0.2% [>                           ] 0.17/100.00 ela: 00:00:05 rem: 00:55:13\u001b[2K\u001b[G   0.2% [>                           ] 0.18/100.00 ela: 00:00:05 rem: 00:55:30\u001b[2K\u001b[G   0.2% [>                           ] 0.18/100.00 ela: 00:00:05 rem: 00:55:18\u001b[2K\u001b[G   0.2% [>                           ] 0.19/100.00 ela: 00:00:06 rem: 00:56:07\u001b[2K\u001b[G   0.2% [>                           ] 0.19/100.00 ela: 00:00:06 rem: 00:56:02\u001b[2K\u001b[G   0.2% [>                           ] 0.20/100.00 ela: 00:00:06 rem: 00:56:49\u001b[2K\u001b[G   0.2% [>                           ] 0.20/100.00 ela: 00:00:06 rem: 00:56:50\u001b[2K\u001b[G   0.2% [>                           ] 0.21/100.00 ela: 00:00:07 rem: 00:56:51\u001b[2K\u001b[G   0.2% [>                           ] 0.21/100.00 ela: 00:00:07 rem: 00:56:41\u001b[2K\u001b[G   0.2% [>                           ] 0.22/100.00 ela: 00:00:07 rem: 00:56:41\u001b[2K\u001b[G   0.2% [>                           ] 0.22/100.00 ela: 00:00:07 rem: 00:56:40\u001b[2K\u001b[G   0.2% [>                           ] 0.23/100.00 ela: 00:00:07 rem: 00:57:02\u001b[2K\u001b[G   0.2% [>                           ] 0.23/100.00 ela: 00:00:07 rem: 00:56:53\u001b[2K\u001b[G   0.2% [>                           ] 0.24/100.00 ela: 00:00:08 rem: 00:56:49\u001b[2K\u001b[G   0.2% [>                           ] 0.24/100.00 ela: 00:00:08 rem: 00:56:49\u001b[2K\u001b[G   0.2% [>                           ] 0.25/100.00 ela: 00:00:08 rem: 00:56:34\u001b[2K\u001b[G   0.3% [>                           ] 0.25/100.00 ela: 00:00:08 rem: 00:56:37\u001b[2K\u001b[G   0.3% [>                           ] 0.26/100.00 ela: 00:00:08 rem: 00:56:39\u001b[2K\u001b[G   0.3% [>                           ] 0.26/100.00 ela: 00:00:08 rem: 00:57:06\u001b[2K\u001b[G   0.3% [>                           ] 0.27/100.00 ela: 00:00:09 rem: 00:57:13\u001b[2K\u001b[G   0.3% [>                           ] 0.27/100.00 ela: 00:00:09 rem: 00:57:34\u001b[2K\u001b[G   0.3% [>                           ] 0.28/100.00 ela: 00:00:09 rem: 00:57:56\u001b[2K\u001b[G   0.3% [>                           ] 0.28/100.00 ela: 00:00:09 rem: 00:58:19\u001b[2K\u001b[G   0.3% [>                           ] 0.29/100.00 ela: 00:00:10 rem: 00:58:19\u001b[2K\u001b[G   0.3% [>                           ] 0.29/100.00 ela: 00:00:10 rem: 00:58:17\u001b[2K\u001b[G   0.3% [>                           ] 0.30/100.00 ela: 00:00:10 rem: 00:58:43\u001b[2K\u001b[G   0.3% [>                           ] 0.30/100.00 ela: 00:00:10 rem: 00:59:15\u001b[2K\u001b[G   0.3% [>                           ] 0.31/100.00 ela: 00:00:10 rem: 00:59:26\u001b[2K\u001b[G   0.3% [>                           ] 0.31/100.00 ela: 00:00:11 rem: 00:59:28\u001b[2K\u001b[G   0.3% [>                           ] 0.32/100.00 ela: 00:00:11 rem: 00:59:19\u001b[2K\u001b[G   0.3% [>                           ] 0.32/100.00 ela: 00:00:11 rem: 00:59:15\u001b[2K\u001b[G   0.3% [>                           ] 0.33/100.00 ela: 00:00:11 rem: 00:59:20\u001b[2K\u001b[G   0.3% [>                           ] 0.33/100.00 ela: 00:00:11 rem: 00:59:20\u001b[2K\u001b[G   0.3% [>                           ] 0.34/100.00 ela: 00:00:11 rem: 00:59:10\u001b[2K\u001b[G   0.3% [>                           ] 0.34/100.00 ela: 00:00:12 rem: 00:59:06\u001b[2K\u001b[G   0.3% [>                           ] 0.35/100.00 ela: 00:00:12 rem: 00:59:40\u001b[2K\u001b[G   0.4% [>                           ] 0.35/100.00 ela: 00:00:12 rem: 01:00:16\u001b[2K\u001b[G   0.4% [>                           ] 0.36/100.00 ela: 00:00:12 rem: 01:00:11\u001b[2K\u001b[G   0.4% [>                           ] 0.36/100.00 ela: 00:00:13 rem: 01:00:12\u001b[2K\u001b[G   0.4% [>                           ] 0.37/100.00 ela: 00:00:13 rem: 01:00:41\u001b[2K\u001b[G   0.4% [>                           ] 0.37/100.00 ela: 00:00:13 rem: 01:00:51\u001b[2K\u001b[G   0.4% [>                           ] 0.38/100.00 ela: 00:00:13 rem: 01:01:04\u001b[2K\u001b[G   0.4% [>                           ] 0.38/100.00 ela: 00:00:13 rem: 01:00:51\u001b[2K\u001b[G   0.4% [>                           ] 0.39/100.00 ela: 00:00:14 rem: 01:01:38\u001b[2K\u001b[G   0.4% [>                           ] 0.39/100.00 ela: 00:00:14 rem: 01:02:00\u001b[2K\u001b[G   0.4% [>                           ] 0.40/100.00 ela: 00:00:14 rem: 01:02:17\u001b[2K\u001b[G   0.4% [>                           ] 0.40/100.00 ela: 00:00:15 rem: 01:03:01\u001b[2K\u001b[G   0.4% [>                           ] 0.41/100.00 ela: 00:00:15 rem: 01:03:14\u001b[2K\u001b[G   0.4% [>                           ] 0.41/100.00 ela: 00:00:15 rem: 01:03:13\u001b[2K\u001b[G   0.4% [>                           ] 0.42/100.00 ela: 00:00:15 rem: 01:03:53\u001b[2K\u001b[G   0.4% [>                           ] 0.42/100.00 ela: 00:00:16 rem: 01:04:28\u001b[2K\u001b[G   0.4% [>                           ] 0.43/100.00 ela: 00:00:16 rem: 01:04:56\u001b[2K\u001b[G   0.4% [>                           ] 0.43/100.00 ela: 00:00:16 rem: 01:04:56\u001b[2K\u001b[G   0.4% [>                           ] 0.44/100.00 ela: 00:00:17 rem: 01:05:35\u001b[2K\u001b[G   0.4% [>                           ] 0.44/100.00 ela: 00:00:17 rem: 01:05:39\u001b[2K\u001b[G   0.4% [>                           ] 0.45/100.00 ela: 00:00:17 rem: 01:05:29\u001b[2K\u001b[G   0.5% [>                           ] 0.45/100.00 ela: 00:00:17 rem: 01:05:54\u001b[2K\u001b[G   0.5% [>                           ] 0.46/100.00 ela: 00:00:18 rem: 01:06:23\u001b[2K\u001b[G   0.5% [>                           ] 0.46/100.00 ela: 00:00:18 rem: 01:06:15\u001b[2K\u001b[G   0.5% [>                           ] 0.47/100.00 ela: 00:00:18 rem: 01:06:12\u001b[2K\u001b[G   0.5% [>                           ] 0.47/100.00 ela: 00:00:18 rem: 01:06:11\u001b[2K\u001b[G   0.5% [>                           ] 0.48/100.00 ela: 00:00:19 rem: 01:06:27\u001b[2K\u001b[G   0.5% [>                           ] 0.48/100.00 ela: 00:00:19 rem: 01:06:46\u001b[2K\u001b[G   0.5% [>                           ] 0.49/100.00 ela: 00:00:19 rem: 01:06:37\u001b[2K\u001b[G   0.5% [>                           ] 0.49/100.00 ela: 00:00:19 rem: 01:07:01\u001b[2K\u001b[G   0.5% [>                           ] 0.50/100.00 ela: 00:00:20 rem: 01:07:06\u001b[2K\u001b[G   0.5% [>                           ] 0.50/100.00 ela: 00:00:20 rem: 01:07:06\u001b[2K\u001b[G   0.5% [>                           ] 0.51/100.00 ela: 00:00:20 rem: 01:06:58\u001b[2K\u001b[G   0.5% [>                           ] 0.51/100.00 ela: 00:00:20 rem: 01:07:26\u001b[2K\u001b[G   0.5% [>                           ] 0.52/100.00 ela: 00:00:21 rem: 01:07:55\u001b[2K\u001b[G   0.5% [>                           ] 0.52/100.00 ela: 00:00:21 rem: 01:08:27"
     ]
    },
    {
     "name": "stdout",
     "output_type": "stream",
     "text": [
      "\u001b[2K\u001b[G   0.5% [>                           ] 0.53/100.00 ela: 00:00:21 rem: 01:08:33\u001b[2K\u001b[G   0.5% [>                           ] 0.53/100.00 ela: 00:00:22 rem: 01:08:52\u001b[2K\u001b[G   0.5% [>                           ] 0.54/100.00 ela: 00:00:22 rem: 01:09:03\u001b[2K\u001b[G   0.5% [>                           ] 0.54/100.00 ela: 00:00:22 rem: 01:09:11\u001b[2K\u001b[G   0.5% [>                           ] 0.55/100.00 ela: 00:00:22 rem: 01:09:45\u001b[2K\u001b[G   0.6% [>                           ] 0.55/100.00 ela: 00:00:23 rem: 01:09:49\u001b[2K\u001b[G   0.6% [>                           ] 0.56/100.00 ela: 00:00:23 rem: 01:09:52\u001b[2K\u001b[G   0.6% [>                           ] 0.59/100.00 ela: 00:00:23 rem: 01:05:59\u001b[2K\u001b[G   0.6% [>                           ] 0.65/100.00 ela: 00:00:23 rem: 01:00:35\u001b[2K\u001b[G   0.7% [>                           ] 0.71/100.00 ela: 00:00:23 rem: 00:55:21\u001b[2K\u001b[G   0.8% [>                           ] 0.75/100.00 ela: 00:00:23 rem: 00:52:37\u001b[2K\u001b[G   0.8% [>                           ] 0.79/100.00 ela: 00:00:24 rem: 00:50:28\u001b[2K\u001b[G   0.8% [>                           ] 0.80/100.00 ela: 00:00:24 rem: 00:50:56\u001b[2K\u001b[G   0.8% [>                           ] 0.80/100.00 ela: 00:00:24 rem: 00:51:21\u001b[2K\u001b[G   0.8% [>                           ] 0.81/100.00 ela: 00:00:25 rem: 00:51:45\u001b[2K\u001b[G   0.8% [>                           ] 0.81/100.00 ela: 00:00:25 rem: 00:52:14\u001b[2K\u001b[G   0.8% [>                           ] 0.82/100.00 ela: 00:00:25 rem: 00:52:31\u001b[2K\u001b[G   0.8% [>                           ] 0.82/100.00 ela: 00:00:26 rem: 00:52:45\u001b[2K\u001b[G   0.8% [>                           ] 0.83/100.00 ela: 00:00:26 rem: 00:53:02\u001b[2K\u001b[G   0.8% [>                           ] 0.85/100.00 ela: 00:00:26 rem: 00:52:09\u001b[2K\u001b[G   0.9% [>                           ] 0.85/100.00 ela: 00:00:27 rem: 00:52:38\u001b[2K\u001b[G   0.9% [>                           ] 0.86/100.00 ela: 00:00:27 rem: 00:52:54\u001b[2K\u001b[G   0.9% [>                           ] 0.86/100.00 ela: 00:00:27 rem: 00:53:05\u001b[2K\u001b[G   0.9% [>                           ] 0.87/100.00 ela: 00:00:27 rem: 00:53:08\u001b[2K\u001b[G   0.9% [>                           ] 0.87/100.00 ela: 00:00:28 rem: 00:53:13\u001b[2K\u001b[G   0.9% [>                           ] 0.88/100.00 ela: 00:00:28 rem: 00:53:37\u001b[2K\u001b[G   0.9% [>                           ] 0.88/100.00 ela: 00:00:28 rem: 00:54:02\u001b[2K\u001b[G   0.9% [>                           ] 0.89/100.00 ela: 00:00:29 rem: 00:54:20\u001b[2K\u001b[G   0.9% [>                           ] 0.89/100.00 ela: 00:00:29 rem: 00:54:32\u001b[2K\u001b[G   0.9% [>                           ] 0.90/100.00 ela: 00:00:29 rem: 00:54:59\u001b[2K\u001b[G   0.9% [>                           ] 0.90/100.00 ela: 00:00:30 rem: 00:55:19\u001b[2K\u001b[G   0.9% [>                           ] 0.91/100.00 ela: 00:00:30 rem: 00:55:18\u001b[2K\u001b[G   0.9% [>                           ] 0.91/100.00 ela: 00:00:30 rem: 00:55:17\u001b[2K\u001b[G   0.9% [>                           ] 0.92/100.00 ela: 00:00:30 rem: 00:55:17\u001b[2K\u001b[G   0.9% [>                           ] 0.92/100.00 ela: 00:00:30 rem: 00:55:25\u001b[2K\u001b[G   0.9% [>                           ] 0.93/100.00 ela: 00:00:31 rem: 00:55:38\u001b[2K\u001b[G   0.9% [>                           ] 0.93/100.00 ela: 00:00:31 rem: 00:55:44\u001b[2K\u001b[G   0.9% [>                           ] 0.94/100.00 ela: 00:00:31 rem: 00:55:57\u001b[2K\u001b[G   0.9% [>                           ] 0.94/100.00 ela: 00:00:31 rem: 00:55:59\u001b[2K\u001b[G   0.9% [>                           ] 0.95/100.00 ela: 00:00:32 rem: 00:56:06\u001b[2K\u001b[G   1.0% [>                           ] 0.95/100.00 ela: 00:00:32 rem: 00:56:04\u001b[2K\u001b[G   1.0% [>                           ] 0.96/100.00 ela: 00:00:32 rem: 00:56:06\u001b[2K\u001b[G   1.0% [>                           ] 0.96/100.00 ela: 00:00:32 rem: 00:56:15\u001b[2K\u001b[G   1.0% [>                           ] 0.97/100.00 ela: 00:00:32 rem: 00:56:21\u001b[2K\u001b[G   1.0% [>                           ] 0.97/100.00 ela: 00:00:33 rem: 00:56:37\u001b[2K\u001b[G   1.0% [>                           ] 0.98/100.00 ela: 00:00:33 rem: 00:56:47\u001b[2K\u001b[G   1.0% [>                           ] 1.03/100.00 ela: 00:00:33 rem: 00:54:24\u001b[2K\u001b[G   1.0% [>                           ] 1.03/100.00 ela: 00:00:34 rem: 00:54:32\u001b[2K\u001b[G   1.0% [>                           ] 1.03/100.00 ela: 00:00:34 rem: 00:54:30\u001b[2K\u001b[G   1.0% [>                           ] 1.04/100.00 ela: 00:00:34 rem: 00:54:38\u001b[2K\u001b[G   1.0% [>                           ] 1.04/100.00 ela: 00:00:34 rem: 00:54:39\u001b[2K\u001b[G   1.0% [>                           ] 1.05/100.00 ela: 00:00:34 rem: 00:54:38\u001b[2K\u001b[G   1.1% [>                           ] 1.05/100.00 ela: 00:00:34 rem: 00:54:38\u001b[2K\u001b[G   1.1% [>                           ] 1.06/100.00 ela: 00:00:35 rem: 00:54:37\u001b[2K\u001b[G   1.1% [>                           ] 1.06/100.00 ela: 00:00:35 rem: 00:54:46\u001b[2K\u001b[G   1.1% [>                           ] 1.07/100.00 ela: 00:00:35 rem: 00:55:04\u001b[2K\u001b[G   1.1% [>                           ] 1.07/100.00 ela: 00:00:35 rem: 00:55:04\u001b[2K\u001b[G   1.1% [>                           ] 1.08/100.00 ela: 00:00:36 rem: 00:55:12\u001b[2K\u001b[G   1.1% [>                           ] 1.08/100.00 ela: 00:00:36 rem: 00:55:24\u001b[2K\u001b[G   1.1% [>                           ] 1.09/100.00 ela: 00:00:36 rem: 00:55:25\u001b[2K\u001b[G   1.1% [>                           ] 1.09/100.00 ela: 00:00:36 rem: 00:55:35\u001b[2K\u001b[G   1.1% [>                           ] 1.10/100.00 ela: 00:00:37 rem: 00:55:48\u001b[2K\u001b[G   1.1% [>                           ] 1.10/100.00 ela: 00:00:37 rem: 00:55:50\u001b[2K\u001b[G   1.1% [>                           ] 1.11/100.00 ela: 00:00:37 rem: 00:55:59\u001b[2K\u001b[G   1.1% [>                           ] 1.11/100.00 ela: 00:00:38 rem: 00:56:17\u001b[2K\u001b[G   1.1% [>                           ] 1.12/100.00 ela: 00:00:38 rem: 00:56:25\u001b[2K\u001b[G   1.1% [>                           ] 1.12/100.00 ela: 00:00:38 rem: 00:56:41\u001b[2K\u001b[G   1.1% [>                           ] 1.13/100.00 ela: 00:00:38 rem: 00:56:48\u001b[2K\u001b[G   1.1% [>                           ] 1.13/100.00 ela: 00:00:39 rem: 00:56:52\u001b[2K\u001b[G   1.1% [>                           ] 1.14/100.00 ela: 00:00:39 rem: 00:57:00\u001b[2K\u001b[G   1.1% [>                           ] 1.14/100.00 ela: 00:00:39 rem: 00:57:02\u001b[2K\u001b[G   1.1% [>                           ] 1.15/100.00 ela: 00:00:40 rem: 00:57:19\u001b[2K\u001b[G   1.2% [>                           ] 1.15/100.00 ela: 00:00:40 rem: 00:57:37\u001b[2K\u001b[G   1.2% [>                           ] 1.16/100.00 ela: 00:00:40 rem: 00:57:35\u001b[2K\u001b[G   1.2% [>                           ] 1.17/100.00 ela: 00:00:40 rem: 00:57:37\u001b[2K\u001b[G   1.2% [>                           ] 1.17/100.00 ela: 00:00:41 rem: 00:57:43\u001b[2K\u001b[G   1.2% [>                           ] 1.18/100.00 ela: 00:00:41 rem: 00:57:58\u001b[2K\u001b[G   1.2% [>                           ] 1.18/100.00 ela: 00:00:41 rem: 00:58:08\u001b[2K\u001b[G   1.2% [>                           ] 1.19/100.00 ela: 00:00:42 rem: 00:58:21\u001b[2K\u001b[G   1.2% [>                           ] 1.19/100.00 ela: 00:00:42 rem: 00:58:34\u001b[2K\u001b[G   1.2% [>                           ] 1.20/100.00 ela: 00:00:42 rem: 00:58:50\u001b[2K\u001b[G   1.2% [>                           ] 1.20/100.00 ela: 00:00:43 rem: 00:59:06\u001b[2K\u001b[G   1.2% [>                           ] 1.21/100.00 ela: 00:00:43 rem: 00:59:25\u001b[2K\u001b[G   1.2% [>                           ] 1.21/100.00 ela: 00:00:43 rem: 00:59:34\u001b[2K\u001b[G   1.2% [>                           ] 1.22/100.00 ela: 00:00:44 rem: 00:59:34\u001b[2K\u001b[G   1.2% [>                           ] 1.22/100.00 ela: 00:00:44 rem: 00:59:33\u001b[2K\u001b[G   1.2% [>                           ] 1.23/100.00 ela: 00:00:44 rem: 00:59:39\u001b[2K\u001b[G   1.2% [>                           ] 1.23/100.00 ela: 00:00:44 rem: 00:59:39\u001b[2K\u001b[G   1.2% [>                           ] 1.24/100.00 ela: 00:00:45 rem: 00:59:46\u001b[2K\u001b[G   1.2% [>                           ] 1.24/100.00 ela: 00:00:45 rem: 00:59:54\u001b[2K\u001b[G   1.2% [>                           ] 1.25/100.00 ela: 00:00:45 rem: 01:00:03\u001b[2K\u001b[G   1.3% [>                           ] 1.25/100.00 ela: 00:00:45 rem: 01:00:00\u001b[2K\u001b[G   1.3% [>                           ] 1.26/100.00 ela: 00:00:46 rem: 01:00:06\u001b[2K\u001b[G   1.3% [>                           ] 1.26/100.00 ela: 00:00:46 rem: 01:00:04\u001b[2K\u001b[G   1.3% [>                           ] 1.27/100.00 ela: 00:00:46 rem: 01:00:10\u001b[2K\u001b[G   1.3% [>                           ] 1.27/100.00 ela: 00:00:46 rem: 01:00:11\u001b[2K\u001b[G   1.3% [>                           ] 1.28/100.00 ela: 00:00:46 rem: 01:00:14"
     ]
    },
    {
     "name": "stdout",
     "output_type": "stream",
     "text": [
      "\u001b[2K\u001b[G   1.3% [>                           ] 1.28/100.00 ela: 00:00:47 rem: 01:00:22\u001b[2K\u001b[G   1.3% [>                           ] 1.29/100.00 ela: 00:00:47 rem: 01:00:24\u001b[2K\u001b[G   1.3% [>                           ] 1.29/100.00 ela: 00:00:47 rem: 01:00:26\u001b[2K\u001b[G   1.3% [>                           ] 1.30/100.00 ela: 00:00:47 rem: 01:00:29\u001b[2K\u001b[G   1.3% [>                           ] 1.30/100.00 ela: 00:00:48 rem: 01:00:35\u001b[2K\u001b[G   1.3% [>                           ] 1.31/100.00 ela: 00:00:48 rem: 01:00:41\u001b[2K\u001b[G   1.3% [>                           ] 1.31/100.00 ela: 00:00:48 rem: 01:00:54\u001b[2K\u001b[G   1.3% [>                           ] 1.32/100.00 ela: 00:00:48 rem: 01:01:02\u001b[2K\u001b[G   1.3% [>                           ] 1.32/100.00 ela: 00:00:49 rem: 01:01:07\u001b[2K\u001b[G   1.3% [>                           ] 1.33/100.00 ela: 00:00:49 rem: 01:01:11\u001b[2K\u001b[G   1.3% [>                           ] 1.33/100.00 ela: 00:00:49 rem: 01:01:19\u001b[2K\u001b[G   1.3% [>                           ] 1.34/100.00 ela: 00:00:49 rem: 01:01:19\u001b[2K\u001b[G   1.3% [>                           ] 1.34/100.00 ela: 00:00:50 rem: 01:01:16\u001b[2K\u001b[G   1.3% [>                           ] 1.35/100.00 ela: 00:00:50 rem: 01:01:13\u001b[2K\u001b[G   1.4% [>                           ] 1.35/100.00 ela: 00:00:50 rem: 01:01:11\u001b[2K\u001b[G   1.4% [>                           ] 1.36/100.00 ela: 00:00:50 rem: 01:01:15\u001b[2K\u001b[G   1.4% [>                           ] 1.36/100.00 ela: 00:00:50 rem: 01:01:18\u001b[2K\u001b[G   1.4% [>                           ] 1.37/100.00 ela: 00:00:51 rem: 01:01:20\u001b[2K\u001b[G   1.4% [>                           ] 1.37/100.00 ela: 00:00:51 rem: 01:01:26\u001b[2K\u001b[G   1.4% [>                           ] 1.38/100.00 ela: 00:00:51 rem: 01:01:27\u001b[2K\u001b[G   1.4% [>                           ] 1.38/100.00 ela: 00:00:51 rem: 01:01:31\u001b[2K\u001b[G   1.4% [>                           ] 1.39/100.00 ela: 00:00:52 rem: 01:01:31\u001b[2K\u001b[G   1.4% [>                           ] 1.39/100.00 ela: 00:00:52 rem: 01:01:28\u001b[2K\u001b[G   1.4% [>                           ] 1.40/100.00 ela: 00:00:52 rem: 01:01:31\u001b[2K\u001b[G   1.4% [>                           ] 1.40/100.00 ela: 00:00:52 rem: 01:01:36\u001b[2K\u001b[G   1.4% [>                           ] 1.41/100.00 ela: 00:00:52 rem: 01:01:39\u001b[2K\u001b[G   1.4% [>                           ] 1.41/100.00 ela: 00:00:53 rem: 01:01:44\u001b[2K\u001b[G   1.4% [>                           ] 1.42/100.00 ela: 00:00:53 rem: 01:01:40\u001b[2K\u001b[G   1.4% [>                           ] 1.42/100.00 ela: 00:00:53 rem: 01:01:42\u001b[2K\u001b[G   1.4% [>                           ] 1.43/100.00 ela: 00:00:53 rem: 01:01:41\u001b[2K\u001b[G   1.4% [>                           ] 1.43/100.00 ela: 00:00:53 rem: 01:01:43\u001b[2K\u001b[G   1.4% [>                           ] 1.44/100.00 ela: 00:00:54 rem: 01:01:40\u001b[2K\u001b[G   1.4% [>                           ] 1.44/100.00 ela: 00:00:54 rem: 01:01:36\u001b[2K\u001b[G   1.4% [>                           ] 1.45/100.00 ela: 00:00:54 rem: 01:01:35\u001b[2K\u001b[G   1.5% [>                           ] 1.45/100.00 ela: 00:00:54 rem: 01:01:37\u001b[2K\u001b[G   1.5% [>                           ] 1.46/100.00 ela: 00:00:54 rem: 01:01:37\u001b[2K\u001b[G   1.5% [>                           ] 1.46/100.00 ela: 00:00:54 rem: 01:01:36\u001b[2K\u001b[G   1.5% [>                           ] 1.47/100.00 ela: 00:00:55 rem: 01:01:36\u001b[2K\u001b[G   1.5% [>                           ] 1.47/100.00 ela: 00:00:55 rem: 01:01:42\u001b[2K\u001b[G   1.5% [>                           ] 1.48/100.00 ela: 00:00:55 rem: 01:01:42\u001b[2K\u001b[G   1.5% [>                           ] 1.48/100.00 ela: 00:00:55 rem: 01:01:50\u001b[2K\u001b[G   1.5% [>                           ] 1.49/100.00 ela: 00:00:56 rem: 01:01:57\u001b[2K\u001b[G   1.5% [>                           ] 1.49/100.00 ela: 00:00:56 rem: 01:02:11\u001b[2K\u001b[G   1.5% [>                           ] 1.50/100.00 ela: 00:00:56 rem: 01:02:21\u001b[2K\u001b[G   1.5% [>                           ] 1.50/100.00 ela: 00:00:57 rem: 01:02:29\u001b[2K\u001b[G   1.5% [>                           ] 1.51/100.00 ela: 00:00:57 rem: 01:02:33\u001b[2K\u001b[G   1.5% [>                           ] 1.51/100.00 ela: 00:00:57 rem: 01:02:32\u001b[2K\u001b[G   1.5% [>                           ] 1.52/100.00 ela: 00:00:57 rem: 01:02:35\u001b[2K\u001b[G   1.5% [>                           ] 1.52/100.00 ela: 00:00:58 rem: 01:02:36\u001b[2K\u001b[G   1.5% [>                           ] 1.53/100.00 ela: 00:00:58 rem: 01:02:37\u001b[2K\u001b[G   1.5% [>                           ] 1.53/100.00 ela: 00:00:58 rem: 01:02:41\u001b[2K\u001b[G   1.5% [>                           ] 1.54/100.00 ela: 00:00:58 rem: 01:02:38\u001b[2K\u001b[G   1.5% [>                           ] 1.54/100.00 ela: 00:00:58 rem: 01:02:35\u001b[2K\u001b[G   1.5% [>                           ] 1.55/100.00 ela: 00:00:59 rem: 01:02:34\u001b[2K\u001b[G   1.6% [>                           ] 1.55/100.00 ela: 00:00:59 rem: 01:02:31\u001b[2K\u001b[G   1.6% [>                           ] 1.56/100.00 ela: 00:00:59 rem: 01:02:30\u001b[2K\u001b[G   1.6% [>                           ] 1.56/100.00 ela: 00:00:59 rem: 01:02:28\u001b[2K\u001b[G   1.6% [>                           ] 1.57/100.00 ela: 00:00:59 rem: 01:02:31\u001b[2K\u001b[G   1.6% [>                           ] 1.57/100.00 ela: 00:00:59 rem: 01:02:28\u001b[2K\u001b[G   1.6% [>                           ] 1.58/100.00 ela: 00:01:00 rem: 01:02:27\u001b[2K\u001b[G   1.6% [>                           ] 1.58/100.00 ela: 00:01:00 rem: 01:02:35\u001b[2K\u001b[G   1.6% [>                           ] 1.59/100.00 ela: 00:01:00 rem: 01:02:41\u001b[2K\u001b[G   1.6% [>                           ] 1.59/100.00 ela: 00:01:01 rem: 01:02:44\u001b[2K\u001b[G   1.6% [>                           ] 1.60/100.00 ela: 00:01:01 rem: 01:02:44\u001b[2K\u001b[G   1.6% [>                           ] 1.60/100.00 ela: 00:01:01 rem: 01:02:47\u001b[2K\u001b[G   1.6% [>                           ] 1.61/100.00 ela: 00:01:01 rem: 01:02:50\u001b[2K\u001b[G   1.6% [>                           ] 1.61/100.00 ela: 00:01:01 rem: 01:02:53\u001b[2K\u001b[G   1.6% [>                           ] 1.62/100.00 ela: 00:01:02 rem: 01:02:52\u001b[2K\u001b[G   1.6% [>                           ] 1.62/100.00 ela: 00:01:02 rem: 01:02:54\u001b[2K\u001b[G   1.6% [>                           ] 1.63/100.00 ela: 00:01:02 rem: 01:02:56\u001b[2K\u001b[G   1.6% [>                           ] 1.63/100.00 ela: 00:01:02 rem: 01:03:02\u001b[2K\u001b[G   1.6% [>                           ] 1.64/100.00 ela: 00:01:03 rem: 01:03:07\u001b[2K\u001b[G   1.6% [>                           ] 1.64/100.00 ela: 00:01:03 rem: 01:03:05\u001b[2K\u001b[G   1.6% [>                           ] 1.65/100.00 ela: 00:01:03 rem: 01:03:10\u001b[2K\u001b[G   1.7% [>                           ] 1.65/100.00 ela: 00:01:03 rem: 01:03:12\u001b[2K\u001b[G   1.7% [>                           ] 1.66/100.00 ela: 00:01:04 rem: 01:03:14\u001b[2K\u001b[G   1.7% [>                           ] 1.66/100.00 ela: 00:01:04 rem: 01:03:14\u001b[2K\u001b[G   1.7% [>                           ] 1.67/100.00 ela: 00:01:04 rem: 01:03:22\u001b[2K\u001b[G   1.7% [>                           ] 1.67/100.00 ela: 00:01:04 rem: 01:03:24\u001b[2K\u001b[G   1.7% [>                           ] 1.68/100.00 ela: 00:01:05 rem: 01:03:24\u001b[2K\u001b[G   1.7% [>                           ] 1.68/100.00 ela: 00:01:05 rem: 01:03:23\u001b[2K\u001b[G   1.7% [>                           ] 1.69/100.00 ela: 00:01:05 rem: 01:03:23\u001b[2K\u001b[G   1.7% [>                           ] 1.70/100.00 ela: 00:01:05 rem: 01:03:19\u001b[2K\u001b[G   1.7% [>                           ] 1.70/100.00 ela: 00:01:05 rem: 01:03:22\u001b[2K\u001b[G   1.7% [>                           ] 1.71/100.00 ela: 00:01:06 rem: 01:03:29\u001b[2K\u001b[G   1.7% [>                           ] 1.71/100.00 ela: 00:01:06 rem: 01:03:35\u001b[2K\u001b[G   1.7% [>                           ] 1.72/100.00 ela: 00:01:06 rem: 01:03:36\u001b[2K\u001b[G   1.7% [>                           ] 1.72/100.00 ela: 00:01:07 rem: 01:03:41\u001b[2K\u001b[G   1.7% [>                           ] 1.73/100.00 ela: 00:01:07 rem: 01:03:42\u001b[2K\u001b[G   1.7% [>                           ] 1.73/100.00 ela: 00:01:07 rem: 01:03:47\u001b[2K\u001b[G   1.7% [>                           ] 1.74/100.00 ela: 00:01:07 rem: 01:03:45\u001b[2K\u001b[G   1.7% [>                           ] 1.74/100.00 ela: 00:01:07 rem: 01:03:46\u001b[2K\u001b[G   1.7% [>                           ] 1.75/100.00 ela: 00:01:08 rem: 01:03:46\u001b[2K\u001b[G   1.8% [>                           ] 1.75/100.00 ela: 00:01:08 rem: 01:03:46\u001b[2K\u001b[G   1.8% [>                           ] 1.76/100.00 ela: 00:01:08 rem: 01:03:45\u001b[2K\u001b[G   1.8% [>                           ] 1.76/100.00 ela: 00:01:08 rem: 01:03:52\u001b[2K\u001b[G   1.8% [>                           ] 1.77/100.00 ela: 00:01:09 rem: 01:03:59"
     ]
    },
    {
     "name": "stdout",
     "output_type": "stream",
     "text": [
      "\u001b[2K\u001b[G   1.8% [>                           ] 1.77/100.00 ela: 00:01:09 rem: 01:04:01\u001b[2K\u001b[G   1.8% [>                           ] 1.78/100.00 ela: 00:01:09 rem: 01:03:58\u001b[2K\u001b[G   1.8% [>                           ] 1.78/100.00 ela: 00:01:09 rem: 01:03:55\u001b[2K\u001b[G   1.8% [>                           ] 1.79/100.00 ela: 00:01:09 rem: 01:03:53\u001b[2K\u001b[G   1.8% [>                           ] 1.79/100.00 ela: 00:01:10 rem: 01:03:51\u001b[2K\u001b[G   1.8% [>                           ] 1.80/100.00 ela: 00:01:10 rem: 01:03:52\u001b[2K\u001b[G   1.8% [>                           ] 1.80/100.00 ela: 00:01:10 rem: 01:03:52\u001b[2K\u001b[G   1.8% [>                           ] 1.81/100.00 ela: 00:01:10 rem: 01:03:59\u001b[2K\u001b[G   1.8% [>                           ] 1.81/100.00 ela: 00:01:10 rem: 01:04:00\u001b[2K\u001b[G   1.8% [>                           ] 1.82/100.00 ela: 00:01:11 rem: 01:04:05\u001b[2K\u001b[G   1.8% [>                           ] 1.82/100.00 ela: 00:01:11 rem: 01:04:05\u001b[2K\u001b[G   1.8% [>                           ] 1.83/100.00 ela: 00:01:11 rem: 01:04:13\u001b[2K\u001b[G   1.8% [>                           ] 1.83/100.00 ela: 00:01:12 rem: 01:04:14\u001b[2K\u001b[G   1.8% [>                           ] 1.84/100.00 ela: 00:01:12 rem: 01:04:18\u001b[2K\u001b[G   1.8% [>                           ] 1.84/100.00 ela: 00:01:12 rem: 01:04:15\u001b[2K\u001b[G   1.8% [>                           ] 1.85/100.00 ela: 00:01:12 rem: 01:04:22\u001b[2K\u001b[G   1.9% [=>                          ] 1.85/100.00 ela: 00:01:13 rem: 01:04:24\u001b[2K\u001b[G   1.9% [=>                          ] 1.86/100.00 ela: 00:01:13 rem: 01:04:24\u001b[2K\u001b[G   1.9% [=>                          ] 1.86/100.00 ela: 00:01:13 rem: 01:04:30\u001b[2K\u001b[G   1.9% [=>                          ] 1.87/100.00 ela: 00:01:13 rem: 01:04:30\u001b[2K\u001b[G   1.9% [=>                          ] 1.87/100.00 ela: 00:01:13 rem: 01:04:31\u001b[2K\u001b[G   1.9% [=>                          ] 1.88/100.00 ela: 00:01:14 rem: 01:04:33\u001b[2K\u001b[G   1.9% [=>                          ] 1.88/100.00 ela: 00:01:14 rem: 01:04:44\u001b[2K\u001b[G   1.9% [=>                          ] 1.89/100.00 ela: 00:01:14 rem: 01:04:43\u001b[2K\u001b[G   1.9% [=>                          ] 1.89/100.00 ela: 00:01:15 rem: 01:04:46\u001b[2K\u001b[G   1.9% [=>                          ] 1.90/100.00 ela: 00:01:15 rem: 01:04:45\u001b[2K\u001b[G   1.9% [=>                          ] 1.90/100.00 ela: 00:01:15 rem: 01:04:48\u001b[2K\u001b[G   1.9% [=>                          ] 1.91/100.00 ela: 00:01:15 rem: 01:04:48\u001b[2K\u001b[G   1.9% [=>                          ] 1.91/100.00 ela: 00:01:15 rem: 01:04:46\u001b[2K\u001b[G   1.9% [=>                          ] 1.92/100.00 ela: 00:01:16 rem: 01:04:48\u001b[2K\u001b[G   1.9% [=>                          ] 1.92/100.00 ela: 00:01:16 rem: 01:04:46\u001b[2K\u001b[G   1.9% [=>                          ] 1.93/100.00 ela: 00:01:16 rem: 01:04:43\u001b[2K\u001b[G   1.9% [=>                          ] 1.93/100.00 ela: 00:01:16 rem: 01:04:46\u001b[2K\u001b[G   1.9% [=>                          ] 1.94/100.00 ela: 00:01:16 rem: 01:04:46\u001b[2K\u001b[G   1.9% [=>                          ] 1.94/100.00 ela: 00:01:17 rem: 01:04:46\u001b[2K\u001b[G   1.9% [=>                          ] 1.95/100.00 ela: 00:01:17 rem: 01:04:45\u001b[2K\u001b[G   2.0% [=>                          ] 1.95/100.00 ela: 00:01:17 rem: 01:04:50\u001b[2K\u001b[G   2.0% [=>                          ] 1.96/100.00 ela: 00:01:17 rem: 01:04:54\u001b[2K\u001b[G   2.0% [=>                          ] 1.96/100.00 ela: 00:01:18 rem: 01:04:52\u001b[2K\u001b[G   2.0% [=>                          ] 1.97/100.00 ela: 00:01:18 rem: 01:04:53\u001b[2K\u001b[G   2.0% [=>                          ] 1.97/100.00 ela: 00:01:18 rem: 01:04:53\u001b[2K\u001b[G   2.0% [=>                          ] 1.98/100.00 ela: 00:01:18 rem: 01:04:54\u001b[2K\u001b[G   2.0% [=>                          ] 1.98/100.00 ela: 00:01:18 rem: 01:04:54\u001b[2K\u001b[G   2.0% [=>                          ] 1.99/100.00 ela: 00:01:19 rem: 01:04:57\u001b[2K\u001b[G   2.0% [=>                          ] 1.99/100.00 ela: 00:01:19 rem: 01:04:58\u001b[2K\u001b[G   2.0% [=>                          ] 2.00/100.00 ela: 00:01:19 rem: 01:04:57\u001b[2K\u001b[G   2.0% [=>                          ] 2.00/100.00 ela: 00:01:19 rem: 01:05:05\u001b[2K\u001b[G   2.0% [=>                          ] 2.01/100.00 ela: 00:01:20 rem: 01:05:10\u001b[2K\u001b[G   2.0% [=>                          ] 2.01/100.00 ela: 00:01:20 rem: 01:05:09\u001b[2K\u001b[G   2.0% [=>                          ] 2.02/100.00 ela: 00:01:20 rem: 01:05:12\u001b[2K\u001b[G   2.0% [=>                          ] 2.02/100.00 ela: 00:01:20 rem: 01:05:14\u001b[2K\u001b[G   2.0% [=>                          ] 2.03/100.00 ela: 00:01:21 rem: 01:05:16\u001b[2K\u001b[G   2.0% [=>                          ] 2.03/100.00 ela: 00:01:21 rem: 01:05:19\u001b[2K\u001b[G   2.0% [=>                          ] 2.04/100.00 ela: 00:01:21 rem: 01:05:27\u001b[2K\u001b[G   2.0% [=>                          ] 2.04/100.00 ela: 00:01:22 rem: 01:05:32\u001b[2K\u001b[G   2.0% [=>                          ] 2.05/100.00 ela: 00:01:22 rem: 01:05:31\u001b[2K\u001b[G   2.1% [=>                          ] 2.05/100.00 ela: 00:01:22 rem: 01:05:33\u001b[2K\u001b[G   2.1% [=>                          ] 2.06/100.00 ela: 00:01:22 rem: 01:05:38\u001b[2K\u001b[G   2.1% [=>                          ] 2.06/100.00 ela: 00:01:23 rem: 01:05:38\u001b[2K\u001b[G   2.1% [=>                          ] 2.07/100.00 ela: 00:01:23 rem: 01:05:38\u001b[2K\u001b[G   2.1% [=>                          ] 2.07/100.00 ela: 00:01:23 rem: 01:05:36\u001b[2K\u001b[G   2.1% [=>                          ] 2.08/100.00 ela: 00:01:23 rem: 01:05:37\u001b[2K\u001b[G   2.1% [=>                          ] 2.08/100.00 ela: 00:01:23 rem: 01:05:41\u001b[2K\u001b[G   2.1% [=>                          ] 2.09/100.00 ela: 00:01:24 rem: 01:05:44\u001b[2K\u001b[G   2.1% [=>                          ] 2.09/100.00 ela: 00:01:24 rem: 01:05:41\u001b[2K\u001b[G   2.1% [=>                          ] 2.10/100.00 ela: 00:01:24 rem: 01:05:48\u001b[2K\u001b[G   2.1% [=>                          ] 2.10/100.00 ela: 00:01:24 rem: 01:05:52\u001b[2K\u001b[G   2.1% [=>                          ] 2.11/100.00 ela: 00:01:25 rem: 01:05:50\u001b[2K\u001b[G   2.1% [=>                          ] 2.11/100.00 ela: 00:01:25 rem: 01:05:54\u001b[2K\u001b[G   2.1% [=>                          ] 2.12/100.00 ela: 00:01:25 rem: 01:05:56\u001b[2K\u001b[G   2.1% [=>                          ] 2.12/100.00 ela: 00:01:25 rem: 01:05:59\u001b[2K\u001b[G   2.1% [=>                          ] 2.13/100.00 ela: 00:01:26 rem: 01:05:59\u001b[2K\u001b[G   2.1% [=>                          ] 2.13/100.00 ela: 00:01:26 rem: 01:06:02\u001b[2K\u001b[G   2.1% [=>                          ] 2.14/100.00 ela: 00:01:26 rem: 01:06:02\u001b[2K\u001b[G   2.1% [=>                          ] 2.14/100.00 ela: 00:01:26 rem: 01:06:03\u001b[2K\u001b[G   2.1% [=>                          ] 2.15/100.00 ela: 00:01:27 rem: 01:06:04\u001b[2K\u001b[G   2.2% [=>                          ] 2.15/100.00 ela: 00:01:27 rem: 01:06:02\u001b[2K\u001b[G   2.2% [=>                          ] 2.16/100.00 ela: 00:01:27 rem: 01:06:06\u001b[2K\u001b[G   2.2% [=>                          ] 2.16/100.00 ela: 00:01:27 rem: 01:06:09\u001b[2K\u001b[G   2.2% [=>                          ] 2.17/100.00 ela: 00:01:28 rem: 01:06:07\u001b[2K\u001b[G   2.2% [=>                          ] 2.17/100.00 ela: 00:01:28 rem: 01:06:06\u001b[2K\u001b[G   2.2% [=>                          ] 2.18/100.00 ela: 00:01:28 rem: 01:06:07\u001b[2K\u001b[G   2.2% [=>                          ] 2.18/100.00 ela: 00:01:28 rem: 01:06:12\u001b[2K\u001b[G   2.2% [=>                          ] 2.19/100.00 ela: 00:01:28 rem: 01:06:14\u001b[2K\u001b[G   2.2% [=>                          ] 2.19/100.00 ela: 00:01:29 rem: 01:06:13\u001b[2K\u001b[G   2.2% [=>                          ] 2.20/100.00 ela: 00:01:29 rem: 01:06:14\u001b[2K\u001b[G   2.2% [=>                          ] 2.20/100.00 ela: 00:01:29 rem: 01:06:15\u001b[2K\u001b[G   2.2% [=>                          ] 2.22/100.00 ela: 00:01:29 rem: 01:05:47\u001b[2K\u001b[G   2.2% [=>                          ] 2.23/100.00 ela: 00:01:30 rem: 01:05:47\u001b[2K\u001b[G   2.2% [=>                          ] 2.23/100.00 ela: 00:01:30 rem: 01:05:47\u001b[2K\u001b[G   2.2% [=>                          ] 2.24/100.00 ela: 00:01:30 rem: 01:05:46\u001b[2K\u001b[G   2.2% [=>                          ] 2.24/100.00 ela: 00:01:30 rem: 01:05:49\u001b[2K\u001b[G   2.2% [=>                          ] 2.25/100.00 ela: 00:01:30 rem: 01:05:52\u001b[2K\u001b[G   2.3% [=>                          ] 2.25/100.00 ela: 00:01:31 rem: 01:05:56\u001b[2K\u001b[G   2.3% [=>                          ] 2.26/100.00 ela: 00:01:31 rem: 01:05:58\u001b[2K\u001b[G   2.3% [=>                          ] 2.26/100.00 ela: 00:01:31 rem: 01:05:58\u001b[2K\u001b[G   2.3% [=>                          ] 2.27/100.00 ela: 00:01:32 rem: 01:06:04"
     ]
    },
    {
     "name": "stdout",
     "output_type": "stream",
     "text": [
      "\u001b[2K\u001b[G   2.3% [=>                          ] 2.27/100.00 ela: 00:01:32 rem: 01:06:05\u001b[2K\u001b[G   2.3% [=>                          ] 2.28/100.00 ela: 00:01:32 rem: 01:06:05\u001b[2K\u001b[G   2.3% [=>                          ] 2.28/100.00 ela: 00:01:32 rem: 01:06:06\u001b[2K\u001b[G   2.3% [=>                          ] 2.29/100.00 ela: 00:01:33 rem: 01:06:09\u001b[2K\u001b[G   2.3% [=>                          ] 2.29/100.00 ela: 00:01:33 rem: 01:06:13\u001b[2K\u001b[G   2.3% [=>                          ] 2.30/100.00 ela: 00:01:33 rem: 01:06:12\u001b[2K\u001b[G   2.3% [=>                          ] 2.30/100.00 ela: 00:01:33 rem: 01:06:12\u001b[2K\u001b[G   2.4% [=>                          ] 2.39/100.00 ela: 00:01:34 rem: 01:03:51\u001b[2K\u001b[G   2.4% [=>                          ] 2.40/100.00 ela: 00:01:34 rem: 01:03:53\u001b[2K\u001b[G   2.4% [=>                          ] 2.40/100.00 ela: 00:01:34 rem: 01:03:56\u001b[2K\u001b[G   2.4% [=>                          ] 2.41/100.00 ela: 00:01:34 rem: 01:03:55\u001b[2K\u001b[G   2.4% [=>                          ] 2.41/100.00 ela: 00:01:34 rem: 01:03:54\u001b[2K\u001b[G   2.4% [=>                          ] 2.42/100.00 ela: 00:01:35 rem: 01:03:50\u001b[2K\u001b[G   2.4% [=>                          ] 2.42/100.00 ela: 00:01:35 rem: 01:03:50\u001b[2K\u001b[G   2.4% [=>                          ] 2.43/100.00 ela: 00:01:35 rem: 01:03:50\u001b[2K\u001b[G   2.4% [=>                          ] 2.43/100.00 ela: 00:01:35 rem: 01:03:47\u001b[2K\u001b[G   2.4% [=>                          ] 2.44/100.00 ela: 00:01:35 rem: 01:03:45\u001b[2K\u001b[G   2.4% [=>                          ] 2.44/100.00 ela: 00:01:35 rem: 01:03:48\u001b[2K\u001b[G   2.4% [=>                          ] 2.45/100.00 ela: 00:01:36 rem: 01:03:46\u001b[2K\u001b[G   2.5% [=>                          ] 2.45/100.00 ela: 00:01:36 rem: 01:03:44\u001b[2K\u001b[G   2.5% [=>                          ] 2.46/100.00 ela: 00:01:36 rem: 01:03:44\u001b[2K\u001b[G   2.5% [=>                          ] 2.46/100.00 ela: 00:01:36 rem: 01:03:45\u001b[2K\u001b[G   2.5% [=>                          ] 2.47/100.00 ela: 00:01:36 rem: 01:03:48\u001b[2K\u001b[G   2.5% [=>                          ] 2.47/100.00 ela: 00:01:37 rem: 01:03:47\u001b[2K\u001b[G   2.5% [=>                          ] 2.48/100.00 ela: 00:01:37 rem: 01:03:47\u001b[2K\u001b[G   2.5% [=>                          ] 2.48/100.00 ela: 00:01:37 rem: 01:03:51\u001b[2K\u001b[G   2.5% [=>                          ] 2.49/100.00 ela: 00:01:37 rem: 01:03:53\u001b[2K\u001b[G   2.5% [=>                          ] 2.49/100.00 ela: 00:01:38 rem: 01:03:56\u001b[2K\u001b[G   2.5% [=>                          ] 2.50/100.00 ela: 00:01:38 rem: 01:03:58\u001b[2K\u001b[G   2.5% [=>                          ] 2.50/100.00 ela: 00:01:38 rem: 01:03:58\u001b[2K\u001b[G   2.5% [=>                          ] 2.51/100.00 ela: 00:01:38 rem: 01:03:56\u001b[2K\u001b[G   2.5% [=>                          ] 2.51/100.00 ela: 00:01:39 rem: 01:04:00\u001b[2K\u001b[G   2.5% [=>                          ] 2.52/100.00 ela: 00:01:39 rem: 01:03:58\u001b[2K\u001b[G   2.5% [=>                          ] 2.52/100.00 ela: 00:01:39 rem: 01:03:59\u001b[2K\u001b[G   2.6% [=>                          ] 2.55/100.00 ela: 00:01:39 rem: 01:03:20\u001b[2K\u001b[G   2.6% [=>                          ] 2.56/100.00 ela: 00:01:39 rem: 01:03:23\u001b[2K\u001b[G   2.6% [=>                          ] 2.56/100.00 ela: 00:01:40 rem: 01:03:23\u001b[2K\u001b[G   2.6% [=>                          ] 2.57/100.00 ela: 00:01:40 rem: 01:03:24\u001b[2K\u001b[G   2.6% [=>                          ] 2.57/100.00 ela: 00:01:40 rem: 01:03:26\u001b[2K\u001b[G   2.6% [=>                          ] 2.58/100.00 ela: 00:01:40 rem: 01:03:23\u001b[2K\u001b[G   2.6% [=>                          ] 2.58/100.00 ela: 00:01:40 rem: 01:03:25\u001b[2K\u001b[G   2.6% [=>                          ] 2.59/100.00 ela: 00:01:41 rem: 01:03:22\u001b[2K\u001b[G   2.6% [=>                          ] 2.59/100.00 ela: 00:01:41 rem: 01:03:21\u001b[2K\u001b[G   2.6% [=>                          ] 2.60/100.00 ela: 00:01:41 rem: 01:03:21\u001b[2K\u001b[G   2.6% [=>                          ] 2.60/100.00 ela: 00:01:41 rem: 01:03:21\u001b[2K\u001b[G   2.6% [=>                          ] 2.61/100.00 ela: 00:01:41 rem: 01:03:20\u001b[2K\u001b[G   2.6% [=>                          ] 2.61/100.00 ela: 00:01:42 rem: 01:03:21\u001b[2K\u001b[G   2.6% [=>                          ] 2.62/100.00 ela: 00:01:42 rem: 01:03:20\u001b[2K\u001b[G   2.6% [=>                          ] 2.62/100.00 ela: 00:01:42 rem: 01:03:19\u001b[2K\u001b[G   2.6% [=>                          ] 2.63/100.00 ela: 00:01:42 rem: 01:03:20\u001b[2K\u001b[G   2.6% [=>                          ] 2.63/100.00 ela: 00:01:42 rem: 01:03:18\u001b[2K\u001b[G   2.6% [=>                          ] 2.64/100.00 ela: 00:01:43 rem: 01:03:18\u001b[2K\u001b[G   2.6% [=>                          ] 2.64/100.00 ela: 00:01:43 rem: 01:03:16\u001b[2K\u001b[G   2.6% [=>                          ] 2.65/100.00 ela: 00:01:43 rem: 01:03:14\u001b[2K\u001b[G   2.7% [=>                          ] 2.65/100.00 ela: 00:01:43 rem: 01:03:12\u001b[2K\u001b[G   2.7% [=>                          ] 2.66/100.00 ela: 00:01:43 rem: 01:03:10\u001b[2K\u001b[G   2.7% [=>                          ] 2.66/100.00 ela: 00:01:43 rem: 01:03:08\u001b[2K\u001b[G   2.7% [=>                          ] 2.67/100.00 ela: 00:01:43 rem: 01:03:06\u001b[2K\u001b[G   2.7% [=>                          ] 2.67/100.00 ela: 00:01:44 rem: 01:03:04\u001b[2K\u001b[G   2.7% [=>                          ] 2.68/100.00 ela: 00:01:44 rem: 01:03:02\u001b[2K\u001b[G   2.7% [=>                          ] 2.68/100.00 ela: 00:01:44 rem: 01:03:05\u001b[2K\u001b[G   2.7% [=>                          ] 2.69/100.00 ela: 00:01:44 rem: 01:03:09\u001b[2K\u001b[G   2.7% [=>                          ] 2.69/100.00 ela: 00:01:44 rem: 01:03:09\u001b[2K\u001b[G   2.7% [=>                          ] 2.70/100.00 ela: 00:01:45 rem: 01:03:12\u001b[2K\u001b[G   2.7% [=>                          ] 2.70/100.00 ela: 00:01:45 rem: 01:03:16\u001b[2K\u001b[G   2.7% [=>                          ] 2.71/100.00 ela: 00:01:45 rem: 01:03:17\u001b[2K\u001b[G   2.7% [=>                          ] 2.71/100.00 ela: 00:01:46 rem: 01:03:22\u001b[2K\u001b[G   2.7% [=>                          ] 2.72/100.00 ela: 00:01:46 rem: 01:03:20\u001b[2K\u001b[G   2.7% [=>                          ] 2.72/100.00 ela: 00:01:46 rem: 01:03:24\u001b[2K\u001b[G   2.7% [=>                          ] 2.73/100.00 ela: 00:01:46 rem: 01:03:22\u001b[2K\u001b[G   2.7% [=>                          ] 2.73/100.00 ela: 00:01:46 rem: 01:03:21\u001b[2K\u001b[G   2.7% [=>                          ] 2.74/100.00 ela: 00:01:47 rem: 01:03:20\u001b[2K\u001b[G   2.7% [=>                          ] 2.74/100.00 ela: 00:01:47 rem: 01:03:18\u001b[2K\u001b[G   2.7% [=>                          ] 2.75/100.00 ela: 00:01:47 rem: 01:03:24\u001b[2K\u001b[G   2.8% [=>                          ] 2.75/100.00 ela: 00:01:47 rem: 01:03:28\u001b[2K\u001b[G   2.8% [=>                          ] 2.76/100.00 ela: 00:01:48 rem: 01:03:30\u001b[2K\u001b[G   2.8% [=>                          ] 2.76/100.00 ela: 00:01:48 rem: 01:03:31\u001b[2K\u001b[G   2.8% [=>                          ] 2.77/100.00 ela: 00:01:48 rem: 01:03:34\u001b[2K\u001b[G   2.8% [=>                          ] 2.77/100.00 ela: 00:01:48 rem: 01:03:33\u001b[2K\u001b[G   2.8% [=>                          ] 2.78/100.00 ela: 00:01:49 rem: 01:03:36\u001b[2K\u001b[G   2.8% [=>                          ] 2.78/100.00 ela: 00:01:49 rem: 01:03:35\u001b[2K\u001b[G   2.8% [=>                          ] 2.79/100.00 ela: 00:01:49 rem: 01:03:40\u001b[2K\u001b[G   2.8% [=>                          ] 2.79/100.00 ela: 00:01:49 rem: 01:03:43\u001b[2K\u001b[G   2.8% [=>                          ] 2.80/100.00 ela: 00:01:50 rem: 01:03:45\u001b[2K\u001b[G   2.8% [=>                          ] 2.80/100.00 ela: 00:01:50 rem: 01:03:43\u001b[2K\u001b[G   2.8% [=>                          ] 2.81/100.00 ela: 00:01:50 rem: 01:03:44\u001b[2K\u001b[G   2.8% [=>                          ] 2.81/100.00 ela: 00:01:50 rem: 01:03:42\u001b[2K\u001b[G   2.9% [=>                          ] 2.87/100.00 ela: 00:01:50 rem: 01:02:26\u001b[2K\u001b[G   2.9% [=>                          ] 2.88/100.00 ela: 00:01:51 rem: 01:02:30\u001b[2K\u001b[G   2.9% [=>                          ] 2.88/100.00 ela: 00:01:51 rem: 01:02:36\u001b[2K\u001b[G   2.9% [=>                          ] 2.89/100.00 ela: 00:01:51 rem: 01:02:43\u001b[2K\u001b[G   2.9% [=>                          ] 2.89/100.00 ela: 00:01:52 rem: 01:02:49\u001b[2K\u001b[G   2.9% [=>                          ] 2.90/100.00 ela: 00:01:52 rem: 01:02:54\u001b[2K\u001b[G   2.9% [=>                          ] 2.90/100.00 ela: 00:01:52 rem: 01:02:55\u001b[2K\u001b[G   2.9% [=>                          ] 2.91/100.00 ela: 00:01:53 rem: 01:02:57\u001b[2K\u001b[G   2.9% [=>                          ] 2.91/100.00 ela: 00:01:53 rem: 01:03:00\u001b[2K\u001b[G   2.9% [=>                          ] 2.93/100.00 ela: 00:01:53 rem: 01:02:43"
     ]
    },
    {
     "name": "stdout",
     "output_type": "stream",
     "text": [
      "\u001b[2K\u001b[G   2.9% [=>                          ] 2.94/100.00 ela: 00:01:54 rem: 01:02:44\u001b[2K\u001b[G   2.9% [=>                          ] 2.94/100.00 ela: 00:01:54 rem: 01:02:42\u001b[2K\u001b[G   2.9% [=>                          ] 2.95/100.00 ela: 00:01:54 rem: 01:02:40\u001b[2K\u001b[G   3.0% [=>                          ] 2.95/100.00 ela: 00:01:54 rem: 01:02:46\u001b[2K\u001b[G   3.0% [=>                          ] 2.96/100.00 ela: 00:01:54 rem: 01:02:46\u001b[2K\u001b[G   3.0% [=>                          ] 2.96/100.00 ela: 00:01:55 rem: 01:02:47\u001b[2K\u001b[G   3.0% [=>                          ] 2.97/100.00 ela: 00:01:55 rem: 01:02:48\u001b[2K\u001b[G   3.0% [=>                          ] 2.97/100.00 ela: 00:01:55 rem: 01:02:48\u001b[2K\u001b[G   3.0% [=>                          ] 2.98/100.00 ela: 00:01:55 rem: 01:02:52\u001b[2K\u001b[G   3.0% [=>                          ] 2.98/100.00 ela: 00:01:56 rem: 01:02:52\u001b[2K\u001b[G   3.0% [=>                          ] 2.99/100.00 ela: 00:01:56 rem: 01:02:52\u001b[2K\u001b[G   3.0% [=>                          ] 2.99/100.00 ela: 00:01:56 rem: 01:02:52\u001b[2K\u001b[G   3.0% [=>                          ] 3.00/100.00 ela: 00:01:56 rem: 01:02:56\u001b[2K\u001b[G   3.0% [=>                          ] 3.00/100.00 ela: 00:01:57 rem: 01:03:00\u001b[2K\u001b[G   3.0% [=>                          ] 3.01/100.00 ela: 00:01:57 rem: 01:02:59\u001b[2K\u001b[G   3.0% [=>                          ] 3.01/100.00 ela: 00:01:57 rem: 01:03:01\u001b[2K\u001b[G   3.0% [=>                          ] 3.02/100.00 ela: 00:01:57 rem: 01:03:04\u001b[2K\u001b[G   3.0% [=>                          ] 3.02/100.00 ela: 00:01:58 rem: 01:03:04\u001b[2K\u001b[G   3.0% [=>                          ] 3.03/100.00 ela: 00:01:58 rem: 01:03:09\u001b[2K\u001b[G   3.0% [=>                          ] 3.03/100.00 ela: 00:01:58 rem: 01:03:11\u001b[2K\u001b[G   3.0% [=>                          ] 3.04/100.00 ela: 00:01:58 rem: 01:03:12\u001b[2K\u001b[G   3.0% [=>                          ] 3.04/100.00 ela: 00:01:59 rem: 01:03:14\u001b[2K\u001b[G   3.0% [=>                          ] 3.05/100.00 ela: 00:01:59 rem: 01:03:16\u001b[2K\u001b[G   3.1% [=>                          ] 3.05/100.00 ela: 00:01:59 rem: 01:03:14\u001b[2K\u001b[G   3.1% [=>                          ] 3.06/100.00 ela: 00:01:59 rem: 01:03:14\u001b[2K\u001b[G   3.1% [=>                          ] 3.06/100.00 ela: 00:01:59 rem: 01:03:12\u001b[2K\u001b[G   3.1% [=>                          ] 3.07/100.00 ela: 00:02:00 rem: 01:03:15\u001b[2K\u001b[G   3.1% [=>                          ] 3.07/100.00 ela: 00:02:00 rem: 01:03:17\u001b[2K\u001b[G   3.1% [=>                          ] 3.08/100.00 ela: 00:02:00 rem: 01:03:16\u001b[2K\u001b[G   3.1% [=>                          ] 3.08/100.00 ela: 00:02:00 rem: 01:03:19\u001b[2K\u001b[G   3.1% [=>                          ] 3.09/100.00 ela: 00:02:01 rem: 01:03:23\u001b[2K\u001b[G   3.1% [=>                          ] 3.09/100.00 ela: 00:02:01 rem: 01:03:22\u001b[2K\u001b[G   3.1% [=>                          ] 3.10/100.00 ela: 00:02:01 rem: 01:03:20\u001b[2K\u001b[G   3.1% [=>                          ] 3.10/100.00 ela: 00:02:01 rem: 01:03:22\u001b[2K\u001b[G   3.1% [=>                          ] 3.11/100.00 ela: 00:02:02 rem: 01:03:21\u001b[2K\u001b[G   3.1% [=>                          ] 3.11/100.00 ela: 00:02:02 rem: 01:03:23\u001b[2K\u001b[G   3.1% [=>                          ] 3.12/100.00 ela: 00:02:02 rem: 01:03:26\u001b[2K\u001b[G   3.1% [=>                          ] 3.12/100.00 ela: 00:02:02 rem: 01:03:26\u001b[2K\u001b[G   3.1% [=>                          ] 3.13/100.00 ela: 00:02:03 rem: 01:03:30\u001b[2K\u001b[G   3.1% [=>                          ] 3.13/100.00 ela: 00:02:03 rem: 01:03:28\u001b[2K\u001b[G   3.1% [=>                          ] 3.14/100.00 ela: 00:02:03 rem: 01:03:28\u001b[2K\u001b[G   3.1% [=>                          ] 3.14/100.00 ela: 00:02:03 rem: 01:03:30\u001b[2K\u001b[G   3.1% [=>                          ] 3.15/100.00 ela: 00:02:03 rem: 01:03:29\u001b[2K\u001b[G   3.2% [=>                          ] 3.15/100.00 ela: 00:02:04 rem: 01:03:31\u001b[2K\u001b[G   3.2% [=>                          ] 3.16/100.00 ela: 00:02:04 rem: 01:03:36\u001b[2K\u001b[G   3.2% [=>                          ] 3.16/100.00 ela: 00:02:04 rem: 01:03:36\u001b[2K\u001b[G   3.2% [=>                          ] 3.17/100.00 ela: 00:02:04 rem: 01:03:36\u001b[2K\u001b[G   3.2% [=>                          ] 3.17/100.00 ela: 00:02:05 rem: 01:03:34\u001b[2K\u001b[G   3.2% [=>                          ] 3.18/100.00 ela: 00:02:05 rem: 01:03:39\u001b[2K\u001b[G   3.2% [=>                          ] 3.18/100.00 ela: 00:02:05 rem: 01:03:40\u001b[2K\u001b[G   3.2% [=>                          ] 3.19/100.00 ela: 00:02:05 rem: 01:03:42\u001b[2K\u001b[G   3.2% [=>                          ] 3.19/100.00 ela: 00:02:06 rem: 01:03:43\u001b[2K\u001b[G   3.2% [=>                          ] 3.20/100.00 ela: 00:02:06 rem: 01:03:46\u001b[2K\u001b[G   3.2% [=>                          ] 3.20/100.00 ela: 00:02:06 rem: 01:03:46\u001b[2K\u001b[G   3.2% [=>                          ] 3.21/100.00 ela: 00:02:06 rem: 01:03:45\u001b[2K\u001b[G   3.2% [=>                          ] 3.21/100.00 ela: 00:02:07 rem: 01:03:43\u001b[2K\u001b[G   3.2% [=>                          ] 3.22/100.00 ela: 00:02:07 rem: 01:03:44\u001b[2K\u001b[G   3.2% [=>                          ] 3.22/100.00 ela: 00:02:07 rem: 01:03:46\u001b[2K\u001b[G   3.2% [=>                          ] 3.23/100.00 ela: 00:02:07 rem: 01:03:45\u001b[2K\u001b[G   3.2% [=>                          ] 3.23/100.00 ela: 00:02:07 rem: 01:03:43\u001b[2K\u001b[G   3.2% [=>                          ] 3.24/100.00 ela: 00:02:07 rem: 01:03:42\u001b[2K\u001b[G   3.2% [=>                          ] 3.24/100.00 ela: 00:02:08 rem: 01:03:45\u001b[2K\u001b[G   3.2% [=>                          ] 3.25/100.00 ela: 00:02:08 rem: 01:03:49\u001b[2K\u001b[G   3.3% [=>                          ] 3.25/100.00 ela: 00:02:08 rem: 01:03:48\u001b[2K\u001b[G   3.3% [=>                          ] 3.26/100.00 ela: 00:02:09 rem: 01:03:52\u001b[2K\u001b[G   3.3% [=>                          ] 3.26/100.00 ela: 00:02:09 rem: 01:03:52\u001b[2K\u001b[G   3.3% [=>                          ] 3.27/100.00 ela: 00:02:09 rem: 01:03:53\u001b[2K\u001b[G   3.3% [=>                          ] 3.27/100.00 ela: 00:02:09 rem: 01:03:54\u001b[2K\u001b[G   3.3% [=>                          ] 3.28/100.00 ela: 00:02:09 rem: 01:03:52\u001b[2K\u001b[G   3.3% [=>                          ] 3.28/100.00 ela: 00:02:10 rem: 01:03:50\u001b[2K\u001b[G   3.3% [=>                          ] 3.29/100.00 ela: 00:02:10 rem: 01:03:50\u001b[2K\u001b[G   3.3% [=>                          ] 3.29/100.00 ela: 00:02:10 rem: 01:03:48\u001b[2K\u001b[G   3.3% [=>                          ] 3.30/100.00 ela: 00:02:10 rem: 01:03:49\u001b[2K\u001b[G   3.3% [=>                          ] 3.30/100.00 ela: 00:02:10 rem: 01:03:47\u001b[2K\u001b[G   3.3% [=>                          ] 3.31/100.00 ela: 00:02:11 rem: 01:03:47\u001b[2K\u001b[G   3.3% [=>                          ] 3.31/100.00 ela: 00:02:11 rem: 01:03:49\u001b[2K\u001b[G   3.3% [=>                          ] 3.32/100.00 ela: 00:02:11 rem: 01:03:52\u001b[2K\u001b[G   3.3% [=>                          ] 3.32/100.00 ela: 00:02:11 rem: 01:03:54\u001b[2K\u001b[G   3.3% [=>                          ] 3.33/100.00 ela: 00:02:12 rem: 01:03:52\u001b[2K\u001b[G   3.3% [=>                          ] 3.33/100.00 ela: 00:02:12 rem: 01:03:57\u001b[2K\u001b[G   3.3% [=>                          ] 3.34/100.00 ela: 00:02:12 rem: 01:04:00\u001b[2K\u001b[G   3.3% [=>                          ] 3.34/100.00 ela: 00:02:12 rem: 01:03:59\u001b[2K\u001b[G   3.3% [=>                          ] 3.35/100.00 ela: 00:02:13 rem: 01:03:57\u001b[2K\u001b[G   3.4% [=>                          ] 3.35/100.00 ela: 00:02:13 rem: 01:04:01\u001b[2K\u001b[G   3.4% [=>                          ] 3.36/100.00 ela: 00:02:13 rem: 01:04:03\u001b[2K\u001b[G   3.4% [=>                          ] 3.36/100.00 ela: 00:02:13 rem: 01:04:02\u001b[2K\u001b[G   3.4% [=>                          ] 3.37/100.00 ela: 00:02:13 rem: 01:04:01\u001b[2K\u001b[G   3.4% [=>                          ] 3.37/100.00 ela: 00:02:14 rem: 01:04:00\u001b[2K\u001b[G   3.4% [=>                          ] 3.38/100.00 ela: 00:02:14 rem: 01:03:59\u001b[2K\u001b[G   3.4% [=>                          ] 3.38/100.00 ela: 00:02:14 rem: 01:04:03\u001b[2K\u001b[G   3.4% [=>                          ] 3.39/100.00 ela: 00:02:14 rem: 01:04:06\u001b[2K\u001b[G   3.4% [=>                          ] 3.39/100.00 ela: 00:02:15 rem: 01:04:06\u001b[2K\u001b[G   3.4% [=>                          ] 3.40/100.00 ela: 00:02:15 rem: 01:04:07\u001b[2K\u001b[G   3.4% [=>                          ] 3.40/100.00 ela: 00:02:15 rem: 01:04:07\u001b[2K\u001b[G   3.4% [=>                          ] 3.41/100.00 ela: 00:02:15 rem: 01:04:06\u001b[2K\u001b[G   3.4% [=>                          ] 3.41/100.00 ela: 00:02:16 rem: 01:04:09\u001b[2K\u001b[G   3.4% [=>                          ] 3.42/100.00 ela: 00:02:16 rem: 01:04:10"
     ]
    },
    {
     "name": "stdout",
     "output_type": "stream",
     "text": [
      "\u001b[2K\u001b[G   3.4% [=>                          ] 3.42/100.00 ela: 00:02:16 rem: 01:04:10\u001b[2K\u001b[G   3.4% [=>                          ] 3.43/100.00 ela: 00:02:16 rem: 01:04:10\u001b[2K\u001b[G   3.4% [=>                          ] 3.43/100.00 ela: 00:02:17 rem: 01:04:11\u001b[2K\u001b[G   3.4% [=>                          ] 3.44/100.00 ela: 00:02:17 rem: 01:04:14\u001b[2K\u001b[G   3.4% [=>                          ] 3.44/100.00 ela: 00:02:17 rem: 01:04:13\u001b[2K\u001b[G   3.4% [=>                          ] 3.45/100.00 ela: 00:02:17 rem: 01:04:11\u001b[2K\u001b[G   3.5% [=>                          ] 3.45/100.00 ela: 00:02:17 rem: 01:04:12\u001b[2K\u001b[G   3.5% [=>                          ] 3.46/100.00 ela: 00:02:18 rem: 01:04:10\u001b[2K\u001b[G   3.5% [=>                          ] 3.46/100.00 ela: 00:02:18 rem: 01:04:11\u001b[2K\u001b[G   3.5% [=>                          ] 3.47/100.00 ela: 00:02:18 rem: 01:04:10\u001b[2K\u001b[G   3.5% [=>                          ] 3.47/100.00 ela: 00:02:18 rem: 01:04:08\u001b[2K\u001b[G   3.5% [=>                          ] 3.48/100.00 ela: 00:02:18 rem: 01:04:08\u001b[2K\u001b[G   3.5% [=>                          ] 3.48/100.00 ela: 00:02:18 rem: 01:04:06\u001b[2K\u001b[G   3.5% [=>                          ] 3.49/100.00 ela: 00:02:19 rem: 01:04:06\u001b[2K\u001b[G   3.5% [=>                          ] 3.49/100.00 ela: 00:02:19 rem: 01:04:05\u001b[2K\u001b[G   3.5% [=>                          ] 3.50/100.00 ela: 00:02:19 rem: 01:04:05\u001b[2K\u001b[G   3.5% [=>                          ] 3.50/100.00 ela: 00:02:19 rem: 01:04:06\u001b[2K\u001b[G   3.5% [=>                          ] 3.51/100.00 ela: 00:02:19 rem: 01:04:08\u001b[2K\u001b[G   3.5% [=>                          ] 3.51/100.00 ela: 00:02:20 rem: 01:04:09\u001b[2K\u001b[G   3.5% [=>                          ] 3.52/100.00 ela: 00:02:20 rem: 01:04:11\u001b[2K\u001b[G   3.5% [=>                          ] 3.52/100.00 ela: 00:02:20 rem: 01:04:14\u001b[2K\u001b[G   3.5% [=>                          ] 3.53/100.00 ela: 00:02:21 rem: 01:04:16\u001b[2K\u001b[G   3.5% [=>                          ] 3.53/100.00 ela: 00:02:21 rem: 01:04:17\u001b[2K\u001b[G   3.5% [=>                          ] 3.54/100.00 ela: 00:02:21 rem: 01:04:20\u001b[2K\u001b[G   3.5% [=>                          ] 3.54/100.00 ela: 00:02:21 rem: 01:04:21\u001b[2K\u001b[G   3.5% [=>                          ] 3.55/100.00 ela: 00:02:22 rem: 01:04:24\u001b[2K\u001b[G   3.6% [=>                          ] 3.55/100.00 ela: 00:02:22 rem: 01:04:25\u001b[2K\u001b[G   3.6% [=>                          ] 3.56/100.00 ela: 00:02:22 rem: 01:04:27\u001b[2K\u001b[G   3.6% [=>                          ] 3.56/100.00 ela: 00:02:22 rem: 01:04:27\u001b[2K\u001b[G   3.6% [=>                          ] 3.57/100.00 ela: 00:02:23 rem: 01:04:28\u001b[2K\u001b[G   3.6% [=>                          ] 3.57/100.00 ela: 00:02:23 rem: 01:04:26\u001b[2K\u001b[G   3.6% [=>                          ] 3.58/100.00 ela: 00:02:23 rem: 01:04:27\u001b[2K\u001b[G   3.6% [=>                          ] 3.58/100.00 ela: 00:02:23 rem: 01:04:28\u001b[2K\u001b[G   3.6% [=>                          ] 3.59/100.00 ela: 00:02:24 rem: 01:04:29\u001b[2K\u001b[G   3.6% [=>                          ] 3.59/100.00 ela: 00:02:24 rem: 01:04:32\u001b[2K\u001b[G   3.6% [=>                          ] 3.60/100.00 ela: 00:02:24 rem: 01:04:35\u001b[2K\u001b[G   3.6% [=>                          ] 3.60/100.00 ela: 00:02:24 rem: 01:04:34\u001b[2K\u001b[G   3.6% [=>                          ] 3.61/100.00 ela: 00:02:25 rem: 01:04:35\u001b[2K\u001b[G   3.6% [=>                          ] 3.61/100.00 ela: 00:02:25 rem: 01:04:35\u001b[2K\u001b[G   3.6% [=>                          ] 3.62/100.00 ela: 00:02:25 rem: 01:04:36\u001b[2K\u001b[G   3.6% [=>                          ] 3.62/100.00 ela: 00:02:25 rem: 01:04:37\u001b[2K\u001b[G   3.6% [=>                          ] 3.63/100.00 ela: 00:02:26 rem: 01:04:37\u001b[2K\u001b[G   3.6% [=>                          ] 3.63/100.00 ela: 00:02:26 rem: 01:04:39\u001b[2K\u001b[G   3.6% [=>                          ] 3.64/100.00 ela: 00:02:26 rem: 01:04:41\u001b[2K\u001b[G   3.6% [=>                          ] 3.64/100.00 ela: 00:02:26 rem: 01:04:40\u001b[2K\u001b[G   3.6% [=>                          ] 3.65/100.00 ela: 00:02:26 rem: 01:04:38\u001b[2K\u001b[G   3.7% [=>                          ] 3.65/100.00 ela: 00:02:27 rem: 01:04:40\u001b[2K\u001b[G   3.7% [=>                          ] 3.66/100.00 ela: 00:02:27 rem: 01:04:42\u001b[2K\u001b[G   3.7% [=>                          ] 3.66/100.00 ela: 00:02:27 rem: 01:04:42\u001b[2K\u001b[G   3.7% [=>                          ] 3.67/100.00 ela: 00:02:27 rem: 01:04:41\u001b[2K\u001b[G   3.7% [=>                          ] 3.67/100.00 ela: 00:02:28 rem: 01:04:41\u001b[2K\u001b[G   3.7% [=>                          ] 3.68/100.00 ela: 00:02:28 rem: 01:04:39\u001b[2K\u001b[G   3.7% [=>                          ] 3.68/100.00 ela: 00:02:28 rem: 01:04:38\u001b[2K\u001b[G   3.7% [=>                          ] 3.69/100.00 ela: 00:02:28 rem: 01:04:35\u001b[2K\u001b[G   3.7% [=>                          ] 3.69/100.00 ela: 00:02:28 rem: 01:04:33\u001b[2K\u001b[G   3.7% [=>                          ] 3.70/100.00 ela: 00:02:28 rem: 01:04:32\u001b[2K\u001b[G   3.7% [=>                          ] 3.70/100.00 ela: 00:02:28 rem: 01:04:30\u001b[2K\u001b[G   3.7% [=>                          ] 3.71/100.00 ela: 00:02:29 rem: 01:04:29\u001b[2K\u001b[G   3.7% [=>                          ] 3.71/100.00 ela: 00:02:29 rem: 01:04:27\u001b[2K\u001b[G   3.7% [=>                          ] 3.72/100.00 ela: 00:02:29 rem: 01:04:26\u001b[2K\u001b[G   3.7% [=>                          ] 3.72/100.00 ela: 00:02:29 rem: 01:04:24\u001b[2K\u001b[G   3.7% [=>                          ] 3.73/100.00 ela: 00:02:29 rem: 01:04:23\u001b[2K\u001b[G   3.7% [=>                          ] 3.73/100.00 ela: 00:02:29 rem: 01:04:21\u001b[2K\u001b[G   3.7% [=>                          ] 3.74/100.00 ela: 00:02:29 rem: 01:04:19\u001b[2K\u001b[G   3.7% [=>                          ] 3.74/100.00 ela: 00:02:30 rem: 01:04:18\u001b[2K\u001b[G   3.7% [=>                          ] 3.75/100.00 ela: 00:02:30 rem: 01:04:16\u001b[2K\u001b[G   3.8% [=>                          ] 3.75/100.00 ela: 00:02:30 rem: 01:04:14\u001b[2K\u001b[G   3.8% [=>                          ] 3.76/100.00 ela: 00:02:30 rem: 01:04:13\u001b[2K\u001b[G   3.8% [=>                          ] 3.76/100.00 ela: 00:02:30 rem: 01:04:11\u001b[2K\u001b[G   3.8% [=>                          ] 3.77/100.00 ela: 00:02:30 rem: 01:04:09\u001b[2K\u001b[G   3.8% [=>                          ] 3.77/100.00 ela: 00:02:30 rem: 01:04:07\u001b[2K\u001b[G   3.8% [=>                          ] 3.78/100.00 ela: 00:02:31 rem: 01:04:05\u001b[2K\u001b[G   3.8% [=>                          ] 3.78/100.00 ela: 00:02:31 rem: 01:04:03\u001b[2K\u001b[G   3.8% [=>                          ] 3.79/100.00 ela: 00:02:31 rem: 01:04:01\u001b[2K\u001b[G   3.8% [=>                          ] 3.79/100.00 ela: 00:02:31 rem: 01:03:59\u001b[2K\u001b[G   3.8% [=>                          ] 3.80/100.00 ela: 00:02:31 rem: 01:03:57\u001b[2K\u001b[G   3.8% [=>                          ] 3.80/100.00 ela: 00:02:31 rem: 01:03:55\u001b[2K\u001b[G   3.8% [=>                          ] 3.81/100.00 ela: 00:02:31 rem: 01:03:53\u001b[2K\u001b[G   3.8% [=>                          ] 3.81/100.00 ela: 00:02:31 rem: 01:03:50\u001b[2K\u001b[G   3.8% [=>                          ] 3.82/100.00 ela: 00:02:32 rem: 01:03:48\u001b[2K\u001b[G   3.8% [=>                          ] 3.82/100.00 ela: 00:02:32 rem: 01:03:46\u001b[2K\u001b[G   3.8% [=>                          ] 3.83/100.00 ela: 00:02:32 rem: 01:03:44\u001b[2K\u001b[G   3.8% [=>                          ] 3.83/100.00 ela: 00:02:32 rem: 01:03:42\u001b[2K\u001b[G   3.8% [=>                          ] 3.84/100.00 ela: 00:02:32 rem: 01:03:40\u001b[2K\u001b[G   3.9% [=>                          ] 3.87/100.00 ela: 00:02:32 rem: 01:03:09\u001b[2K\u001b[G   3.9% [=>                          ] 3.88/100.00 ela: 00:02:32 rem: 01:03:07\u001b[2K\u001b[G   3.9% [=>                          ] 3.88/100.00 ela: 00:02:33 rem: 01:03:05\u001b[2K\u001b[G   3.9% [=>                          ] 3.89/100.00 ela: 00:02:33 rem: 01:03:03\u001b[2K\u001b[G   3.9% [=>                          ] 3.89/100.00 ela: 00:02:33 rem: 01:03:01\u001b[2K\u001b[G   3.9% [=>                          ] 3.90/100.00 ela: 00:02:33 rem: 01:02:59\u001b[2K\u001b[G   3.9% [=>                          ] 3.90/100.00 ela: 00:02:33 rem: 01:02:57\u001b[2K\u001b[G   3.9% [=>                          ] 3.91/100.00 ela: 00:02:33 rem: 01:02:55\u001b[2K\u001b[G   4.0% [=>                          ] 3.97/100.00 ela: 00:02:33 rem: 01:01:58\u001b[2K\u001b[G   4.0% [=>                          ] 3.97/100.00 ela: 00:02:33 rem: 01:01:56\u001b[2K\u001b[G   4.0% [=>                          ] 4.02/100.00 ela: 00:02:33 rem: 01:01:11\u001b[2K\u001b[G   4.1% [=>                          ] 4.11/100.00 ela: 00:02:34 rem: 00:59:50\u001b[2K\u001b[G   4.2% [=>                          ] 4.15/100.00 ela: 00:02:34 rem: 00:59:16"
     ]
    },
    {
     "name": "stdout",
     "output_type": "stream",
     "text": [
      "\u001b[2K\u001b[G   4.2% [=>                          ] 4.19/100.00 ela: 00:02:34 rem: 00:58:50\u001b[2K\u001b[G   4.2% [=>                          ] 4.19/100.00 ela: 00:02:34 rem: 00:58:48\u001b[2K\u001b[G   4.2% [=>                          ] 4.20/100.00 ela: 00:02:34 rem: 00:58:47\u001b[2K\u001b[G   4.2% [=>                          ] 4.20/100.00 ela: 00:02:34 rem: 00:58:46\u001b[2K\u001b[G   4.2% [=>                          ] 4.21/100.00 ela: 00:02:34 rem: 00:58:44\u001b[2K\u001b[G   4.2% [=>                          ] 4.21/100.00 ela: 00:02:35 rem: 00:58:42\u001b[2K\u001b[G   4.2% [=>                          ] 4.22/100.00 ela: 00:02:35 rem: 00:58:41\u001b[2K\u001b[G   4.2% [=>                          ] 4.22/100.00 ela: 00:02:35 rem: 00:58:40\u001b[2K\u001b[G   4.2% [=>                          ] 4.23/100.00 ela: 00:02:35 rem: 00:58:39\u001b[2K\u001b[G   4.2% [=>                          ] 4.23/100.00 ela: 00:02:35 rem: 00:58:37\u001b[2K\u001b[G   4.2% [=>                          ] 4.24/100.00 ela: 00:02:35 rem: 00:58:36\u001b[2K\u001b[G   4.2% [=>                          ] 4.24/100.00 ela: 00:02:35 rem: 00:58:34\u001b[2K\u001b[G   4.3% [=>                          ] 4.27/100.00 ela: 00:02:35 rem: 00:58:12\u001b[2K\u001b[G   4.3% [=>                          ] 4.28/100.00 ela: 00:02:36 rem: 00:58:10\u001b[2K\u001b[G   4.3% [=>                          ] 4.28/100.00 ela: 00:02:36 rem: 00:58:09\u001b[2K\u001b[G   4.3% [=>                          ] 4.29/100.00 ela: 00:02:36 rem: 00:58:08\u001b[2K\u001b[G   4.3% [=>                          ] 4.29/100.00 ela: 00:02:36 rem: 00:58:07\u001b[2K\u001b[G   4.3% [=>                          ] 4.30/100.00 ela: 00:02:36 rem: 00:58:06\u001b[2K\u001b[G   4.3% [=>                          ] 4.30/100.00 ela: 00:02:36 rem: 00:58:04\u001b[2K\u001b[G   4.3% [=>                          ] 4.31/100.00 ela: 00:02:36 rem: 00:58:03\u001b[2K\u001b[G   4.3% [=>                          ] 4.31/100.00 ela: 00:02:37 rem: 00:58:02\u001b[2K\u001b[G   4.3% [=>                          ] 4.32/100.00 ela: 00:02:37 rem: 00:58:00\u001b[2K\u001b[G   4.3% [=>                          ] 4.32/100.00 ela: 00:02:37 rem: 00:57:59\u001b[2K\u001b[G   4.3% [=>                          ] 4.33/100.00 ela: 00:02:37 rem: 00:57:58\u001b[2K\u001b[G   4.3% [=>                          ] 4.33/100.00 ela: 00:02:37 rem: 00:57:56\u001b[2K\u001b[G   4.3% [=>                          ] 4.34/100.00 ela: 00:02:37 rem: 00:57:55\u001b[2K\u001b[G   4.3% [=>                          ] 4.34/100.00 ela: 00:02:37 rem: 00:57:54\u001b[2K\u001b[G   4.3% [=>                          ] 4.35/100.00 ela: 00:02:37 rem: 00:57:52\u001b[2K\u001b[G   4.4% [=>                          ] 4.35/100.00 ela: 00:02:38 rem: 00:57:51\u001b[2K\u001b[G   4.4% [=>                          ] 4.36/100.00 ela: 00:02:38 rem: 00:57:50\u001b[2K\u001b[G   4.4% [=>                          ] 4.36/100.00 ela: 00:02:38 rem: 00:57:48\u001b[2K\u001b[G   4.4% [=>                          ] 4.37/100.00 ela: 00:02:38 rem: 00:57:47\u001b[2K\u001b[G   4.4% [=>                          ] 4.37/100.00 ela: 00:02:38 rem: 00:57:46\u001b[2K\u001b[G   4.4% [=>                          ] 4.38/100.00 ela: 00:02:38 rem: 00:57:44\u001b[2K\u001b[G   4.4% [=>                          ] 4.38/100.00 ela: 00:02:38 rem: 00:57:43\u001b[2K\u001b[G   4.4% [=>                          ] 4.40/100.00 ela: 00:02:38 rem: 00:57:30\u001b[2K\u001b[G   4.4% [=>                          ] 4.41/100.00 ela: 00:02:39 rem: 00:57:29\u001b[2K\u001b[G   4.5% [=>                          ] 4.46/100.00 ela: 00:02:39 rem: 00:56:52\u001b[2K\u001b[G   4.5% [=>                          ] 4.49/100.00 ela: 00:02:39 rem: 00:56:27\u001b[2K\u001b[G   4.6% [=>                          ] 4.60/100.00 ela: 00:02:39 rem: 00:55:05\u001b[2K\u001b[G   4.6% [=>                          ] 4.61/100.00 ela: 00:02:39 rem: 00:55:04\u001b[2K\u001b[G   4.6% [=>                          ] 4.61/100.00 ela: 00:02:39 rem: 00:55:03\u001b[2K\u001b[G   4.6% [=>                          ] 4.62/100.00 ela: 00:02:39 rem: 00:55:02\u001b[2K\u001b[G   4.6% [=>                          ] 4.62/100.00 ela: 00:02:40 rem: 00:55:00\u001b[2K\u001b[G   4.6% [=>                          ] 4.63/100.00 ela: 00:02:40 rem: 00:54:59\u001b[2K\u001b[G   4.6% [=>                          ] 4.63/100.00 ela: 00:02:40 rem: 00:54:58\u001b[2K\u001b[G   4.6% [=>                          ] 4.64/100.00 ela: 00:02:40 rem: 00:54:57\u001b[2K\u001b[G   4.6% [=>                          ] 4.64/100.00 ela: 00:02:40 rem: 00:54:56\u001b[2K\u001b[G   4.6% [=>                          ] 4.65/100.00 ela: 00:02:40 rem: 00:54:55\u001b[2K\u001b[G   4.7% [=>                          ] 4.65/100.00 ela: 00:02:40 rem: 00:54:54\u001b[2K\u001b[G   4.7% [=>                          ] 4.66/100.00 ela: 00:02:40 rem: 00:54:53\u001b[2K\u001b[G   4.7% [=>                          ] 4.66/100.00 ela: 00:02:41 rem: 00:54:52\u001b[2K\u001b[G   4.7% [=>                          ] 4.67/100.00 ela: 00:02:41 rem: 00:54:50\u001b[2K\u001b[G   4.7% [=>                          ] 4.67/100.00 ela: 00:02:41 rem: 00:54:49\u001b[2K\u001b[G   4.7% [=>                          ] 4.68/100.00 ela: 00:02:41 rem: 00:54:48\u001b[2K\u001b[G   4.7% [=>                          ] 4.68/100.00 ela: 00:02:41 rem: 00:54:47\u001b[2K\u001b[G   4.7% [=>                          ] 4.69/100.00 ela: 00:02:41 rem: 00:54:46\u001b[2K\u001b[G   4.7% [=>                          ] 4.69/100.00 ela: 00:02:41 rem: 00:54:45\u001b[2K\u001b[G   4.7% [=>                          ] 4.70/100.00 ela: 00:02:41 rem: 00:54:43\u001b[2K\u001b[G   4.7% [=>                          ] 4.70/100.00 ela: 00:02:42 rem: 00:54:42\u001b[2K\u001b[G   4.7% [=>                          ] 4.71/100.00 ela: 00:02:42 rem: 00:54:41\u001b[2K\u001b[G   4.7% [=>                          ] 4.71/100.00 ela: 00:02:42 rem: 00:54:40\u001b[2K\u001b[G   4.7% [=>                          ] 4.72/100.00 ela: 00:02:42 rem: 00:54:39\u001b[2K\u001b[G   4.7% [=>                          ] 4.73/100.00 ela: 00:02:42 rem: 00:54:36\u001b[2K\u001b[G   4.7% [=>                          ] 4.73/100.00 ela: 00:02:42 rem: 00:54:35\u001b[2K\u001b[G   4.7% [=>                          ] 4.74/100.00 ela: 00:02:42 rem: 00:54:34\u001b[2K\u001b[G   4.7% [=>                          ] 4.74/100.00 ela: 00:02:43 rem: 00:54:33\u001b[2K\u001b[G   4.7% [=>                          ] 4.75/100.00 ela: 00:02:43 rem: 00:54:32\u001b[2K\u001b[G   4.8% [=>                          ] 4.80/100.00 ela: 00:02:43 rem: 00:53:58\u001b[2K\u001b[G   4.9% [=>                          ] 4.86/100.00 ela: 00:02:43 rem: 00:53:15\u001b[2K\u001b[G   4.9% [=>                          ] 4.90/100.00 ela: 00:02:43 rem: 00:52:54\u001b[2K\u001b[G   4.9% [=>                          ] 4.93/100.00 ela: 00:02:43 rem: 00:52:36\u001b[2K\u001b[G   4.9% [=>                          ] 4.93/100.00 ela: 00:02:43 rem: 00:52:35\u001b[2K\u001b[G   5.0% [=>                          ] 4.97/100.00 ela: 00:02:43 rem: 00:52:11\u001b[2K\u001b[G   5.0% [=>                          ] 4.98/100.00 ela: 00:02:44 rem: 00:52:10\u001b[2K\u001b[G   5.0% [=>                          ] 5.03/100.00 ela: 00:02:44 rem: 00:51:39\u001b[2K\u001b[G   5.1% [=>                          ] 5.08/100.00 ela: 00:02:44 rem: 00:51:07\u001b[2K\u001b[G   5.2% [=>                          ] 5.18/100.00 ela: 00:02:44 rem: 00:50:10\u001b[2K\u001b[G   5.2% [=>                          ] 5.21/100.00 ela: 00:02:44 rem: 00:49:54\u001b[2K\u001b[G   5.2% [=>                          ] 5.21/100.00 ela: 00:02:44 rem: 00:49:53\u001b[2K\u001b[G   5.3% [=>                          ] 5.26/100.00 ela: 00:02:44 rem: 00:49:25\u001b[2K\u001b[G   5.3% [=>                          ] 5.32/100.00 ela: 00:02:44 rem: 00:48:56\u001b[2K\u001b[G   5.4% [=>                          ] 5.39/100.00 ela: 00:02:45 rem: 00:48:14\u001b[2K\u001b[G   5.4% [=>                          ] 5.40/100.00 ela: 00:02:45 rem: 00:48:14\u001b[2K\u001b[G   5.4% [=>                          ] 5.40/100.00 ela: 00:02:45 rem: 00:48:13\u001b[2K\u001b[G   5.4% [=>                          ] 5.41/100.00 ela: 00:02:45 rem: 00:48:13\u001b[2K\u001b[G   5.4% [=>                          ] 5.41/100.00 ela: 00:02:45 rem: 00:48:13\u001b[2K\u001b[G   5.4% [=>                          ] 5.42/100.00 ela: 00:02:45 rem: 00:48:12\u001b[2K\u001b[G   5.4% [=>                          ] 5.42/100.00 ela: 00:02:45 rem: 00:48:12\u001b[2K\u001b[G   5.4% [=>                          ] 5.43/100.00 ela: 00:02:46 rem: 00:48:11\u001b[2K\u001b[G   5.4% [=>                          ] 5.43/100.00 ela: 00:02:46 rem: 00:48:10\u001b[2K\u001b[G   5.4% [=>                          ] 5.44/100.00 ela: 00:02:46 rem: 00:48:10\u001b[2K\u001b[G   5.4% [=>                          ] 5.44/100.00 ela: 00:02:46 rem: 00:48:09\u001b[2K\u001b[G   5.4% [=>                          ] 5.45/100.00 ela: 00:02:46 rem: 00:48:09\u001b[2K\u001b[G   5.5% [=>                          ] 5.45/100.00 ela: 00:02:46 rem: 00:48:08\u001b[2K\u001b[G   5.5% [=>                          ] 5.46/100.00 ela: 00:02:46 rem: 00:48:07\u001b[2K\u001b[G   5.5% [=>                          ] 5.46/100.00 ela: 00:02:46 rem: 00:48:07"
     ]
    },
    {
     "name": "stdout",
     "output_type": "stream",
     "text": [
      "\u001b[2K\u001b[G   5.5% [=>                          ] 5.47/100.00 ela: 00:02:47 rem: 00:48:06\u001b[2K\u001b[G   5.5% [=>                          ] 5.47/100.00 ela: 00:02:47 rem: 00:48:06\u001b[2K\u001b[G   5.5% [=>                          ] 5.48/100.00 ela: 00:02:47 rem: 00:48:05\u001b[2K\u001b[G   5.5% [=>                          ] 5.48/100.00 ela: 00:02:47 rem: 00:48:04\u001b[2K\u001b[G   5.5% [=>                          ] 5.49/100.00 ela: 00:02:47 rem: 00:48:04\u001b[2K\u001b[G   5.5% [=>                          ] 5.49/100.00 ela: 00:02:47 rem: 00:48:03\u001b[2K\u001b[G   5.5% [=>                          ] 5.50/100.00 ela: 00:02:47 rem: 00:48:02\u001b[2K\u001b[G   5.5% [=>                          ] 5.50/100.00 ela: 00:02:47 rem: 00:48:02\u001b[2K\u001b[G   5.5% [=>                          ] 5.51/100.00 ela: 00:02:48 rem: 00:48:01\u001b[2K\u001b[G   5.5% [=>                          ] 5.51/100.00 ela: 00:02:48 rem: 00:48:00\u001b[2K\u001b[G   5.5% [=>                          ] 5.52/100.00 ela: 00:02:48 rem: 00:48:00\u001b[2K\u001b[G   5.5% [=>                          ] 5.52/100.00 ela: 00:02:48 rem: 00:47:59\u001b[2K\u001b[G   5.5% [=>                          ] 5.53/100.00 ela: 00:02:48 rem: 00:47:58\u001b[2K\u001b[G   5.5% [=>                          ] 5.53/100.00 ela: 00:02:48 rem: 00:47:58\u001b[2K\u001b[G   5.6% [==>                         ] 5.57/100.00 ela: 00:02:48 rem: 00:47:39\u001b[2K\u001b[G   5.6% [==>                         ] 5.58/100.00 ela: 00:02:48 rem: 00:47:38\u001b[2K\u001b[G   5.6% [==>                         ] 5.58/100.00 ela: 00:02:49 rem: 00:47:38\u001b[2K\u001b[G   5.6% [==>                         ] 5.59/100.00 ela: 00:02:49 rem: 00:47:37\u001b[2K\u001b[G   5.6% [==>                         ] 5.59/100.00 ela: 00:02:49 rem: 00:47:37\u001b[2K\u001b[G   5.6% [==>                         ] 5.60/100.00 ela: 00:02:49 rem: 00:47:36\u001b[2K\u001b[G   5.6% [==>                         ] 5.63/100.00 ela: 00:02:49 rem: 00:47:20\u001b[2K\u001b[G   5.6% [==>                         ] 5.64/100.00 ela: 00:02:49 rem: 00:47:19\u001b[2K\u001b[G   5.6% [==>                         ] 5.64/100.00 ela: 00:02:49 rem: 00:47:19\u001b[2K\u001b[G   5.6% [==>                         ] 5.65/100.00 ela: 00:02:50 rem: 00:47:18\u001b[2K\u001b[G   5.7% [==>                         ] 5.65/100.00 ela: 00:02:50 rem: 00:47:18\u001b[2K\u001b[G   5.7% [==>                         ] 5.66/100.00 ela: 00:02:50 rem: 00:47:17\u001b[2K\u001b[G   5.7% [==>                         ] 5.66/100.00 ela: 00:02:50 rem: 00:47:17\u001b[2K\u001b[G   5.7% [==>                         ] 5.67/100.00 ela: 00:02:50 rem: 00:47:16\u001b[2K\u001b[G   5.7% [==>                         ] 5.67/100.00 ela: 00:02:50 rem: 00:47:16\u001b[2K\u001b[G   5.7% [==>                         ] 5.68/100.00 ela: 00:02:50 rem: 00:47:16\u001b[2K\u001b[G   5.7% [==>                         ] 5.68/100.00 ela: 00:02:50 rem: 00:47:15\u001b[2K\u001b[G   5.7% [==>                         ] 5.69/100.00 ela: 00:02:51 rem: 00:47:15\u001b[2K\u001b[G   5.7% [==>                         ] 5.69/100.00 ela: 00:02:51 rem: 00:47:14\u001b[2K\u001b[G   5.7% [==>                         ] 5.70/100.00 ela: 00:02:51 rem: 00:47:13\u001b[2K\u001b[G   5.7% [==>                         ] 5.70/100.00 ela: 00:02:51 rem: 00:47:13\u001b[2K\u001b[G   5.7% [==>                         ] 5.71/100.00 ela: 00:02:51 rem: 00:47:13\u001b[2K\u001b[G   5.7% [==>                         ] 5.71/100.00 ela: 00:02:51 rem: 00:47:12\u001b[2K\u001b[G   5.7% [==>                         ] 5.72/100.00 ela: 00:02:51 rem: 00:47:12\u001b[2K\u001b[G   5.7% [==>                         ] 5.72/100.00 ela: 00:02:51 rem: 00:47:11\u001b[2K\u001b[G   5.7% [==>                         ] 5.73/100.00 ela: 00:02:52 rem: 00:47:11\u001b[2K\u001b[G   5.7% [==>                         ] 5.73/100.00 ela: 00:02:52 rem: 00:47:10\u001b[2K\u001b[G   5.7% [==>                         ] 5.74/100.00 ela: 00:02:52 rem: 00:47:10\u001b[2K\u001b[G   5.7% [==>                         ] 5.74/100.00 ela: 00:02:52 rem: 00:47:10\u001b[2K\u001b[G   5.8% [==>                         ] 5.78/100.00 ela: 00:02:52 rem: 00:46:51\u001b[2K\u001b[G   5.8% [==>                         ] 5.79/100.00 ela: 00:02:52 rem: 00:46:51\u001b[2K\u001b[G   5.8% [==>                         ] 5.84/100.00 ela: 00:02:52 rem: 00:46:24\u001b[2K\u001b[G   5.9% [==>                         ] 5.87/100.00 ela: 00:02:53 rem: 00:46:15\u001b[2K\u001b[G   5.9% [==>                         ] 5.91/100.00 ela: 00:02:53 rem: 00:45:55\u001b[2K\u001b[G   5.9% [==>                         ] 5.92/100.00 ela: 00:02:53 rem: 00:45:54\u001b[2K\u001b[G   5.9% [==>                         ] 5.93/100.00 ela: 00:02:53 rem: 00:45:52\u001b[2K\u001b[G   6.0% [==>                         ] 5.99/100.00 ela: 00:02:53 rem: 00:45:25\u001b[2K\u001b[G   6.1% [==>                         ] 6.06/100.00 ela: 00:02:53 rem: 00:44:53\u001b[2K\u001b[G   6.1% [==>                         ] 6.08/100.00 ela: 00:02:53 rem: 00:44:43\u001b[2K\u001b[G   6.1% [==>                         ] 6.12/100.00 ela: 00:02:54 rem: 00:44:27\u001b[2K\u001b[G   6.1% [==>                         ] 6.13/100.00 ela: 00:02:54 rem: 00:44:27\u001b[2K\u001b[G   6.1% [==>                         ] 6.13/100.00 ela: 00:02:54 rem: 00:44:27\u001b[2K\u001b[G   6.1% [==>                         ] 6.14/100.00 ela: 00:02:54 rem: 00:44:27\u001b[2K\u001b[G   6.1% [==>                         ] 6.14/100.00 ela: 00:02:54 rem: 00:44:27\u001b[2K\u001b[G   6.1% [==>                         ] 6.15/100.00 ela: 00:02:54 rem: 00:44:26\u001b[2K\u001b[G   6.2% [==>                         ] 6.15/100.00 ela: 00:02:54 rem: 00:44:26\u001b[2K\u001b[G   6.2% [==>                         ] 6.16/100.00 ela: 00:02:55 rem: 00:44:26\u001b[2K\u001b[G   6.2% [==>                         ] 6.16/100.00 ela: 00:02:55 rem: 00:44:26\u001b[2K\u001b[G   6.2% [==>                         ] 6.17/100.00 ela: 00:02:55 rem: 00:44:26\u001b[2K\u001b[G   6.2% [==>                         ] 6.17/100.00 ela: 00:02:55 rem: 00:44:25\u001b[2K\u001b[G   6.2% [==>                         ] 6.18/100.00 ela: 00:02:55 rem: 00:44:25\u001b[2K\u001b[G   6.2% [==>                         ] 6.18/100.00 ela: 00:02:55 rem: 00:44:25\u001b[2K\u001b[G   6.2% [==>                         ] 6.23/100.00 ela: 00:02:55 rem: 00:44:07\u001b[2K\u001b[G   6.3% [==>                         ] 6.28/100.00 ela: 00:02:55 rem: 00:43:46\u001b[2K\u001b[G   6.4% [==>                         ] 6.44/100.00 ela: 00:02:56 rem: 00:42:36\u001b[2K\u001b[G   6.5% [==>                         ] 6.45/100.00 ela: 00:02:56 rem: 00:42:34\u001b[2K\u001b[G   6.5% [==>                         ] 6.53/100.00 ela: 00:02:56 rem: 00:42:02\u001b[2K\u001b[G   6.6% [==>                         ] 6.63/100.00 ela: 00:02:56 rem: 00:41:24\u001b[2K\u001b[G   6.7% [==>                         ] 6.71/100.00 ela: 00:02:56 rem: 00:40:54\u001b[2K\u001b[G   6.7% [==>                         ] 6.75/100.00 ela: 00:02:56 rem: 00:40:40\u001b[2K\u001b[G   6.8% [==>                         ] 6.75/100.00 ela: 00:02:56 rem: 00:40:40\u001b[2K\u001b[G   6.8% [==>                         ] 6.76/100.00 ela: 00:02:56 rem: 00:40:40\u001b[2K\u001b[G   6.8% [==>                         ] 6.79/100.00 ela: 00:02:57 rem: 00:40:31\u001b[2K\u001b[G   6.8% [==>                         ] 6.83/100.00 ela: 00:02:57 rem: 00:40:15\u001b[2K\u001b[G   6.9% [==>                         ] 6.92/100.00 ela: 00:02:57 rem: 00:39:42\u001b[2K\u001b[G   7.1% [==>                         ] 7.10/100.00 ela: 00:02:57 rem: 00:38:41\u001b[2K\u001b[G   7.1% [==>                         ] 7.14/100.00 ela: 00:02:57 rem: 00:38:27\u001b[2K\u001b[G   7.2% [==>                         ] 7.18/100.00 ela: 00:02:57 rem: 00:38:16\u001b[2K\u001b[G   7.2% [==>                         ] 7.20/100.00 ela: 00:02:57 rem: 00:38:11\u001b[2K\u001b[G   7.2% [==>                         ] 7.22/100.00 ela: 00:02:57 rem: 00:38:04\u001b[2K\u001b[G   7.2% [==>                         ] 7.23/100.00 ela: 00:02:58 rem: 00:38:05\u001b[2K\u001b[G   7.2% [==>                         ] 7.24/100.00 ela: 00:02:58 rem: 00:38:03\u001b[2K\u001b[G   7.3% [==>                         ] 7.25/100.00 ela: 00:02:58 rem: 00:37:59\u001b[2K\u001b[G   7.4% [==>                         ] 7.36/100.00 ela: 00:02:58 rem: 00:37:24\u001b[2K\u001b[G   7.4% [==>                         ] 7.41/100.00 ela: 00:02:58 rem: 00:37:09\u001b[2K\u001b[G   7.5% [==>                         ] 7.45/100.00 ela: 00:02:58 rem: 00:36:57\u001b[2K\u001b[G   7.5% [==>                         ] 7.49/100.00 ela: 00:02:58 rem: 00:36:46\u001b[2K\u001b[G   7.5% [==>                         ] 7.52/100.00 ela: 00:02:58 rem: 00:36:39\u001b[2K\u001b[G   7.5% [==>                         ] 7.53/100.00 ela: 00:02:58 rem: 00:36:36\u001b[2K\u001b[G   7.7% [==>                         ] 7.66/100.00 ela: 00:02:59 rem: 00:35:57\u001b[2K\u001b[G   7.7% [==>                         ] 7.74/100.00 ela: 00:02:59 rem: 00:35:34\u001b[2K\u001b[G   7.9% [==>                         ] 7.90/100.00 ela: 00:02:59 rem: 00:34:50\u001b[2K\u001b[G   8.1% [==>                         ] 8.06/100.00 ela: 00:02:59 rem: 00:34:04"
     ]
    },
    {
     "name": "stdout",
     "output_type": "stream",
     "text": [
      "\u001b[2K\u001b[G   8.3% [==>                         ] 8.31/100.00 ela: 00:02:59 rem: 00:32:59\u001b[2K\u001b[G   8.4% [==>                         ] 8.44/100.00 ela: 00:02:59 rem: 00:32:27\u001b[2K\u001b[G   8.5% [==>                         ] 8.48/100.00 ela: 00:02:59 rem: 00:32:18\u001b[2K\u001b[G   8.6% [==>                         ] 8.59/100.00 ela: 00:02:59 rem: 00:31:53\u001b[2K\u001b[G   8.6% [==>                         ] 8.59/100.00 ela: 00:02:59 rem: 00:31:53\u001b[2K\u001b[G   8.6% [==>                         ] 8.61/100.00 ela: 00:03:00 rem: 00:31:51\u001b[2K\u001b[G   8.6% [==>                         ] 8.62/100.00 ela: 00:03:00 rem: 00:31:51\u001b[2K\u001b[G   8.7% [==>                         ] 8.66/100.00 ela: 00:03:00 rem: 00:31:42\u001b[2K\u001b[G   8.7% [==>                         ] 8.66/100.00 ela: 00:03:00 rem: 00:31:42\u001b[2K\u001b[G   8.7% [==>                         ] 8.73/100.00 ela: 00:03:00 rem: 00:31:28\u001b[2K\u001b[G   8.8% [==>                         ] 8.76/100.00 ela: 00:03:00 rem: 00:31:23\u001b[2K\u001b[G   8.8% [==>                         ] 8.81/100.00 ela: 00:03:01 rem: 00:31:14\u001b[2K\u001b[G   8.8% [==>                         ] 8.81/100.00 ela: 00:03:01 rem: 00:31:14\u001b[2K\u001b[G   8.8% [==>                         ] 8.84/100.00 ela: 00:03:01 rem: 00:31:10\u001b[2K\u001b[G   8.8% [==>                         ] 8.84/100.00 ela: 00:03:01 rem: 00:31:10\u001b[2K\u001b[G   8.9% [==>                         ] 8.91/100.00 ela: 00:03:01 rem: 00:30:55\u001b[2K\u001b[G   9.0% [==>                         ] 8.96/100.00 ela: 00:03:01 rem: 00:30:47\u001b[2K\u001b[G   9.0% [==>                         ] 9.00/100.00 ela: 00:03:01 rem: 00:30:39\u001b[2K\u001b[G   9.0% [==>                         ] 9.04/100.00 ela: 00:03:02 rem: 00:30:31\u001b[2K\u001b[G   9.1% [==>                         ] 9.13/100.00 ela: 00:03:02 rem: 00:30:14\u001b[2K\u001b[G   9.2% [==>                         ] 9.17/100.00 ela: 00:03:02 rem: 00:30:07\u001b[2K\u001b[G   9.3% [==>                         ] 9.26/100.00 ela: 00:03:02 rem: 00:29:48\u001b[2K\u001b[G   9.3% [===>                        ] 9.28/100.00 ela: 00:03:02 rem: 00:29:44\u001b[2K\u001b[G   9.3% [===>                        ] 9.33/100.00 ela: 00:03:02 rem: 00:29:34\u001b[2K\u001b[G   9.4% [===>                        ] 9.41/100.00 ela: 00:03:02 rem: 00:29:20\u001b[2K\u001b[G   9.4% [===>                        ] 9.42/100.00 ela: 00:03:02 rem: 00:29:18\u001b[2K\u001b[G   9.4% [===>                        ] 9.45/100.00 ela: 00:03:02 rem: 00:29:14\u001b[2K\u001b[G   9.6% [===>                        ] 9.56/100.00 ela: 00:03:03 rem: 00:28:52\u001b[2K\u001b[G   9.6% [===>                        ] 9.62/100.00 ela: 00:03:03 rem: 00:28:41\u001b[2K\u001b[G   9.6% [===>                        ] 9.63/100.00 ela: 00:03:03 rem: 00:28:41\u001b[2K\u001b[G   9.6% [===>                        ] 9.63/100.00 ela: 00:03:03 rem: 00:28:41\u001b[2K\u001b[G   9.7% [===>                        ] 9.71/100.00 ela: 00:03:03 rem: 00:28:28\u001b[2K\u001b[G   9.7% [===>                        ] 9.74/100.00 ela: 00:03:03 rem: 00:28:22\u001b[2K\u001b[G   9.7% [===>                        ] 9.75/100.00 ela: 00:03:03 rem: 00:28:22\u001b[2K\u001b[G   9.8% [===>                        ] 9.79/100.00 ela: 00:03:03 rem: 00:28:16\u001b[2K\u001b[G   9.9% [===>                        ] 9.87/100.00 ela: 00:03:04 rem: 00:28:01\u001b[2K\u001b[G  10.0% [===>                        ] 10.00/100.00 ela: 00:03:04 rem: 00:27:38\u001b[2K\u001b[G  10.0% [===>                        ] 10.04/100.00 ela: 00:03:04 rem: 00:27:33\u001b[2K\u001b[G  10.0% [===>                        ] 10.04/100.00 ela: 00:03:04 rem: 00:27:33\u001b[2K\u001b[G  10.1% [===>                        ] 10.09/100.00 ela: 00:03:04 rem: 00:27:25\u001b[2K\u001b[G  10.2% [===>                        ] 10.23/100.00 ela: 00:03:04 rem: 00:27:01\u001b[2K\u001b[G  10.4% [===>                        ] 10.42/100.00 ela: 00:03:04 rem: 00:26:28\u001b[2K\u001b[G  10.5% [===>                        ] 10.54/100.00 ela: 00:03:04 rem: 00:26:10\u001b[2K\u001b[G  10.6% [===>                        ] 10.57/100.00 ela: 00:03:05 rem: 00:26:06\u001b[2K\u001b[G  10.6% [===>                        ] 10.59/100.00 ela: 00:03:05 rem: 00:26:05\u001b[2K\u001b[G  10.6% [===>                        ] 10.61/100.00 ela: 00:03:05 rem: 00:26:02\u001b[2K\u001b[G  10.6% [===>                        ] 10.62/100.00 ela: 00:03:05 rem: 00:26:02\u001b[2K\u001b[G  10.7% [===>                        ] 10.68/100.00 ela: 00:03:05 rem: 00:25:53\u001b[2K\u001b[G  10.7% [===>                        ] 10.73/100.00 ela: 00:03:05 rem: 00:25:46\u001b[2K\u001b[G  10.8% [===>                        ] 10.79/100.00 ela: 00:03:05 rem: 00:25:38\u001b[2K\u001b[G  10.8% [===>                        ] 10.85/100.00 ela: 00:03:06 rem: 00:25:29\u001b[2K\u001b[G  10.9% [===>                        ] 10.93/100.00 ela: 00:03:06 rem: 00:25:17\u001b[2K\u001b[G  11.0% [===>                        ] 11.02/100.00 ela: 00:03:06 rem: 00:25:05\u001b[2K\u001b[G  11.0% [===>                        ] 11.05/100.00 ela: 00:03:06 rem: 00:25:01\u001b[2K\u001b[G  11.1% [===>                        ] 11.05/100.00 ela: 00:03:06 rem: 00:25:01\u001b[2K\u001b[G  11.1% [===>                        ] 11.10/100.00 ela: 00:03:06 rem: 00:24:55\u001b[2K\u001b[G  11.2% [===>                        ] 11.17/100.00 ela: 00:03:06 rem: 00:24:46\u001b[2K\u001b[G  11.2% [===>                        ] 11.21/100.00 ela: 00:03:06 rem: 00:24:41\u001b[2K\u001b[G  11.2% [===>                        ] 11.23/100.00 ela: 00:03:07 rem: 00:24:38\u001b[2K\u001b[G  11.3% [===>                        ] 11.32/100.00 ela: 00:03:07 rem: 00:24:26\u001b[2K\u001b[G  11.4% [===>                        ] 11.38/100.00 ela: 00:03:07 rem: 00:24:18\u001b[2K\u001b[G  11.4% [===>                        ] 11.39/100.00 ela: 00:03:07 rem: 00:24:18\u001b[2K\u001b[G  11.5% [===>                        ] 11.48/100.00 ela: 00:03:07 rem: 00:24:06\u001b[2K\u001b[G  11.5% [===>                        ] 11.49/100.00 ela: 00:03:07 rem: 00:24:06\u001b[2K\u001b[G  11.5% [===>                        ] 11.50/100.00 ela: 00:03:07 rem: 00:24:05\u001b[2K\u001b[G  11.6% [===>                        ] 11.57/100.00 ela: 00:03:07 rem: 00:23:57\u001b[2K\u001b[G  11.7% [===>                        ] 11.66/100.00 ela: 00:03:08 rem: 00:23:45\u001b[2K\u001b[G  11.8% [===>                        ] 11.84/100.00 ela: 00:03:08 rem: 00:23:21\u001b[2K\u001b[G  11.9% [===>                        ] 11.95/100.00 ela: 00:03:08 rem: 00:23:08\u001b[2K\u001b[G  12.0% [===>                        ] 11.99/100.00 ela: 00:03:08 rem: 00:23:03\u001b[2K\u001b[G  12.0% [===>                        ] 11.99/100.00 ela: 00:03:08 rem: 00:23:04\u001b[2K\u001b[G  12.0% [===>                        ] 12.00/100.00 ela: 00:03:08 rem: 00:23:04\u001b[2K\u001b[G  12.1% [===>                        ] 12.10/100.00 ela: 00:03:08 rem: 00:22:52\u001b[2K\u001b[G  12.2% [===>                        ] 12.24/100.00 ela: 00:03:08 rem: 00:22:34\u001b[2K\u001b[G  12.3% [===>                        ] 12.34/100.00 ela: 00:03:09 rem: 00:22:22\u001b[2K\u001b[G  12.6% [===>                        ] 12.59/100.00 ela: 00:03:09 rem: 00:21:53\u001b[2K\u001b[G  12.8% [===>                        ] 12.78/100.00 ela: 00:03:09 rem: 00:21:31\u001b[2K\u001b[G  12.9% [===>                        ] 12.93/100.00 ela: 00:03:09 rem: 00:21:15\u001b[2K\u001b[G  13.1% [====>                       ] 13.13/100.00 ela: 00:03:09 rem: 00:20:53\u001b[2K\u001b[G  13.4% [====>                       ] 13.37/100.00 ela: 00:03:09 rem: 00:20:28\u001b[2K\u001b[G  13.5% [====>                       ] 13.51/100.00 ela: 00:03:09 rem: 00:20:14\u001b[2K\u001b[G  13.7% [====>                       ] 13.69/100.00 ela: 00:03:09 rem: 00:19:56\u001b[2K\u001b[G  13.9% [====>                       ] 13.85/100.00 ela: 00:03:09 rem: 00:19:41\u001b[2K\u001b[G  14.1% [====>                       ] 14.06/100.00 ela: 00:03:09 rem: 00:19:21\u001b[2K\u001b[G  14.3% [====>                       ] 14.27/100.00 ela: 00:03:10 rem: 00:19:02\u001b[2K\u001b[G  14.4% [====>                       ] 14.36/100.00 ela: 00:03:10 rem: 00:18:54\u001b[2K\u001b[G  14.4% [====>                       ] 14.41/100.00 ela: 00:03:10 rem: 00:18:50\u001b[2K\u001b[G  14.5% [====>                       ] 14.49/100.00 ela: 00:03:10 rem: 00:18:44\u001b[2K\u001b[G  14.6% [====>                       ] 14.60/100.00 ela: 00:03:10 rem: 00:18:34\u001b[2K\u001b[G  14.8% [====>                       ] 14.76/100.00 ela: 00:03:10 rem: 00:18:21\u001b[2K\u001b[G  15.0% [====>                       ] 15.05/100.00 ela: 00:03:10 rem: 00:17:56\u001b[2K\u001b[G  15.1% [====>                       ] 15.13/100.00 ela: 00:03:10 rem: 00:17:50\u001b[2K\u001b[G  15.2% [====>                       ] 15.22/100.00 ela: 00:03:10 rem: 00:17:43\u001b[2K\u001b[G  15.3% [====>                       ] 15.35/100.00 ela: 00:03:11 rem: 00:17:34\u001b[2K\u001b[G  15.5% [====>                       ] 15.47/100.00 ela: 00:03:11 rem: 00:17:24\u001b[2K\u001b[G  15.5% [====>                       ] 15.52/100.00 ela: 00:03:11 rem: 00:17:21"
     ]
    },
    {
     "name": "stdout",
     "output_type": "stream",
     "text": [
      "\u001b[2K\u001b[G  15.6% [====>                       ] 15.60/100.00 ela: 00:03:11 rem: 00:17:15\u001b[2K\u001b[G  15.9% [====>                       ] 15.86/100.00 ela: 00:03:11 rem: 00:16:56\u001b[2K\u001b[G  16.1% [====>                       ] 16.09/100.00 ela: 00:03:11 rem: 00:16:39\u001b[2K\u001b[G  16.3% [====>                       ] 16.29/100.00 ela: 00:03:11 rem: 00:16:25\u001b[2K\u001b[G  16.5% [====>                       ] 16.51/100.00 ela: 00:03:11 rem: 00:16:10\u001b[2K\u001b[G  16.6% [====>                       ] 16.60/100.00 ela: 00:03:11 rem: 00:16:04\u001b[2K\u001b[G  16.7% [=====>                      ] 16.70/100.00 ela: 00:03:12 rem: 00:15:58\u001b[2K\u001b[G  16.8% [=====>                      ] 16.80/100.00 ela: 00:03:12 rem: 00:15:51\u001b[2K\u001b[G  17.0% [=====>                      ] 17.02/100.00 ela: 00:03:12 rem: 00:15:37\u001b[2K\u001b[G  17.2% [=====>                      ] 17.22/100.00 ela: 00:03:12 rem: 00:15:24\u001b[2K\u001b[G  17.4% [=====>                      ] 17.37/100.00 ela: 00:03:12 rem: 00:15:15\u001b[2K\u001b[G  17.6% [=====>                      ] 17.64/100.00 ela: 00:03:12 rem: 00:14:59\u001b[2K\u001b[G  17.8% [=====>                      ] 17.85/100.00 ela: 00:03:12 rem: 00:14:47\u001b[2K\u001b[G  18.0% [=====>                      ] 18.04/100.00 ela: 00:03:12 rem: 00:14:36\u001b[2K\u001b[G  18.2% [=====>                      ] 18.22/100.00 ela: 00:03:12 rem: 00:14:26\u001b[2K\u001b[G  18.4% [=====>                      ] 18.44/100.00 ela: 00:03:13 rem: 00:14:14\u001b[2K\u001b[G  18.6% [=====>                      ] 18.62/100.00 ela: 00:03:13 rem: 00:14:04\u001b[2K\u001b[G  18.8% [=====>                      ] 18.84/100.00 ela: 00:03:13 rem: 00:13:52\u001b[2K\u001b[G  19.1% [=====>                      ] 19.11/100.00 ela: 00:03:13 rem: 00:13:38\u001b[2K\u001b[G  19.4% [=====>                      ] 19.41/100.00 ela: 00:03:13 rem: 00:13:23\u001b[2K\u001b[G  19.7% [=====>                      ] 19.65/100.00 ela: 00:03:13 rem: 00:13:11\u001b[2K\u001b[G  19.9% [=====>                      ] 19.94/100.00 ela: 00:03:13 rem: 00:12:57\u001b[2K\u001b[G  20.2% [=====>                      ] 20.17/100.00 ela: 00:03:13 rem: 00:12:46\u001b[2K\u001b[G  20.5% [======>                     ] 20.46/100.00 ela: 00:03:13 rem: 00:12:33\u001b[2K\u001b[G  20.6% [======>                     ] 20.61/100.00 ela: 00:03:13 rem: 00:12:27\u001b[2K\u001b[G  20.6% [======>                     ] 20.63/100.00 ela: 00:03:14 rem: 00:12:26\u001b[2K\u001b[G  20.9% [======>                     ] 20.86/100.00 ela: 00:03:14 rem: 00:12:16\u001b[2K\u001b[G  21.2% [======>                     ] 21.16/100.00 ela: 00:03:14 rem: 00:12:03\u001b[2K\u001b[G  21.4% [======>                     ] 21.43/100.00 ela: 00:03:14 rem: 00:11:52\u001b[2K\u001b[G  21.7% [======>                     ] 21.70/100.00 ela: 00:03:14 rem: 00:11:41\u001b[2K\u001b[G  22.0% [======>                     ] 21.95/100.00 ela: 00:03:14 rem: 00:11:31\u001b[2K\u001b[G  22.2% [======>                     ] 22.17/100.00 ela: 00:03:14 rem: 00:11:23\u001b[2K\u001b[G  22.3% [======>                     ] 22.28/100.00 ela: 00:03:14 rem: 00:11:19\u001b[2K\u001b[G  22.4% [======>                     ] 22.36/100.00 ela: 00:03:14 rem: 00:11:16\u001b[2K\u001b[G  22.7% [======>                     ] 22.67/100.00 ela: 00:03:14 rem: 00:11:05\u001b[2K\u001b[G  22.8% [======>                     ] 22.82/100.00 ela: 00:03:15 rem: 00:10:59\u001b[2K\u001b[G  23.0% [======>                     ] 22.96/100.00 ela: 00:03:15 rem: 00:10:55\u001b[2K\u001b[G  23.0% [======>                     ] 23.00/100.00 ela: 00:03:15 rem: 00:10:53\u001b[2K\u001b[G  23.3% [======>                     ] 23.32/100.00 ela: 00:03:15 rem: 00:10:42\u001b[2K\u001b[G  23.6% [======>                     ] 23.60/100.00 ela: 00:03:15 rem: 00:10:33\u001b[2K\u001b[G  23.6% [======>                     ] 23.63/100.00 ela: 00:03:15 rem: 00:10:32\u001b[2K\u001b[G  23.8% [======>                     ] 23.83/100.00 ela: 00:03:15 rem: 00:10:25\u001b[2K\u001b[G  24.1% [======>                     ] 24.05/100.00 ela: 00:03:15 rem: 00:10:18\u001b[2K\u001b[G  24.3% [=======>                    ] 24.29/100.00 ela: 00:03:15 rem: 00:10:10\u001b[2K\u001b[G  24.4% [=======>                    ] 24.44/100.00 ela: 00:03:16 rem: 00:10:06\u001b[2K\u001b[G  24.7% [=======>                    ] 24.70/100.00 ela: 00:03:16 rem: 00:09:57\u001b[2K\u001b[G  24.9% [=======>                    ] 24.86/100.00 ela: 00:03:16 rem: 00:09:53\u001b[2K\u001b[G  25.1% [=======>                    ] 25.06/100.00 ela: 00:03:16 rem: 00:09:47\u001b[2K\u001b[G  25.3% [=======>                    ] 25.26/100.00 ela: 00:03:16 rem: 00:09:41\u001b[2K\u001b[G  25.5% [=======>                    ] 25.46/100.00 ela: 00:03:16 rem: 00:09:35\u001b[2K\u001b[G  25.7% [=======>                    ] 25.66/100.00 ela: 00:03:16 rem: 00:09:29\u001b[2K\u001b[G  25.9% [=======>                    ] 25.89/100.00 ela: 00:03:16 rem: 00:09:23\u001b[2K\u001b[G  26.1% [=======>                    ] 26.13/100.00 ela: 00:03:16 rem: 00:09:16\u001b[2K\u001b[G  26.4% [=======>                    ] 26.39/100.00 ela: 00:03:16 rem: 00:09:09\u001b[2K\u001b[G  26.6% [=======>                    ] 26.60/100.00 ela: 00:03:17 rem: 00:09:03\u001b[2K\u001b[G  26.8% [=======>                    ] 26.84/100.00 ela: 00:03:17 rem: 00:08:57\u001b[2K\u001b[G  27.1% [=======>                    ] 27.07/100.00 ela: 00:03:17 rem: 00:08:51\u001b[2K\u001b[G  27.3% [=======>                    ] 27.32/100.00 ela: 00:03:17 rem: 00:08:45\u001b[2K\u001b[G  27.5% [=======>                    ] 27.52/100.00 ela: 00:03:17 rem: 00:08:39\u001b[2K\u001b[G  27.7% [=======>                    ] 27.74/100.00 ela: 00:03:17 rem: 00:08:34\u001b[2K\u001b[G  27.9% [========>                   ] 27.89/100.00 ela: 00:03:17 rem: 00:08:31\u001b[2K\u001b[G  28.2% [========>                   ] 28.19/100.00 ela: 00:03:17 rem: 00:08:23\u001b[2K\u001b[G  28.4% [========>                   ] 28.38/100.00 ela: 00:03:17 rem: 00:08:19\u001b[2K\u001b[G  28.5% [========>                   ] 28.53/100.00 ela: 00:03:17 rem: 00:08:15\u001b[2K\u001b[G  28.8% [========>                   ] 28.80/100.00 ela: 00:03:18 rem: 00:08:09\u001b[2K\u001b[G  29.1% [========>                   ] 29.05/100.00 ela: 00:03:18 rem: 00:08:03\u001b[2K\u001b[G  29.2% [========>                   ] 29.16/100.00 ela: 00:03:18 rem: 00:08:01\u001b[2K\u001b[G  29.3% [========>                   ] 29.29/100.00 ela: 00:03:18 rem: 00:07:58\u001b[2K\u001b[G  29.6% [========>                   ] 29.56/100.00 ela: 00:03:18 rem: 00:07:53\u001b[2K\u001b[G  29.7% [========>                   ] 29.75/100.00 ela: 00:03:18 rem: 00:07:48\u001b[2K\u001b[G  29.9% [========>                   ] 29.87/100.00 ela: 00:03:18 rem: 00:07:46\u001b[2K\u001b[G  30.0% [========>                   ] 30.00/100.00 ela: 00:03:18 rem: 00:07:43\u001b[2K\u001b[G  30.3% [========>                   ] 30.29/100.00 ela: 00:03:18 rem: 00:07:37\u001b[2K\u001b[G  30.4% [========>                   ] 30.36/100.00 ela: 00:03:19 rem: 00:07:36\u001b[2K\u001b[G  30.5% [========>                   ] 30.49/100.00 ela: 00:03:19 rem: 00:07:33\u001b[2K\u001b[G  30.7% [========>                   ] 30.73/100.00 ela: 00:03:19 rem: 00:07:28\u001b[2K\u001b[G  30.9% [========>                   ] 30.91/100.00 ela: 00:03:19 rem: 00:07:25\u001b[2K\u001b[G  31.0% [========>                   ] 30.96/100.00 ela: 00:03:19 rem: 00:07:24\u001b[2K\u001b[G  31.1% [========>                   ] 31.10/100.00 ela: 00:03:19 rem: 00:07:22\u001b[2K\u001b[G  31.4% [========>                   ] 31.43/100.00 ela: 00:03:19 rem: 00:07:15\u001b[2K\u001b[G  31.6% [=========>                  ] 31.57/100.00 ela: 00:03:19 rem: 00:07:12\u001b[2K\u001b[G  31.7% [=========>                  ] 31.71/100.00 ela: 00:03:19 rem: 00:07:10\u001b[2K\u001b[G  31.9% [=========>                  ] 31.92/100.00 ela: 00:03:19 rem: 00:07:06\u001b[2K\u001b[G  32.2% [=========>                  ] 32.17/100.00 ela: 00:03:20 rem: 00:07:01\u001b[2K\u001b[G  32.2% [=========>                  ] 32.18/100.00 ela: 00:03:20 rem: 00:07:02\u001b[2K\u001b[G  32.2% [=========>                  ] 32.18/100.00 ela: 00:03:20 rem: 00:07:02\u001b[2K\u001b[G  32.2% [=========>                  ] 32.19/100.00 ela: 00:03:20 rem: 00:07:02\u001b[2K\u001b[G  32.2% [=========>                  ] 32.19/100.00 ela: 00:03:20 rem: 00:07:02\u001b[2K\u001b[G  32.2% [=========>                  ] 32.20/100.00 ela: 00:03:20 rem: 00:07:02\u001b[2K\u001b[G  32.2% [=========>                  ] 32.20/100.00 ela: 00:03:20 rem: 00:07:03\u001b[2K\u001b[G  32.2% [=========>                  ] 32.21/100.00 ela: 00:03:21 rem: 00:07:03\u001b[2K\u001b[G  32.2% [=========>                  ] 32.22/100.00 ela: 00:03:21 rem: 00:07:03\u001b[2K\u001b[G  32.2% [=========>                  ] 32.23/100.00 ela: 00:03:21 rem: 00:07:03\u001b[2K\u001b[G  32.3% [=========>                  ] 32.25/100.00 ela: 00:03:21 rem: 00:07:03\u001b[2K\u001b[G  32.3% [=========>                  ] 32.26/100.00 ela: 00:03:21 rem: 00:07:03\u001b[2K\u001b[G  32.3% [=========>                  ] 32.26/100.00 ela: 00:03:21 rem: 00:07:03"
     ]
    },
    {
     "name": "stdout",
     "output_type": "stream",
     "text": [
      "\u001b[2K\u001b[G  32.3% [=========>                  ] 32.27/100.00 ela: 00:03:21 rem: 00:07:03\u001b[2K\u001b[G  32.3% [=========>                  ] 32.27/100.00 ela: 00:03:22 rem: 00:07:04\u001b[2K\u001b[G  32.3% [=========>                  ] 32.28/100.00 ela: 00:03:22 rem: 00:07:04\u001b[2K\u001b[G  32.3% [=========>                  ] 32.28/100.00 ela: 00:03:22 rem: 00:07:04\u001b[2K\u001b[G  32.3% [=========>                  ] 32.29/100.00 ela: 00:03:22 rem: 00:07:04\u001b[2K\u001b[G  32.3% [=========>                  ] 32.29/100.00 ela: 00:03:22 rem: 00:07:04\u001b[2K\u001b[G  32.3% [=========>                  ] 32.30/100.00 ela: 00:03:22 rem: 00:07:04\u001b[2K\u001b[G  32.3% [=========>                  ] 32.30/100.00 ela: 00:03:22 rem: 00:07:05\u001b[2K\u001b[G  32.3% [=========>                  ] 32.31/100.00 ela: 00:03:23 rem: 00:07:05\u001b[2K\u001b[G  32.3% [=========>                  ] 32.31/100.00 ela: 00:03:23 rem: 00:07:05\u001b[2K\u001b[G  32.3% [=========>                  ] 32.32/100.00 ela: 00:03:23 rem: 00:07:05\u001b[2K\u001b[G  32.3% [=========>                  ] 32.32/100.00 ela: 00:03:23 rem: 00:07:05\u001b[2K\u001b[G  32.3% [=========>                  ] 32.33/100.00 ela: 00:03:23 rem: 00:07:06\u001b[2K\u001b[G  32.3% [=========>                  ] 32.33/100.00 ela: 00:03:23 rem: 00:07:06\u001b[2K\u001b[G  32.3% [=========>                  ] 32.34/100.00 ela: 00:03:23 rem: 00:07:06\u001b[2K\u001b[G  32.3% [=========>                  ] 32.34/100.00 ela: 00:03:23 rem: 00:07:06\u001b[2K\u001b[G  32.3% [=========>                  ] 32.35/100.00 ela: 00:03:24 rem: 00:07:06\u001b[2K\u001b[G  32.4% [=========>                  ] 32.35/100.00 ela: 00:03:24 rem: 00:07:06\u001b[2K\u001b[G  32.4% [=========>                  ] 32.36/100.00 ela: 00:03:24 rem: 00:07:07\u001b[2K\u001b[G  32.4% [=========>                  ] 32.36/100.00 ela: 00:03:24 rem: 00:07:07\u001b[2K\u001b[G  32.4% [=========>                  ] 32.37/100.00 ela: 00:03:24 rem: 00:07:07\u001b[2K\u001b[G  32.4% [=========>                  ] 32.37/100.00 ela: 00:03:24 rem: 00:07:07\u001b[2K\u001b[G  32.4% [=========>                  ] 32.38/100.00 ela: 00:03:24 rem: 00:07:07\u001b[2K\u001b[G  32.4% [=========>                  ] 32.38/100.00 ela: 00:03:24 rem: 00:07:07\u001b[2K\u001b[G  32.4% [=========>                  ] 32.39/100.00 ela: 00:03:25 rem: 00:07:08\u001b[2K\u001b[G  32.4% [=========>                  ] 32.39/100.00 ela: 00:03:25 rem: 00:07:08\u001b[2K\u001b[G  32.4% [=========>                  ] 32.40/100.00 ela: 00:03:25 rem: 00:07:08\u001b[2K\u001b[G  32.4% [=========>                  ] 32.41/100.00 ela: 00:03:25 rem: 00:07:08\u001b[2K\u001b[G  32.4% [=========>                  ] 32.41/100.00 ela: 00:03:25 rem: 00:07:08\u001b[2K\u001b[G  32.4% [=========>                  ] 32.42/100.00 ela: 00:03:25 rem: 00:07:09\u001b[2K\u001b[G  32.6% [=========>                  ] 32.57/100.00 ela: 00:03:25 rem: 00:07:06\u001b[2K\u001b[G  32.9% [=========>                  ] 32.87/100.00 ela: 00:03:26 rem: 00:07:00\u001b[2K\u001b[G  33.0% [=========>                  ] 33.04/100.00 ela: 00:03:26 rem: 00:06:57\u001b[2K\u001b[G  33.3% [=========>                  ] 33.31/100.00 ela: 00:03:26 rem: 00:06:52\u001b[2K\u001b[G  33.6% [=========>                  ] 33.61/100.00 ela: 00:03:26 rem: 00:06:47\u001b[2K\u001b[G  33.8% [=========>                  ] 33.77/100.00 ela: 00:03:26 rem: 00:06:44\u001b[2K\u001b[G  33.8% [=========>                  ] 33.81/100.00 ela: 00:03:26 rem: 00:06:44\u001b[2K\u001b[G  33.9% [=========>                  ] 33.89/100.00 ela: 00:03:26 rem: 00:06:43\u001b[2K\u001b[G  34.1% [=========>                  ] 34.09/100.00 ela: 00:03:26 rem: 00:06:39\u001b[2K\u001b[G  34.4% [=========>                  ] 34.36/100.00 ela: 00:03:26 rem: 00:06:35\u001b[2K\u001b[G  34.7% [=========>                  ] 34.66/100.00 ela: 00:03:26 rem: 00:06:30\u001b[2K\u001b[G  34.9% [=========>                  ] 34.85/100.00 ela: 00:03:27 rem: 00:06:27\u001b[2K\u001b[G  35.2% [=========>                  ] 35.17/100.00 ela: 00:03:27 rem: 00:06:21\u001b[2K\u001b[G  35.3% [==========>                 ] 35.32/100.00 ela: 00:03:27 rem: 00:06:19\u001b[2K\u001b[G  35.6% [==========>                 ] 35.59/100.00 ela: 00:03:27 rem: 00:06:15\u001b[2K\u001b[G  35.9% [==========>                 ] 35.86/100.00 ela: 00:03:27 rem: 00:06:11\u001b[2K\u001b[G  36.1% [==========>                 ] 36.13/100.00 ela: 00:03:27 rem: 00:06:06\u001b[2K\u001b[G  36.4% [==========>                 ] 36.42/100.00 ela: 00:03:27 rem: 00:06:02\u001b[2K\u001b[G  36.7% [==========>                 ] 36.67/100.00 ela: 00:03:27 rem: 00:05:58\u001b[2K\u001b[G  36.8% [==========>                 ] 36.84/100.00 ela: 00:03:27 rem: 00:05:56\u001b[2K\u001b[G  37.0% [==========>                 ] 37.03/100.00 ela: 00:03:28 rem: 00:05:53\u001b[2K\u001b[G  37.2% [==========>                 ] 37.23/100.00 ela: 00:03:28 rem: 00:05:50\u001b[2K\u001b[G  37.4% [==========>                 ] 37.38/100.00 ela: 00:03:28 rem: 00:05:48\u001b[2K\u001b[G  37.4% [==========>                 ] 37.44/100.00 ela: 00:03:28 rem: 00:05:48\u001b[2K\u001b[G  37.6% [==========>                 ] 37.65/100.00 ela: 00:03:28 rem: 00:05:45\u001b[2K\u001b[G  37.7% [==========>                 ] 37.75/100.00 ela: 00:03:28 rem: 00:05:44\u001b[2K\u001b[G  38.0% [==========>                 ] 37.97/100.00 ela: 00:03:28 rem: 00:05:40\u001b[2K\u001b[G  38.2% [==========>                 ] 38.16/100.00 ela: 00:03:28 rem: 00:05:38\u001b[2K\u001b[G  38.3% [==========>                 ] 38.28/100.00 ela: 00:03:28 rem: 00:05:36\u001b[2K\u001b[G  38.3% [==========>                 ] 38.30/100.00 ela: 00:03:29 rem: 00:05:36\u001b[2K\u001b[G  38.5% [==========>                 ] 38.47/100.00 ela: 00:03:29 rem: 00:05:34\u001b[2K\u001b[G  38.6% [==========>                 ] 38.56/100.00 ela: 00:03:29 rem: 00:05:33\u001b[2K\u001b[G  38.6% [==========>                 ] 38.58/100.00 ela: 00:03:29 rem: 00:05:33\u001b[2K\u001b[G  38.6% [==========>                 ] 38.60/100.00 ela: 00:03:29 rem: 00:05:33\u001b[2K\u001b[G  38.6% [==========>                 ] 38.64/100.00 ela: 00:03:29 rem: 00:05:32\u001b[2K\u001b[G  38.7% [==========>                 ] 38.73/100.00 ela: 00:03:29 rem: 00:05:31\u001b[2K\u001b[G  38.9% [===========>                ] 38.93/100.00 ela: 00:03:29 rem: 00:05:29\u001b[2K\u001b[G  39.1% [===========>                ] 39.11/100.00 ela: 00:03:29 rem: 00:05:26\u001b[2K\u001b[G  39.2% [===========>                ] 39.22/100.00 ela: 00:03:30 rem: 00:05:25\u001b[2K\u001b[G  39.4% [===========>                ] 39.36/100.00 ela: 00:03:30 rem: 00:05:23\u001b[2K\u001b[G  39.4% [===========>                ] 39.38/100.00 ela: 00:03:30 rem: 00:05:23\u001b[2K\u001b[G  39.4% [===========>                ] 39.40/100.00 ela: 00:03:30 rem: 00:05:23\u001b[2K\u001b[G  39.4% [===========>                ] 39.43/100.00 ela: 00:03:30 rem: 00:05:23\u001b[2K\u001b[G  39.5% [===========>                ] 39.48/100.00 ela: 00:03:30 rem: 00:05:23\u001b[2K\u001b[G  39.6% [===========>                ] 39.59/100.00 ela: 00:03:30 rem: 00:05:21\u001b[2K\u001b[G  39.6% [===========>                ] 39.64/100.00 ela: 00:03:30 rem: 00:05:21\u001b[2K\u001b[G  39.7% [===========>                ] 39.69/100.00 ela: 00:03:31 rem: 00:05:20\u001b[2K\u001b[G  39.8% [===========>                ] 39.77/100.00 ela: 00:03:31 rem: 00:05:19\u001b[2K\u001b[G  39.8% [===========>                ] 39.81/100.00 ela: 00:03:31 rem: 00:05:19\u001b[2K\u001b[G  39.9% [===========>                ] 39.89/100.00 ela: 00:03:31 rem: 00:05:18\u001b[2K\u001b[G  40.0% [===========>                ] 39.96/100.00 ela: 00:03:31 rem: 00:05:17\u001b[2K\u001b[G  40.0% [===========>                ] 40.01/100.00 ela: 00:03:31 rem: 00:05:17\u001b[2K\u001b[G  40.1% [===========>                ] 40.05/100.00 ela: 00:03:31 rem: 00:05:17\u001b[2K\u001b[G  40.1% [===========>                ] 40.08/100.00 ela: 00:03:31 rem: 00:05:16\u001b[2K\u001b[G  40.1% [===========>                ] 40.14/100.00 ela: 00:03:32 rem: 00:05:16\u001b[2K\u001b[G  40.2% [===========>                ] 40.17/100.00 ela: 00:03:32 rem: 00:05:16\u001b[2K\u001b[G  40.2% [===========>                ] 40.23/100.00 ela: 00:03:32 rem: 00:05:15\u001b[2K\u001b[G  40.3% [===========>                ] 40.28/100.00 ela: 00:03:32 rem: 00:05:14\u001b[2K\u001b[G  40.3% [===========>                ] 40.30/100.00 ela: 00:03:32 rem: 00:05:14\u001b[2K\u001b[G  40.3% [===========>                ] 40.32/100.00 ela: 00:03:32 rem: 00:05:14\u001b[2K\u001b[G  40.4% [===========>                ] 40.39/100.00 ela: 00:03:32 rem: 00:05:13\u001b[2K\u001b[G  40.5% [===========>                ] 40.45/100.00 ela: 00:03:32 rem: 00:05:13\u001b[2K\u001b[G  40.5% [===========>                ] 40.51/100.00 ela: 00:03:32 rem: 00:05:12\u001b[2K\u001b[G  40.6% [===========>                ] 40.60/100.00 ela: 00:03:32 rem: 00:05:11\u001b[2K\u001b[G  40.7% [===========>                ] 40.69/100.00 ela: 00:03:33 rem: 00:05:10\u001b[2K\u001b[G  40.8% [===========>                ] 40.84/100.00 ela: 00:03:33 rem: 00:05:08"
     ]
    },
    {
     "name": "stdout",
     "output_type": "stream",
     "text": [
      "\u001b[2K\u001b[G  40.9% [===========>                ] 40.92/100.00 ela: 00:03:33 rem: 00:05:08\u001b[2K\u001b[G  41.0% [===========>                ] 41.02/100.00 ela: 00:03:33 rem: 00:05:06\u001b[2K\u001b[G  41.2% [===========>                ] 41.16/100.00 ela: 00:03:33 rem: 00:05:05\u001b[2K\u001b[G  41.2% [===========>                ] 41.25/100.00 ela: 00:03:33 rem: 00:05:04\u001b[2K\u001b[G  41.3% [===========>                ] 41.30/100.00 ela: 00:03:33 rem: 00:05:03\u001b[2K\u001b[G  41.4% [===========>                ] 41.36/100.00 ela: 00:03:33 rem: 00:05:03\u001b[2K\u001b[G  41.5% [===========>                ] 41.45/100.00 ela: 00:03:33 rem: 00:05:02\u001b[2K\u001b[G  41.5% [===========>                ] 41.54/100.00 ela: 00:03:34 rem: 00:05:01\u001b[2K\u001b[G  41.6% [===========>                ] 41.59/100.00 ela: 00:03:34 rem: 00:05:00\u001b[2K\u001b[G  41.6% [===========>                ] 41.64/100.00 ela: 00:03:34 rem: 00:05:00\u001b[2K\u001b[G  41.7% [===========>                ] 41.67/100.00 ela: 00:03:34 rem: 00:05:00\u001b[2K\u001b[G  41.7% [===========>                ] 41.68/100.00 ela: 00:03:34 rem: 00:05:00\u001b[2K\u001b[G  41.7% [===========>                ] 41.74/100.00 ela: 00:03:34 rem: 00:04:59\u001b[2K\u001b[G  41.8% [===========>                ] 41.81/100.00 ela: 00:03:34 rem: 00:04:59\u001b[2K\u001b[G  41.8% [===========>                ] 41.85/100.00 ela: 00:03:34 rem: 00:04:58\u001b[2K\u001b[G  41.9% [===========>                ] 41.92/100.00 ela: 00:03:35 rem: 00:04:57\u001b[2K\u001b[G  42.0% [===========>                ] 41.98/100.00 ela: 00:03:35 rem: 00:04:57\u001b[2K\u001b[G  42.0% [===========>                ] 42.01/100.00 ela: 00:03:35 rem: 00:04:57\u001b[2K\u001b[G  42.1% [===========>                ] 42.06/100.00 ela: 00:03:35 rem: 00:04:56\u001b[2K\u001b[G  42.1% [===========>                ] 42.12/100.00 ela: 00:03:35 rem: 00:04:56\u001b[2K\u001b[G  42.1% [===========>                ] 42.15/100.00 ela: 00:03:35 rem: 00:04:56\u001b[2K\u001b[G  42.2% [===========>                ] 42.19/100.00 ela: 00:03:35 rem: 00:04:55\u001b[2K\u001b[G  42.4% [===========>                ] 42.36/100.00 ela: 00:03:35 rem: 00:04:53\u001b[2K\u001b[G  42.5% [===========>                ] 42.52/100.00 ela: 00:03:35 rem: 00:04:51\u001b[2K\u001b[G  42.6% [============>               ] 42.61/100.00 ela: 00:03:36 rem: 00:04:51\u001b[2K\u001b[G  42.7% [============>               ] 42.68/100.00 ela: 00:03:36 rem: 00:04:50\u001b[2K\u001b[G  42.7% [============>               ] 42.75/100.00 ela: 00:03:36 rem: 00:04:49\u001b[2K\u001b[G  42.8% [============>               ] 42.83/100.00 ela: 00:03:36 rem: 00:04:48\u001b[2K\u001b[G  42.9% [============>               ] 42.89/100.00 ela: 00:03:36 rem: 00:04:48\u001b[2K\u001b[G  43.0% [============>               ] 42.96/100.00 ela: 00:03:36 rem: 00:04:47\u001b[2K\u001b[G  43.0% [============>               ] 43.03/100.00 ela: 00:03:36 rem: 00:04:46\u001b[2K\u001b[G  43.1% [============>               ] 43.08/100.00 ela: 00:03:36 rem: 00:04:46\u001b[2K\u001b[G  43.2% [============>               ] 43.17/100.00 ela: 00:03:36 rem: 00:04:45\u001b[2K\u001b[G  43.2% [============>               ] 43.22/100.00 ela: 00:03:37 rem: 00:04:45\u001b[2K\u001b[G  43.3% [============>               ] 43.29/100.00 ela: 00:03:37 rem: 00:04:44\u001b[2K\u001b[G  43.4% [============>               ] 43.38/100.00 ela: 00:03:37 rem: 00:04:43\u001b[2K\u001b[G  43.5% [============>               ] 43.46/100.00 ela: 00:03:37 rem: 00:04:42\u001b[2K\u001b[G  43.5% [============>               ] 43.55/100.00 ela: 00:03:37 rem: 00:04:41\u001b[2K\u001b[G  43.6% [============>               ] 43.61/100.00 ela: 00:03:37 rem: 00:04:41\u001b[2K\u001b[G  43.7% [============>               ] 43.68/100.00 ela: 00:03:37 rem: 00:04:40\u001b[2K\u001b[G  43.7% [============>               ] 43.75/100.00 ela: 00:03:37 rem: 00:04:40\u001b[2K\u001b[G  43.8% [============>               ] 43.82/100.00 ela: 00:03:37 rem: 00:04:39\u001b[2K\u001b[G  43.9% [============>               ] 43.88/100.00 ela: 00:03:37 rem: 00:04:38\u001b[2K\u001b[G  43.9% [============>               ] 43.91/100.00 ela: 00:03:38 rem: 00:04:38\u001b[2K\u001b[G  44.0% [============>               ] 44.00/100.00 ela: 00:03:38 rem: 00:04:37\u001b[2K\u001b[G  44.1% [============>               ] 44.07/100.00 ela: 00:03:38 rem: 00:04:36\u001b[2K\u001b[G  44.1% [============>               ] 44.14/100.00 ela: 00:03:38 rem: 00:04:36\u001b[2K\u001b[G  44.2% [============>               ] 44.20/100.00 ela: 00:03:38 rem: 00:04:35\u001b[2K\u001b[G  44.3% [============>               ] 44.26/100.00 ela: 00:03:38 rem: 00:04:35\u001b[2K\u001b[G  44.3% [============>               ] 44.31/100.00 ela: 00:03:38 rem: 00:04:34\u001b[2K\u001b[G  44.4% [============>               ] 44.38/100.00 ela: 00:03:38 rem: 00:04:34\u001b[2K\u001b[G  44.5% [============>               ] 44.46/100.00 ela: 00:03:38 rem: 00:04:33\u001b[2K\u001b[G  44.5% [============>               ] 44.54/100.00 ela: 00:03:38 rem: 00:04:32\u001b[2K\u001b[G  44.6% [============>               ] 44.64/100.00 ela: 00:03:39 rem: 00:04:31\u001b[2K\u001b[G  44.7% [============>               ] 44.74/100.00 ela: 00:03:39 rem: 00:04:30\u001b[2K\u001b[G  44.8% [============>               ] 44.83/100.00 ela: 00:03:39 rem: 00:04:29\u001b[2K\u001b[G  44.9% [============>               ] 44.85/100.00 ela: 00:03:39 rem: 00:04:29\u001b[2K\u001b[G  44.9% [============>               ] 44.90/100.00 ela: 00:03:39 rem: 00:04:29\u001b[2K\u001b[G  45.0% [============>               ] 44.98/100.00 ela: 00:03:39 rem: 00:04:28\u001b[2K\u001b[G  45.0% [============>               ] 45.05/100.00 ela: 00:03:39 rem: 00:04:28\u001b[2K\u001b[G  45.1% [============>               ] 45.13/100.00 ela: 00:03:39 rem: 00:04:27\u001b[2K\u001b[G  45.2% [============>               ] 45.19/100.00 ela: 00:03:39 rem: 00:04:26\u001b[2K\u001b[G  45.2% [============>               ] 45.25/100.00 ela: 00:03:40 rem: 00:04:26\u001b[2K\u001b[G  45.3% [============>               ] 45.30/100.00 ela: 00:03:40 rem: 00:04:25\u001b[2K\u001b[G  45.3% [============>               ] 45.35/100.00 ela: 00:03:40 rem: 00:04:25\u001b[2K\u001b[G  45.4% [============>               ] 45.41/100.00 ela: 00:03:40 rem: 00:04:24\u001b[2K\u001b[G  45.5% [============>               ] 45.48/100.00 ela: 00:03:40 rem: 00:04:24\u001b[2K\u001b[G  45.5% [============>               ] 45.54/100.00 ela: 00:03:40 rem: 00:04:23\u001b[2K\u001b[G  45.6% [============>               ] 45.56/100.00 ela: 00:03:40 rem: 00:04:23\u001b[2K\u001b[G  45.6% [============>               ] 45.63/100.00 ela: 00:03:40 rem: 00:04:23\u001b[2K\u001b[G  45.7% [============>               ] 45.69/100.00 ela: 00:03:40 rem: 00:04:22\u001b[2K\u001b[G  45.8% [============>               ] 45.76/100.00 ela: 00:03:40 rem: 00:04:21\u001b[2K\u001b[G  45.8% [============>               ] 45.82/100.00 ela: 00:03:41 rem: 00:04:21\u001b[2K\u001b[G  45.9% [============>               ] 45.88/100.00 ela: 00:03:41 rem: 00:04:21\u001b[2K\u001b[G  45.9% [============>               ] 45.92/100.00 ela: 00:03:41 rem: 00:04:20\u001b[2K\u001b[G  46.0% [============>               ] 45.98/100.00 ela: 00:03:41 rem: 00:04:20\u001b[2K\u001b[G  46.1% [============>               ] 46.06/100.00 ela: 00:03:41 rem: 00:04:19\u001b[2K\u001b[G  46.1% [============>               ] 46.12/100.00 ela: 00:03:41 rem: 00:04:18\u001b[2K\u001b[G  46.2% [============>               ] 46.22/100.00 ela: 00:03:41 rem: 00:04:18\u001b[2K\u001b[G  46.3% [=============>              ] 46.32/100.00 ela: 00:03:41 rem: 00:04:17\u001b[2K\u001b[G  46.4% [=============>              ] 46.40/100.00 ela: 00:03:41 rem: 00:04:16\u001b[2K\u001b[G  46.5% [=============>              ] 46.47/100.00 ela: 00:03:42 rem: 00:04:15\u001b[2K\u001b[G  46.6% [=============>              ] 46.57/100.00 ela: 00:03:42 rem: 00:04:14\u001b[2K\u001b[G  46.7% [=============>              ] 46.68/100.00 ela: 00:03:42 rem: 00:04:13\u001b[2K\u001b[G  46.8% [=============>              ] 46.77/100.00 ela: 00:03:42 rem: 00:04:13\u001b[2K\u001b[G  46.8% [=============>              ] 46.83/100.00 ela: 00:03:42 rem: 00:04:12\u001b[2K\u001b[G  46.9% [=============>              ] 46.86/100.00 ela: 00:03:42 rem: 00:04:12\u001b[2K\u001b[G  46.9% [=============>              ] 46.89/100.00 ela: 00:03:42 rem: 00:04:12\u001b[2K\u001b[G  46.9% [=============>              ] 46.93/100.00 ela: 00:03:42 rem: 00:04:11\u001b[2K\u001b[G  47.0% [=============>              ] 46.96/100.00 ela: 00:03:42 rem: 00:04:11\u001b[2K\u001b[G  47.0% [=============>              ] 47.00/100.00 ela: 00:03:43 rem: 00:04:11\u001b[2K\u001b[G  47.1% [=============>              ] 47.05/100.00 ela: 00:03:43 rem: 00:04:11\u001b[2K\u001b[G  47.1% [=============>              ] 47.10/100.00 ela: 00:03:43 rem: 00:04:10\u001b[2K\u001b[G  47.1% [=============>              ] 47.15/100.00 ela: 00:03:43 rem: 00:04:10\u001b[2K\u001b[G  47.2% [=============>              ] 47.19/100.00 ela: 00:03:43 rem: 00:04:10\u001b[2K\u001b[G  47.2% [=============>              ] 47.24/100.00 ela: 00:03:43 rem: 00:04:09"
     ]
    },
    {
     "name": "stdout",
     "output_type": "stream",
     "text": [
      "\u001b[2K\u001b[G  47.3% [=============>              ] 47.28/100.00 ela: 00:03:43 rem: 00:04:09\u001b[2K\u001b[G  47.3% [=============>              ] 47.32/100.00 ela: 00:03:43 rem: 00:04:09\u001b[2K\u001b[G  47.4% [=============>              ] 47.37/100.00 ela: 00:03:43 rem: 00:04:08\u001b[2K\u001b[G  47.4% [=============>              ] 47.40/100.00 ela: 00:03:44 rem: 00:04:08\u001b[2K\u001b[G  47.4% [=============>              ] 47.40/100.00 ela: 00:03:44 rem: 00:04:08\u001b[2K\u001b[G  47.4% [=============>              ] 47.44/100.00 ela: 00:03:44 rem: 00:04:08\u001b[2K\u001b[G  47.5% [=============>              ] 47.50/100.00 ela: 00:03:44 rem: 00:04:08\u001b[2K\u001b[G  47.6% [=============>              ] 47.57/100.00 ela: 00:03:44 rem: 00:04:07\u001b[2K\u001b[G  47.6% [=============>              ] 47.63/100.00 ela: 00:03:44 rem: 00:04:07\u001b[2K\u001b[G  47.7% [=============>              ] 47.70/100.00 ela: 00:03:44 rem: 00:04:06\u001b[2K\u001b[G  47.8% [=============>              ] 47.76/100.00 ela: 00:03:44 rem: 00:04:06\u001b[2K\u001b[G  47.8% [=============>              ] 47.84/100.00 ela: 00:03:45 rem: 00:04:05\u001b[2K\u001b[G  47.9% [=============>              ] 47.89/100.00 ela: 00:03:45 rem: 00:04:05\u001b[2K\u001b[G  48.0% [=============>              ] 47.99/100.00 ela: 00:03:45 rem: 00:04:04\u001b[2K\u001b[G  48.1% [=============>              ] 48.06/100.00 ela: 00:03:45 rem: 00:04:03\u001b[2K\u001b[G  48.2% [=============>              ] 48.16/100.00 ela: 00:03:45 rem: 00:04:02\u001b[2K\u001b[G  48.2% [=============>              ] 48.17/100.00 ela: 00:03:45 rem: 00:04:02\u001b[2K\u001b[G  48.2% [=============>              ] 48.23/100.00 ela: 00:03:45 rem: 00:04:02\u001b[2K\u001b[G  48.3% [=============>              ] 48.30/100.00 ela: 00:03:45 rem: 00:04:01\u001b[2K\u001b[G  48.4% [=============>              ] 48.36/100.00 ela: 00:03:45 rem: 00:04:01\u001b[2K\u001b[G  48.4% [=============>              ] 48.42/100.00 ela: 00:03:45 rem: 00:04:00\u001b[2K\u001b[G  48.5% [=============>              ] 48.48/100.00 ela: 00:03:46 rem: 00:04:00\u001b[2K\u001b[G  48.5% [=============>              ] 48.53/100.00 ela: 00:03:46 rem: 00:03:59\u001b[2K\u001b[G  48.6% [=============>              ] 48.56/100.00 ela: 00:03:46 rem: 00:03:59\u001b[2K\u001b[G  48.6% [=============>              ] 48.58/100.00 ela: 00:03:46 rem: 00:03:59\u001b[2K\u001b[G  48.6% [=============>              ] 48.62/100.00 ela: 00:03:46 rem: 00:03:59\u001b[2K\u001b[G  48.7% [=============>              ] 48.69/100.00 ela: 00:03:46 rem: 00:03:58\u001b[2K\u001b[G  48.7% [=============>              ] 48.74/100.00 ela: 00:03:46 rem: 00:03:58\u001b[2K\u001b[G  48.8% [=============>              ] 48.75/100.00 ela: 00:03:46 rem: 00:03:58\u001b[2K\u001b[G  48.8% [=============>              ] 48.80/100.00 ela: 00:03:46 rem: 00:03:58\u001b[2K\u001b[G  48.8% [=============>              ] 48.84/100.00 ela: 00:03:47 rem: 00:03:57\u001b[2K\u001b[G  48.9% [=============>              ] 48.87/100.00 ela: 00:03:47 rem: 00:03:57\u001b[2K\u001b[G  48.9% [=============>              ] 48.90/100.00 ela: 00:03:47 rem: 00:03:57\u001b[2K\u001b[G  48.9% [=============>              ] 48.91/100.00 ela: 00:03:47 rem: 00:03:57\u001b[2K\u001b[G  48.9% [=============>              ] 48.94/100.00 ela: 00:03:47 rem: 00:03:57\u001b[2K\u001b[G  49.0% [=============>              ] 48.99/100.00 ela: 00:03:47 rem: 00:03:57\u001b[2K\u001b[G  49.0% [=============>              ] 49.04/100.00 ela: 00:03:47 rem: 00:03:56\u001b[2K\u001b[G  49.1% [=============>              ] 49.10/100.00 ela: 00:03:47 rem: 00:03:56\u001b[2K\u001b[G  49.1% [=============>              ] 49.15/100.00 ela: 00:03:48 rem: 00:03:55\u001b[2K\u001b[G  49.2% [=============>              ] 49.20/100.00 ela: 00:03:48 rem: 00:03:55\u001b[2K\u001b[G  49.2% [=============>              ] 49.24/100.00 ela: 00:03:48 rem: 00:03:55\u001b[2K\u001b[G  49.3% [=============>              ] 49.28/100.00 ela: 00:03:48 rem: 00:03:55\u001b[2K\u001b[G  49.3% [=============>              ] 49.32/100.00 ela: 00:03:48 rem: 00:03:54\u001b[2K\u001b[G  49.4% [=============>              ] 49.39/100.00 ela: 00:03:48 rem: 00:03:54\u001b[2K\u001b[G  49.4% [=============>              ] 49.44/100.00 ela: 00:03:48 rem: 00:03:53\u001b[2K\u001b[G  49.5% [=============>              ] 49.49/100.00 ela: 00:03:48 rem: 00:03:53\u001b[2K\u001b[G  49.6% [=============>              ] 49.56/100.00 ela: 00:03:48 rem: 00:03:52\u001b[2K\u001b[G  49.6% [=============>              ] 49.60/100.00 ela: 00:03:48 rem: 00:03:52\u001b[2K\u001b[G  49.7% [=============>              ] 49.68/100.00 ela: 00:03:49 rem: 00:03:52\u001b[2K\u001b[G  49.8% [=============>              ] 49.77/100.00 ela: 00:03:49 rem: 00:03:51\u001b[2K\u001b[G  49.9% [=============>              ] 49.88/100.00 ela: 00:03:49 rem: 00:03:50\u001b[2K\u001b[G  50.0% [==============>             ] 50.00/100.00 ela: 00:03:49 rem: 00:03:49\u001b[2K\u001b[G  50.1% [==============>             ] 50.06/100.00 ela: 00:03:49 rem: 00:03:48\u001b[2K\u001b[G  50.1% [==============>             ] 50.11/100.00 ela: 00:03:49 rem: 00:03:48\u001b[2K\u001b[G  50.2% [==============>             ] 50.18/100.00 ela: 00:03:49 rem: 00:03:48\u001b[2K\u001b[G  50.3% [==============>             ] 50.25/100.00 ela: 00:03:49 rem: 00:03:47\u001b[2K\u001b[G  50.3% [==============>             ] 50.32/100.00 ela: 00:03:49 rem: 00:03:47\u001b[2K\u001b[G  50.4% [==============>             ] 50.35/100.00 ela: 00:03:50 rem: 00:03:46\u001b[2K\u001b[G  50.4% [==============>             ] 50.40/100.00 ela: 00:03:50 rem: 00:03:46\u001b[2K\u001b[G  50.4% [==============>             ] 50.42/100.00 ela: 00:03:50 rem: 00:03:46\u001b[2K\u001b[G  50.5% [==============>             ] 50.47/100.00 ela: 00:03:50 rem: 00:03:46\u001b[2K\u001b[G  50.5% [==============>             ] 50.49/100.00 ela: 00:03:50 rem: 00:03:46\u001b[2K\u001b[G  50.5% [==============>             ] 50.51/100.00 ela: 00:03:50 rem: 00:03:45\u001b[2K\u001b[G  50.6% [==============>             ] 50.55/100.00 ela: 00:03:50 rem: 00:03:45\u001b[2K\u001b[G  50.6% [==============>             ] 50.59/100.00 ela: 00:03:50 rem: 00:03:45\u001b[2K\u001b[G  50.6% [==============>             ] 50.61/100.00 ela: 00:03:51 rem: 00:03:45\u001b[2K\u001b[G  50.6% [==============>             ] 50.63/100.00 ela: 00:03:51 rem: 00:03:45\u001b[2K\u001b[G  50.7% [==============>             ] 50.66/100.00 ela: 00:03:51 rem: 00:03:45\u001b[2K\u001b[G  50.7% [==============>             ] 50.69/100.00 ela: 00:03:51 rem: 00:03:45\u001b[2K\u001b[G  50.7% [==============>             ] 50.72/100.00 ela: 00:03:51 rem: 00:03:44\u001b[2K\u001b[G  50.8% [==============>             ] 50.76/100.00 ela: 00:03:51 rem: 00:03:44\u001b[2K\u001b[G  50.8% [==============>             ] 50.78/100.00 ela: 00:03:51 rem: 00:03:44\u001b[2K\u001b[G  50.8% [==============>             ] 50.80/100.00 ela: 00:03:51 rem: 00:03:44\u001b[2K\u001b[G  50.8% [==============>             ] 50.83/100.00 ela: 00:03:51 rem: 00:03:44\u001b[2K\u001b[G  50.9% [==============>             ] 50.86/100.00 ela: 00:03:52 rem: 00:03:44\u001b[2K\u001b[G  50.9% [==============>             ] 50.90/100.00 ela: 00:03:52 rem: 00:03:43\u001b[2K\u001b[G  50.9% [==============>             ] 50.92/100.00 ela: 00:03:52 rem: 00:03:43\u001b[2K\u001b[G  51.0% [==============>             ] 50.96/100.00 ela: 00:03:52 rem: 00:03:43\u001b[2K\u001b[G  51.0% [==============>             ] 51.02/100.00 ela: 00:03:52 rem: 00:03:43\u001b[2K\u001b[G  51.1% [==============>             ] 51.06/100.00 ela: 00:03:52 rem: 00:03:42\u001b[2K\u001b[G  51.2% [==============>             ] 51.15/100.00 ela: 00:03:52 rem: 00:03:42\u001b[2K\u001b[G  51.2% [==============>             ] 51.22/100.00 ela: 00:03:52 rem: 00:03:41\u001b[2K\u001b[G  51.3% [==============>             ] 51.30/100.00 ela: 00:03:52 rem: 00:03:41\u001b[2K\u001b[G  51.4% [==============>             ] 51.38/100.00 ela: 00:03:53 rem: 00:03:40\u001b[2K\u001b[G  51.5% [==============>             ] 51.46/100.00 ela: 00:03:53 rem: 00:03:39\u001b[2K\u001b[G  51.6% [==============>             ] 51.56/100.00 ela: 00:03:53 rem: 00:03:39\u001b[2K\u001b[G  51.7% [==============>             ] 51.69/100.00 ela: 00:03:53 rem: 00:03:38\u001b[2K\u001b[G  51.8% [==============>             ] 51.82/100.00 ela: 00:03:53 rem: 00:03:37\u001b[2K\u001b[G  51.9% [==============>             ] 51.89/100.00 ela: 00:03:53 rem: 00:03:36\u001b[2K\u001b[G  52.0% [==============>             ] 51.96/100.00 ela: 00:03:53 rem: 00:03:36\u001b[2K\u001b[G  52.0% [==============>             ] 52.04/100.00 ela: 00:03:53 rem: 00:03:35\u001b[2K\u001b[G  52.1% [==============>             ] 52.08/100.00 ela: 00:03:53 rem: 00:03:35\u001b[2K\u001b[G  52.1% [==============>             ] 52.12/100.00 ela: 00:03:53 rem: 00:03:34\u001b[2K\u001b[G  52.2% [==============>             ] 52.20/100.00 ela: 00:03:54 rem: 00:03:34\u001b[2K\u001b[G  52.2% [==============>             ] 52.24/100.00 ela: 00:03:54 rem: 00:03:34\u001b[2K\u001b[G  52.3% [==============>             ] 52.29/100.00 ela: 00:03:54 rem: 00:03:33"
     ]
    },
    {
     "name": "stdout",
     "output_type": "stream",
     "text": [
      "\u001b[2K\u001b[G  52.3% [==============>             ] 52.32/100.00 ela: 00:03:54 rem: 00:03:33\u001b[2K\u001b[G  52.4% [==============>             ] 52.37/100.00 ela: 00:03:54 rem: 00:03:33\u001b[2K\u001b[G  52.5% [==============>             ] 52.45/100.00 ela: 00:03:54 rem: 00:03:32\u001b[2K\u001b[G  52.5% [==============>             ] 52.55/100.00 ela: 00:03:54 rem: 00:03:31\u001b[2K\u001b[G  52.6% [==============>             ] 52.64/100.00 ela: 00:03:54 rem: 00:03:31\u001b[2K\u001b[G  52.7% [==============>             ] 52.74/100.00 ela: 00:03:54 rem: 00:03:30\u001b[2K\u001b[G  52.8% [==============>             ] 52.75/100.00 ela: 00:03:54 rem: 00:03:30\u001b[2K\u001b[G  52.8% [==============>             ] 52.81/100.00 ela: 00:03:55 rem: 00:03:30\u001b[2K\u001b[G  52.9% [==============>             ] 52.91/100.00 ela: 00:03:55 rem: 00:03:29\u001b[2K\u001b[G  53.0% [==============>             ] 52.99/100.00 ela: 00:03:55 rem: 00:03:28\u001b[2K\u001b[G  53.1% [==============>             ] 53.08/100.00 ela: 00:03:55 rem: 00:03:28\u001b[2K\u001b[G  53.2% [==============>             ] 53.16/100.00 ela: 00:03:55 rem: 00:03:27\u001b[2K\u001b[G  53.3% [==============>             ] 53.26/100.00 ela: 00:03:55 rem: 00:03:26\u001b[2K\u001b[G  53.3% [==============>             ] 53.34/100.00 ela: 00:03:55 rem: 00:03:26\u001b[2K\u001b[G  53.4% [==============>             ] 53.43/100.00 ela: 00:03:55 rem: 00:03:25\u001b[2K\u001b[G  53.6% [==============>             ] 53.59/100.00 ela: 00:03:55 rem: 00:03:24\u001b[2K\u001b[G  53.8% [===============>            ] 53.77/100.00 ela: 00:03:56 rem: 00:03:22\u001b[2K\u001b[G  53.9% [===============>            ] 53.89/100.00 ela: 00:03:56 rem: 00:03:22\u001b[2K\u001b[G  54.0% [===============>            ] 54.02/100.00 ela: 00:03:56 rem: 00:03:21\u001b[2K\u001b[G  54.1% [===============>            ] 54.07/100.00 ela: 00:03:56 rem: 00:03:20\u001b[2K\u001b[G  54.2% [===============>            ] 54.18/100.00 ela: 00:03:56 rem: 00:03:19\u001b[2K\u001b[G  54.5% [===============>            ] 54.46/100.00 ela: 00:03:56 rem: 00:03:17\u001b[2K\u001b[G  54.6% [===============>            ] 54.58/100.00 ela: 00:03:56 rem: 00:03:16\u001b[2K\u001b[G  54.7% [===============>            ] 54.68/100.00 ela: 00:03:56 rem: 00:03:16\u001b[2K\u001b[G  54.8% [===============>            ] 54.75/100.00 ela: 00:03:56 rem: 00:03:15\u001b[2K\u001b[G  54.8% [===============>            ] 54.83/100.00 ela: 00:03:56 rem: 00:03:15\u001b[2K\u001b[G  54.9% [===============>            ] 54.93/100.00 ela: 00:03:57 rem: 00:03:14\u001b[2K\u001b[G  55.0% [===============>            ] 54.99/100.00 ela: 00:03:57 rem: 00:03:14\u001b[2K\u001b[G  55.1% [===============>            ] 55.08/100.00 ela: 00:03:57 rem: 00:03:13\u001b[2K\u001b[G  55.2% [===============>            ] 55.15/100.00 ela: 00:03:57 rem: 00:03:13\u001b[2K\u001b[G  55.2% [===============>            ] 55.23/100.00 ela: 00:03:57 rem: 00:03:12\u001b[2K\u001b[G  55.3% [===============>            ] 55.29/100.00 ela: 00:03:57 rem: 00:03:12\u001b[2K\u001b[G  55.3% [===============>            ] 55.34/100.00 ela: 00:03:57 rem: 00:03:11\u001b[2K\u001b[G  55.4% [===============>            ] 55.39/100.00 ela: 00:03:57 rem: 00:03:11\u001b[2K\u001b[G  55.4% [===============>            ] 55.43/100.00 ela: 00:03:57 rem: 00:03:11\u001b[2K\u001b[G  55.5% [===============>            ] 55.45/100.00 ela: 00:03:58 rem: 00:03:11\u001b[2K\u001b[G  55.5% [===============>            ] 55.48/100.00 ela: 00:03:58 rem: 00:03:11\u001b[2K\u001b[G  55.5% [===============>            ] 55.52/100.00 ela: 00:03:58 rem: 00:03:10\u001b[2K\u001b[G  55.6% [===============>            ] 55.56/100.00 ela: 00:03:58 rem: 00:03:10\u001b[2K\u001b[G  55.6% [===============>            ] 55.59/100.00 ela: 00:03:58 rem: 00:03:10\u001b[2K\u001b[G  55.6% [===============>            ] 55.64/100.00 ela: 00:03:58 rem: 00:03:10\u001b[2K\u001b[G  55.7% [===============>            ] 55.68/100.00 ela: 00:03:58 rem: 00:03:10\u001b[2K\u001b[G  55.7% [===============>            ] 55.72/100.00 ela: 00:03:58 rem: 00:03:09\u001b[2K\u001b[G  55.8% [===============>            ] 55.80/100.00 ela: 00:03:58 rem: 00:03:09\u001b[2K\u001b[G  55.9% [===============>            ] 55.91/100.00 ela: 00:03:59 rem: 00:03:08\u001b[2K\u001b[G  56.0% [===============>            ] 55.97/100.00 ela: 00:03:59 rem: 00:03:08\u001b[2K\u001b[G  56.0% [===============>            ] 56.01/100.00 ela: 00:03:59 rem: 00:03:07\u001b[2K\u001b[G  56.1% [===============>            ] 56.07/100.00 ela: 00:03:59 rem: 00:03:07\u001b[2K\u001b[G  56.1% [===============>            ] 56.12/100.00 ela: 00:03:59 rem: 00:03:07\u001b[2K\u001b[G  56.2% [===============>            ] 56.15/100.00 ela: 00:03:59 rem: 00:03:07\u001b[2K\u001b[G  56.2% [===============>            ] 56.17/100.00 ela: 00:03:59 rem: 00:03:07\u001b[2K\u001b[G  56.2% [===============>            ] 56.19/100.00 ela: 00:03:59 rem: 00:03:07\u001b[2K\u001b[G  56.2% [===============>            ] 56.20/100.00 ela: 00:04:00 rem: 00:03:07\u001b[2K\u001b[G  56.3% [===============>            ] 56.26/100.00 ela: 00:04:00 rem: 00:03:06\u001b[2K\u001b[G  56.3% [===============>            ] 56.33/100.00 ela: 00:04:00 rem: 00:03:06\u001b[2K\u001b[G  56.4% [===============>            ] 56.37/100.00 ela: 00:04:00 rem: 00:03:06\u001b[2K\u001b[G  56.4% [===============>            ] 56.41/100.00 ela: 00:04:00 rem: 00:03:05\u001b[2K\u001b[G  56.5% [===============>            ] 56.48/100.00 ela: 00:04:00 rem: 00:03:05\u001b[2K\u001b[G  56.6% [===============>            ] 56.62/100.00 ela: 00:04:00 rem: 00:03:04\u001b[2K\u001b[G  56.7% [===============>            ] 56.69/100.00 ela: 00:04:00 rem: 00:03:04\u001b[2K\u001b[G  56.8% [===============>            ] 56.81/100.00 ela: 00:04:01 rem: 00:03:03\u001b[2K\u001b[G  56.9% [===============>            ] 56.86/100.00 ela: 00:04:01 rem: 00:03:02\u001b[2K\u001b[G  56.9% [===============>            ] 56.88/100.00 ela: 00:04:01 rem: 00:03:02\u001b[2K\u001b[G  56.9% [===============>            ] 56.93/100.00 ela: 00:04:01 rem: 00:03:02\u001b[2K\u001b[G  57.0% [===============>            ] 57.04/100.00 ela: 00:04:01 rem: 00:03:01\u001b[2K\u001b[G  57.1% [===============>            ] 57.15/100.00 ela: 00:04:01 rem: 00:03:01\u001b[2K\u001b[G  57.3% [===============>            ] 57.25/100.00 ela: 00:04:01 rem: 00:03:00\u001b[2K\u001b[G  57.4% [================>           ] 57.42/100.00 ela: 00:04:01 rem: 00:02:59\u001b[2K\u001b[G  57.6% [================>           ] 57.56/100.00 ela: 00:04:01 rem: 00:02:58\u001b[2K\u001b[G  57.6% [================>           ] 57.64/100.00 ela: 00:04:01 rem: 00:02:57\u001b[2K\u001b[G  57.7% [================>           ] 57.69/100.00 ela: 00:04:02 rem: 00:02:57\u001b[2K\u001b[G  57.8% [================>           ] 57.84/100.00 ela: 00:04:02 rem: 00:02:56\u001b[2K\u001b[G  58.0% [================>           ] 57.95/100.00 ela: 00:04:02 rem: 00:02:55\u001b[2K\u001b[G  58.0% [================>           ] 58.00/100.00 ela: 00:04:02 rem: 00:02:55\u001b[2K\u001b[G  58.0% [================>           ] 58.05/100.00 ela: 00:04:02 rem: 00:02:55\u001b[2K\u001b[G  58.2% [================>           ] 58.17/100.00 ela: 00:04:02 rem: 00:02:54\u001b[2K\u001b[G  58.2% [================>           ] 58.23/100.00 ela: 00:04:02 rem: 00:02:54\u001b[2K\u001b[G  58.3% [================>           ] 58.28/100.00 ela: 00:04:02 rem: 00:02:53\u001b[2K\u001b[G  58.3% [================>           ] 58.34/100.00 ela: 00:04:02 rem: 00:02:53\u001b[2K\u001b[G  58.4% [================>           ] 58.40/100.00 ela: 00:04:02 rem: 00:02:53\u001b[2K\u001b[G  58.5% [================>           ] 58.46/100.00 ela: 00:04:03 rem: 00:02:52\u001b[2K\u001b[G  58.5% [================>           ] 58.53/100.00 ela: 00:04:03 rem: 00:02:52\u001b[2K\u001b[G  58.6% [================>           ] 58.61/100.00 ela: 00:04:03 rem: 00:02:51\u001b[2K\u001b[G  58.7% [================>           ] 58.67/100.00 ela: 00:04:03 rem: 00:02:51\u001b[2K\u001b[G  58.7% [================>           ] 58.73/100.00 ela: 00:04:03 rem: 00:02:51\u001b[2K\u001b[G  58.8% [================>           ] 58.79/100.00 ela: 00:04:03 rem: 00:02:50\u001b[2K\u001b[G  58.9% [================>           ] 58.86/100.00 ela: 00:04:03 rem: 00:02:50\u001b[2K\u001b[G  58.9% [================>           ] 58.92/100.00 ela: 00:04:03 rem: 00:02:50\u001b[2K\u001b[G  59.0% [================>           ] 59.00/100.00 ela: 00:04:03 rem: 00:02:49\u001b[2K\u001b[G  59.1% [================>           ] 59.07/100.00 ela: 00:04:04 rem: 00:02:49\u001b[2K\u001b[G  59.1% [================>           ] 59.12/100.00 ela: 00:04:04 rem: 00:02:48\u001b[2K\u001b[G  59.1% [================>           ] 59.15/100.00 ela: 00:04:04 rem: 00:02:48\u001b[2K\u001b[G  59.2% [================>           ] 59.19/100.00 ela: 00:04:04 rem: 00:02:48\u001b[2K\u001b[G  59.3% [================>           ] 59.26/100.00 ela: 00:04:04 rem: 00:02:48\u001b[2K\u001b[G  59.3% [================>           ] 59.32/100.00 ela: 00:04:04 rem: 00:02:47\u001b[2K\u001b[G  59.4% [================>           ] 59.42/100.00 ela: 00:04:04 rem: 00:02:47"
     ]
    },
    {
     "name": "stdout",
     "output_type": "stream",
     "text": [
      "\u001b[2K\u001b[G  59.5% [================>           ] 59.50/100.00 ela: 00:04:04 rem: 00:02:46\u001b[2K\u001b[G  59.6% [================>           ] 59.57/100.00 ela: 00:04:04 rem: 00:02:46\u001b[2K\u001b[G  59.7% [================>           ] 59.66/100.00 ela: 00:04:04 rem: 00:02:45\u001b[2K\u001b[G  59.7% [================>           ] 59.75/100.00 ela: 00:04:05 rem: 00:02:45\u001b[2K\u001b[G  59.8% [================>           ] 59.82/100.00 ela: 00:04:05 rem: 00:02:44\u001b[2K\u001b[G  59.9% [================>           ] 59.93/100.00 ela: 00:04:05 rem: 00:02:44\u001b[2K\u001b[G  60.0% [================>           ] 60.01/100.00 ela: 00:04:05 rem: 00:02:43\u001b[2K\u001b[G  60.1% [================>           ] 60.12/100.00 ela: 00:04:05 rem: 00:02:42\u001b[2K\u001b[G  60.2% [================>           ] 60.20/100.00 ela: 00:04:05 rem: 00:02:42\u001b[2K\u001b[G  60.3% [================>           ] 60.26/100.00 ela: 00:04:05 rem: 00:02:42\u001b[2K\u001b[G  60.4% [================>           ] 60.40/100.00 ela: 00:04:05 rem: 00:02:41\u001b[2K\u001b[G  60.6% [================>           ] 60.58/100.00 ela: 00:04:06 rem: 00:02:40\u001b[2K\u001b[G  60.7% [================>           ] 60.73/100.00 ela: 00:04:06 rem: 00:02:39\u001b[2K\u001b[G  60.8% [================>           ] 60.78/100.00 ela: 00:04:06 rem: 00:02:38\u001b[2K\u001b[G  60.9% [================>           ] 60.86/100.00 ela: 00:04:06 rem: 00:02:38\u001b[2K\u001b[G  61.0% [================>           ] 60.95/100.00 ela: 00:04:06 rem: 00:02:37\u001b[2K\u001b[G  61.0% [================>           ] 61.03/100.00 ela: 00:04:06 rem: 00:02:37\u001b[2K\u001b[G  61.1% [================>           ] 61.05/100.00 ela: 00:04:06 rem: 00:02:37\u001b[2K\u001b[G  61.1% [================>           ] 61.07/100.00 ela: 00:04:06 rem: 00:02:37\u001b[2K\u001b[G  61.2% [=================>          ] 61.17/100.00 ela: 00:04:06 rem: 00:02:36\u001b[2K\u001b[G  61.3% [=================>          ] 61.27/100.00 ela: 00:04:07 rem: 00:02:36\u001b[2K\u001b[G  61.3% [=================>          ] 61.35/100.00 ela: 00:04:07 rem: 00:02:35\u001b[2K\u001b[G  61.4% [=================>          ] 61.43/100.00 ela: 00:04:07 rem: 00:02:35\u001b[2K\u001b[G  61.5% [=================>          ] 61.51/100.00 ela: 00:04:07 rem: 00:02:34\u001b[2K\u001b[G  61.6% [=================>          ] 61.62/100.00 ela: 00:04:07 rem: 00:02:34\u001b[2K\u001b[G  61.7% [=================>          ] 61.72/100.00 ela: 00:04:07 rem: 00:02:33\u001b[2K\u001b[G  61.7% [=================>          ] 61.74/100.00 ela: 00:04:07 rem: 00:02:33\u001b[2K\u001b[G  61.9% [=================>          ] 61.86/100.00 ela: 00:04:07 rem: 00:02:32\u001b[2K\u001b[G  61.9% [=================>          ] 61.93/100.00 ela: 00:04:07 rem: 00:02:32\u001b[2K\u001b[G  62.0% [=================>          ] 61.97/100.00 ela: 00:04:07 rem: 00:02:32\u001b[2K\u001b[G  62.0% [=================>          ] 62.03/100.00 ela: 00:04:08 rem: 00:02:31\u001b[2K\u001b[G  62.2% [=================>          ] 62.17/100.00 ela: 00:04:08 rem: 00:02:31\u001b[2K\u001b[G  62.3% [=================>          ] 62.29/100.00 ela: 00:04:08 rem: 00:02:30\u001b[2K\u001b[G  62.4% [=================>          ] 62.40/100.00 ela: 00:04:08 rem: 00:02:29\u001b[2K\u001b[G  62.5% [=================>          ] 62.51/100.00 ela: 00:04:08 rem: 00:02:29\u001b[2K\u001b[G  62.6% [=================>          ] 62.61/100.00 ela: 00:04:08 rem: 00:02:28\u001b[2K\u001b[G  62.7% [=================>          ] 62.71/100.00 ela: 00:04:08 rem: 00:02:27\u001b[2K\u001b[G  62.8% [=================>          ] 62.79/100.00 ela: 00:04:08 rem: 00:02:27\u001b[2K\u001b[G  62.9% [=================>          ] 62.88/100.00 ela: 00:04:08 rem: 00:02:26\u001b[2K\u001b[G  63.0% [=================>          ] 63.01/100.00 ela: 00:04:09 rem: 00:02:26\u001b[2K\u001b[G  63.1% [=================>          ] 63.12/100.00 ela: 00:04:09 rem: 00:02:25\u001b[2K\u001b[G  63.2% [=================>          ] 63.22/100.00 ela: 00:04:09 rem: 00:02:25\u001b[2K\u001b[G  63.3% [=================>          ] 63.32/100.00 ela: 00:04:09 rem: 00:02:24\u001b[2K\u001b[G  63.4% [=================>          ] 63.43/100.00 ela: 00:04:09 rem: 00:02:23\u001b[2K\u001b[G  63.5% [=================>          ] 63.54/100.00 ela: 00:04:09 rem: 00:02:23\u001b[2K\u001b[G  63.6% [=================>          ] 63.64/100.00 ela: 00:04:09 rem: 00:02:22\u001b[2K\u001b[G  63.7% [=================>          ] 63.73/100.00 ela: 00:04:09 rem: 00:02:22\u001b[2K\u001b[G  63.8% [=================>          ] 63.83/100.00 ela: 00:04:09 rem: 00:02:21\u001b[2K\u001b[G  63.9% [=================>          ] 63.92/100.00 ela: 00:04:09 rem: 00:02:21\u001b[2K\u001b[G  64.0% [=================>          ] 64.03/100.00 ela: 00:04:10 rem: 00:02:20\u001b[2K\u001b[G  64.2% [=================>          ] 64.16/100.00 ela: 00:04:10 rem: 00:02:19\u001b[2K\u001b[G  64.2% [=================>          ] 64.25/100.00 ela: 00:04:10 rem: 00:02:19\u001b[2K\u001b[G  64.3% [=================>          ] 64.33/100.00 ela: 00:04:10 rem: 00:02:18\u001b[2K\u001b[G  64.4% [=================>          ] 64.44/100.00 ela: 00:04:10 rem: 00:02:18\u001b[2K\u001b[G  64.5% [=================>          ] 64.53/100.00 ela: 00:04:10 rem: 00:02:17\u001b[2K\u001b[G  64.6% [=================>          ] 64.63/100.00 ela: 00:04:10 rem: 00:02:17\u001b[2K\u001b[G  64.7% [=================>          ] 64.73/100.00 ela: 00:04:10 rem: 00:02:16\u001b[2K\u001b[G  64.8% [==================>         ] 64.82/100.00 ela: 00:04:10 rem: 00:02:16\u001b[2K\u001b[G  64.9% [==================>         ] 64.95/100.00 ela: 00:04:10 rem: 00:02:15\u001b[2K\u001b[G  65.1% [==================>         ] 65.06/100.00 ela: 00:04:11 rem: 00:02:14\u001b[2K\u001b[G  65.2% [==================>         ] 65.16/100.00 ela: 00:04:11 rem: 00:02:14\u001b[2K\u001b[G  65.2% [==================>         ] 65.22/100.00 ela: 00:04:11 rem: 00:02:14\u001b[2K\u001b[G  65.3% [==================>         ] 65.27/100.00 ela: 00:04:11 rem: 00:02:13\u001b[2K\u001b[G  65.4% [==================>         ] 65.36/100.00 ela: 00:04:11 rem: 00:02:13\u001b[2K\u001b[G  65.4% [==================>         ] 65.43/100.00 ela: 00:04:11 rem: 00:02:12\u001b[2K\u001b[G  65.5% [==================>         ] 65.50/100.00 ela: 00:04:11 rem: 00:02:12\u001b[2K\u001b[G  65.6% [==================>         ] 65.59/100.00 ela: 00:04:11 rem: 00:02:12\u001b[2K\u001b[G  65.6% [==================>         ] 65.64/100.00 ela: 00:04:11 rem: 00:02:11\u001b[2K\u001b[G  65.7% [==================>         ] 65.70/100.00 ela: 00:04:12 rem: 00:02:11\u001b[2K\u001b[G  65.7% [==================>         ] 65.71/100.00 ela: 00:04:12 rem: 00:02:11\u001b[2K\u001b[G  65.7% [==================>         ] 65.74/100.00 ela: 00:04:12 rem: 00:02:11\u001b[2K\u001b[G  65.8% [==================>         ] 65.79/100.00 ela: 00:04:12 rem: 00:02:11\u001b[2K\u001b[G  65.9% [==================>         ] 65.87/100.00 ela: 00:04:12 rem: 00:02:10\u001b[2K\u001b[G  66.0% [==================>         ] 65.99/100.00 ela: 00:04:12 rem: 00:02:10\u001b[2K\u001b[G  66.1% [==================>         ] 66.06/100.00 ela: 00:04:12 rem: 00:02:09\u001b[2K\u001b[G  66.1% [==================>         ] 66.14/100.00 ela: 00:04:12 rem: 00:02:09\u001b[2K\u001b[G  66.2% [==================>         ] 66.21/100.00 ela: 00:04:12 rem: 00:02:09\u001b[2K\u001b[G  66.3% [==================>         ] 66.28/100.00 ela: 00:04:13 rem: 00:02:08\u001b[2K\u001b[G  66.4% [==================>         ] 66.38/100.00 ela: 00:04:13 rem: 00:02:08\u001b[2K\u001b[G  66.5% [==================>         ] 66.47/100.00 ela: 00:04:13 rem: 00:02:07\u001b[2K\u001b[G  66.5% [==================>         ] 66.52/100.00 ela: 00:04:13 rem: 00:02:07\u001b[2K\u001b[G  66.6% [==================>         ] 66.60/100.00 ela: 00:04:13 rem: 00:02:07\u001b[2K\u001b[G  66.7% [==================>         ] 66.67/100.00 ela: 00:04:13 rem: 00:02:06\u001b[2K\u001b[G  66.7% [==================>         ] 66.75/100.00 ela: 00:04:13 rem: 00:02:06\u001b[2K\u001b[G  66.9% [==================>         ] 66.86/100.00 ela: 00:04:14 rem: 00:02:05\u001b[2K\u001b[G  66.9% [==================>         ] 66.90/100.00 ela: 00:04:14 rem: 00:02:05\u001b[2K\u001b[G  67.0% [==================>         ] 67.03/100.00 ela: 00:04:14 rem: 00:02:05\u001b[2K\u001b[G  67.1% [==================>         ] 67.15/100.00 ela: 00:04:14 rem: 00:02:04\u001b[2K\u001b[G  67.3% [==================>         ] 67.26/100.00 ela: 00:04:14 rem: 00:02:03\u001b[2K\u001b[G  67.4% [==================>         ] 67.37/100.00 ela: 00:04:14 rem: 00:02:03\u001b[2K\u001b[G  67.4% [==================>         ] 67.41/100.00 ela: 00:04:14 rem: 00:02:03\u001b[2K\u001b[G  67.5% [==================>         ] 67.54/100.00 ela: 00:04:14 rem: 00:02:02\u001b[2K\u001b[G  67.6% [==================>         ] 67.59/100.00 ela: 00:04:14 rem: 00:02:02\u001b[2K\u001b[G  67.7% [==================>         ] 67.69/100.00 ela: 00:04:14 rem: 00:02:01\u001b[2K\u001b[G  67.8% [==================>         ] 67.78/100.00 ela: 00:04:15 rem: 00:02:01\u001b[2K\u001b[G  67.9% [==================>         ] 67.85/100.00 ela: 00:04:15 rem: 00:02:00"
     ]
    },
    {
     "name": "stdout",
     "output_type": "stream",
     "text": [
      "\u001b[2K\u001b[G  67.9% [==================>         ] 67.93/100.00 ela: 00:04:15 rem: 00:02:00\u001b[2K\u001b[G  68.0% [==================>         ] 67.99/100.00 ela: 00:04:15 rem: 00:02:00\u001b[2K\u001b[G  68.0% [==================>         ] 68.04/100.00 ela: 00:04:15 rem: 00:01:59\u001b[2K\u001b[G  68.1% [==================>         ] 68.08/100.00 ela: 00:04:15 rem: 00:01:59\u001b[2K\u001b[G  68.1% [==================>         ] 68.15/100.00 ela: 00:04:15 rem: 00:01:59\u001b[2K\u001b[G  68.2% [==================>         ] 68.21/100.00 ela: 00:04:15 rem: 00:01:59\u001b[2K\u001b[G  68.3% [==================>         ] 68.29/100.00 ela: 00:04:15 rem: 00:01:58\u001b[2K\u001b[G  68.4% [==================>         ] 68.35/100.00 ela: 00:04:15 rem: 00:01:58\u001b[2K\u001b[G  68.4% [==================>         ] 68.44/100.00 ela: 00:04:16 rem: 00:01:58\u001b[2K\u001b[G  68.5% [==================>         ] 68.50/100.00 ela: 00:04:16 rem: 00:01:57\u001b[2K\u001b[G  68.6% [===================>        ] 68.56/100.00 ela: 00:04:16 rem: 00:01:57\u001b[2K\u001b[G  68.6% [===================>        ] 68.62/100.00 ela: 00:04:16 rem: 00:01:57\u001b[2K\u001b[G  68.7% [===================>        ] 68.72/100.00 ela: 00:04:16 rem: 00:01:56\u001b[2K\u001b[G  68.8% [===================>        ] 68.80/100.00 ela: 00:04:16 rem: 00:01:56\u001b[2K\u001b[G  68.9% [===================>        ] 68.92/100.00 ela: 00:04:16 rem: 00:01:55\u001b[2K\u001b[G  69.0% [===================>        ] 69.01/100.00 ela: 00:04:16 rem: 00:01:55\u001b[2K\u001b[G  69.1% [===================>        ] 69.09/100.00 ela: 00:04:16 rem: 00:01:54\u001b[2K\u001b[G  69.2% [===================>        ] 69.17/100.00 ela: 00:04:17 rem: 00:01:54\u001b[2K\u001b[G  69.3% [===================>        ] 69.26/100.00 ela: 00:04:17 rem: 00:01:54\u001b[2K\u001b[G  69.4% [===================>        ] 69.36/100.00 ela: 00:04:17 rem: 00:01:53\u001b[2K\u001b[G  69.4% [===================>        ] 69.42/100.00 ela: 00:04:17 rem: 00:01:53\u001b[2K\u001b[G  69.5% [===================>        ] 69.50/100.00 ela: 00:04:17 rem: 00:01:52\u001b[2K\u001b[G  69.6% [===================>        ] 69.55/100.00 ela: 00:04:17 rem: 00:01:52\u001b[2K\u001b[G  69.6% [===================>        ] 69.61/100.00 ela: 00:04:17 rem: 00:01:52\u001b[2K\u001b[G  69.7% [===================>        ] 69.68/100.00 ela: 00:04:17 rem: 00:01:52\u001b[2K\u001b[G  69.7% [===================>        ] 69.73/100.00 ela: 00:04:17 rem: 00:01:51\u001b[2K\u001b[G  69.8% [===================>        ] 69.76/100.00 ela: 00:04:18 rem: 00:01:51\u001b[2K\u001b[G  69.8% [===================>        ] 69.81/100.00 ela: 00:04:18 rem: 00:01:51\u001b[2K\u001b[G  69.9% [===================>        ] 69.86/100.00 ela: 00:04:18 rem: 00:01:51\u001b[2K\u001b[G  69.9% [===================>        ] 69.89/100.00 ela: 00:04:18 rem: 00:01:51\u001b[2K\u001b[G  69.9% [===================>        ] 69.94/100.00 ela: 00:04:18 rem: 00:01:51\u001b[2K\u001b[G  70.0% [===================>        ] 70.00/100.00 ela: 00:04:18 rem: 00:01:50\u001b[2K\u001b[G  70.1% [===================>        ] 70.05/100.00 ela: 00:04:18 rem: 00:01:50\u001b[2K\u001b[G  70.1% [===================>        ] 70.12/100.00 ela: 00:04:18 rem: 00:01:50\u001b[2K\u001b[G  70.2% [===================>        ] 70.19/100.00 ela: 00:04:18 rem: 00:01:49\u001b[2K\u001b[G  70.2% [===================>        ] 70.25/100.00 ela: 00:04:18 rem: 00:01:49\u001b[2K\u001b[G  70.3% [===================>        ] 70.31/100.00 ela: 00:04:19 rem: 00:01:49\u001b[2K\u001b[G  70.4% [===================>        ] 70.37/100.00 ela: 00:04:19 rem: 00:01:49\u001b[2K\u001b[G  70.4% [===================>        ] 70.45/100.00 ela: 00:04:19 rem: 00:01:48\u001b[2K\u001b[G  70.5% [===================>        ] 70.52/100.00 ela: 00:04:19 rem: 00:01:48\u001b[2K\u001b[G  70.6% [===================>        ] 70.59/100.00 ela: 00:04:19 rem: 00:01:48\u001b[2K\u001b[G  70.6% [===================>        ] 70.63/100.00 ela: 00:04:19 rem: 00:01:47\u001b[2K\u001b[G  70.7% [===================>        ] 70.72/100.00 ela: 00:04:19 rem: 00:01:47\u001b[2K\u001b[G  70.8% [===================>        ] 70.77/100.00 ela: 00:04:19 rem: 00:01:47\u001b[2K\u001b[G  70.8% [===================>        ] 70.84/100.00 ela: 00:04:19 rem: 00:01:46\u001b[2K\u001b[G  70.9% [===================>        ] 70.93/100.00 ela: 00:04:20 rem: 00:01:46\u001b[2K\u001b[G  71.0% [===================>        ] 70.98/100.00 ela: 00:04:20 rem: 00:01:46\u001b[2K\u001b[G  71.1% [===================>        ] 71.08/100.00 ela: 00:04:20 rem: 00:01:45\u001b[2K\u001b[G  71.2% [===================>        ] 71.16/100.00 ela: 00:04:20 rem: 00:01:45\u001b[2K\u001b[G  71.3% [===================>        ] 71.27/100.00 ela: 00:04:20 rem: 00:01:44\u001b[2K\u001b[G  71.3% [===================>        ] 71.33/100.00 ela: 00:04:20 rem: 00:01:44\u001b[2K\u001b[G  71.4% [===================>        ] 71.44/100.00 ela: 00:04:20 rem: 00:01:44\u001b[2K\u001b[G  71.6% [===================>        ] 71.55/100.00 ela: 00:04:20 rem: 00:01:43\u001b[2K\u001b[G  71.6% [===================>        ] 71.63/100.00 ela: 00:04:20 rem: 00:01:43\u001b[2K\u001b[G  71.7% [===================>        ] 71.70/100.00 ela: 00:04:20 rem: 00:01:43\u001b[2K\u001b[G  71.7% [===================>        ] 71.75/100.00 ela: 00:04:21 rem: 00:01:42\u001b[2K\u001b[G  71.8% [===================>        ] 71.80/100.00 ela: 00:04:21 rem: 00:01:42\u001b[2K\u001b[G  71.9% [===================>        ] 71.85/100.00 ela: 00:04:21 rem: 00:01:42\u001b[2K\u001b[G  71.9% [===================>        ] 71.91/100.00 ela: 00:04:21 rem: 00:01:42\u001b[2K\u001b[G  72.0% [===================>        ] 71.96/100.00 ela: 00:04:21 rem: 00:01:41\u001b[2K\u001b[G  72.0% [===================>        ] 72.04/100.00 ela: 00:04:21 rem: 00:01:41\u001b[2K\u001b[G  72.1% [===================>        ] 72.08/100.00 ela: 00:04:21 rem: 00:01:41\u001b[2K\u001b[G  72.2% [===================>        ] 72.16/100.00 ela: 00:04:21 rem: 00:01:41\u001b[2K\u001b[G  72.2% [===================>        ] 72.21/100.00 ela: 00:04:21 rem: 00:01:40\u001b[2K\u001b[G  72.3% [====================>       ] 72.27/100.00 ela: 00:04:22 rem: 00:01:40\u001b[2K\u001b[G  72.3% [====================>       ] 72.34/100.00 ela: 00:04:22 rem: 00:01:40\u001b[2K\u001b[G  72.4% [====================>       ] 72.41/100.00 ela: 00:04:22 rem: 00:01:39\u001b[2K\u001b[G  72.4% [====================>       ] 72.43/100.00 ela: 00:04:22 rem: 00:01:39\u001b[2K\u001b[G  72.5% [====================>       ] 72.50/100.00 ela: 00:04:22 rem: 00:01:39\u001b[2K\u001b[G  72.6% [====================>       ] 72.58/100.00 ela: 00:04:22 rem: 00:01:39\u001b[2K\u001b[G  72.7% [====================>       ] 72.66/100.00 ela: 00:04:22 rem: 00:01:38\u001b[2K\u001b[G  72.7% [====================>       ] 72.71/100.00 ela: 00:04:22 rem: 00:01:38\u001b[2K\u001b[G  72.8% [====================>       ] 72.78/100.00 ela: 00:04:22 rem: 00:01:38\u001b[2K\u001b[G  72.9% [====================>       ] 72.85/100.00 ela: 00:04:23 rem: 00:01:38\u001b[2K\u001b[G  72.9% [====================>       ] 72.92/100.00 ela: 00:04:23 rem: 00:01:37\u001b[2K\u001b[G  73.0% [====================>       ] 73.01/100.00 ela: 00:04:23 rem: 00:01:37\u001b[2K\u001b[G  73.1% [====================>       ] 73.13/100.00 ela: 00:04:23 rem: 00:01:36\u001b[2K\u001b[G  73.2% [====================>       ] 73.19/100.00 ela: 00:04:23 rem: 00:01:36\u001b[2K\u001b[G  73.3% [====================>       ] 73.26/100.00 ela: 00:04:23 rem: 00:01:36\u001b[2K\u001b[G  73.3% [====================>       ] 73.32/100.00 ela: 00:04:23 rem: 00:01:35\u001b[2K\u001b[G  73.4% [====================>       ] 73.39/100.00 ela: 00:04:23 rem: 00:01:35\u001b[2K\u001b[G  73.5% [====================>       ] 73.48/100.00 ela: 00:04:23 rem: 00:01:35\u001b[2K\u001b[G  73.5% [====================>       ] 73.53/100.00 ela: 00:04:24 rem: 00:01:35\u001b[2K\u001b[G  73.6% [====================>       ] 73.60/100.00 ela: 00:04:24 rem: 00:01:34\u001b[2K\u001b[G  73.7% [====================>       ] 73.68/100.00 ela: 00:04:24 rem: 00:01:34\u001b[2K\u001b[G  73.8% [====================>       ] 73.76/100.00 ela: 00:04:24 rem: 00:01:34\u001b[2K\u001b[G  73.8% [====================>       ] 73.83/100.00 ela: 00:04:24 rem: 00:01:33\u001b[2K\u001b[G  73.9% [====================>       ] 73.90/100.00 ela: 00:04:24 rem: 00:01:33\u001b[2K\u001b[G  74.0% [====================>       ] 74.00/100.00 ela: 00:04:24 rem: 00:01:32\u001b[2K\u001b[G  74.1% [====================>       ] 74.13/100.00 ela: 00:04:24 rem: 00:01:32\u001b[2K\u001b[G  74.2% [====================>       ] 74.24/100.00 ela: 00:04:24 rem: 00:01:31\u001b[2K\u001b[G  74.5% [====================>       ] 74.53/100.00 ela: 00:04:24 rem: 00:01:30\u001b[2K\u001b[G  74.6% [====================>       ] 74.60/100.00 ela: 00:04:25 rem: 00:01:30\u001b[2K\u001b[G  74.7% [====================>       ] 74.66/100.00 ela: 00:04:25 rem: 00:01:29\u001b[2K\u001b[G  74.8% [====================>       ] 74.83/100.00 ela: 00:04:25 rem: 00:01:29\u001b[2K\u001b[G  75.0% [====================>       ] 75.03/100.00 ela: 00:04:25 rem: 00:01:28"
     ]
    },
    {
     "name": "stdout",
     "output_type": "stream",
     "text": [
      "\u001b[2K\u001b[G  75.3% [====================>       ] 75.31/100.00 ela: 00:04:25 rem: 00:01:27\u001b[2K\u001b[G  75.4% [====================>       ] 75.35/100.00 ela: 00:04:25 rem: 00:01:26\u001b[2K\u001b[G  75.6% [====================>       ] 75.61/100.00 ela: 00:04:25 rem: 00:01:25\u001b[2K\u001b[G  75.7% [====================>       ] 75.72/100.00 ela: 00:04:25 rem: 00:01:25\u001b[2K\u001b[G  75.9% [====================>       ] 75.92/100.00 ela: 00:04:25 rem: 00:01:24\u001b[2K\u001b[G  76.0% [=====================>      ] 76.02/100.00 ela: 00:04:25 rem: 00:01:23\u001b[2K\u001b[G  76.3% [=====================>      ] 76.25/100.00 ela: 00:04:26 rem: 00:01:22\u001b[2K\u001b[G  76.5% [=====================>      ] 76.54/100.00 ela: 00:04:26 rem: 00:01:21\u001b[2K\u001b[G  76.7% [=====================>      ] 76.75/100.00 ela: 00:04:26 rem: 00:01:20\u001b[2K\u001b[G  76.9% [=====================>      ] 76.89/100.00 ela: 00:04:26 rem: 00:01:20\u001b[2K\u001b[G  77.2% [=====================>      ] 77.15/100.00 ela: 00:04:26 rem: 00:01:18\u001b[2K\u001b[G  77.3% [=====================>      ] 77.32/100.00 ela: 00:04:26 rem: 00:01:18\u001b[2K\u001b[G  77.6% [=====================>      ] 77.60/100.00 ela: 00:04:26 rem: 00:01:16\u001b[2K\u001b[G  77.8% [=====================>      ] 77.79/100.00 ela: 00:04:26 rem: 00:01:16\u001b[2K\u001b[G  78.1% [=====================>      ] 78.06/100.00 ela: 00:04:26 rem: 00:01:15\u001b[2K\u001b[G  78.3% [=====================>      ] 78.35/100.00 ela: 00:04:27 rem: 00:01:13\u001b[2K\u001b[G  78.6% [=====================>      ] 78.56/100.00 ela: 00:04:27 rem: 00:01:12\u001b[2K\u001b[G  78.8% [=====================>      ] 78.81/100.00 ela: 00:04:27 rem: 00:01:11\u001b[2K\u001b[G  79.0% [=====================>      ] 78.98/100.00 ela: 00:04:27 rem: 00:01:11\u001b[2K\u001b[G  79.3% [=====================>      ] 79.26/100.00 ela: 00:04:27 rem: 00:01:09\u001b[2K\u001b[G  79.5% [=====================>      ] 79.52/100.00 ela: 00:04:27 rem: 00:01:08\u001b[2K\u001b[G  79.8% [======================>     ] 79.78/100.00 ela: 00:04:27 rem: 00:01:07\u001b[2K\u001b[G  80.0% [======================>     ] 80.02/100.00 ela: 00:04:27 rem: 00:01:06\u001b[2K\u001b[G  80.3% [======================>     ] 80.28/100.00 ela: 00:04:27 rem: 00:01:05\u001b[2K\u001b[G  80.5% [======================>     ] 80.51/100.00 ela: 00:04:27 rem: 00:01:04\u001b[2K\u001b[G  80.8% [======================>     ] 80.81/100.00 ela: 00:04:28 rem: 00:01:03\u001b[2K\u001b[G  81.0% [======================>     ] 81.03/100.00 ela: 00:04:28 rem: 00:01:02\u001b[2K\u001b[G  81.3% [======================>     ] 81.31/100.00 ela: 00:04:28 rem: 00:01:01\u001b[2K\u001b[G  81.5% [======================>     ] 81.55/100.00 ela: 00:04:28 rem: 00:01:00\u001b[2K\u001b[G  81.8% [======================>     ] 81.80/100.00 ela: 00:04:28 rem: 00:00:59\u001b[2K\u001b[G  82.1% [======================>     ] 82.12/100.00 ela: 00:04:28 rem: 00:00:58\u001b[2K\u001b[G  82.3% [======================>     ] 82.34/100.00 ela: 00:04:28 rem: 00:00:57\u001b[2K\u001b[G  82.5% [======================>     ] 82.52/100.00 ela: 00:04:28 rem: 00:00:56\u001b[2K\u001b[G  82.5% [======================>     ] 82.54/100.00 ela: 00:04:28 rem: 00:00:56\u001b[2K\u001b[G  82.7% [======================>     ] 82.71/100.00 ela: 00:04:28 rem: 00:00:56\u001b[2K\u001b[G  82.8% [======================>     ] 82.84/100.00 ela: 00:04:29 rem: 00:00:55\u001b[2K\u001b[G  82.9% [======================>     ] 82.89/100.00 ela: 00:04:29 rem: 00:00:55\u001b[2K\u001b[G  82.9% [======================>     ] 82.95/100.00 ela: 00:04:29 rem: 00:00:55\u001b[2K\u001b[G  83.0% [======================>     ] 82.96/100.00 ela: 00:04:29 rem: 00:00:55\u001b[2K\u001b[G  83.0% [======================>     ] 83.01/100.00 ela: 00:04:29 rem: 00:00:55\u001b[2K\u001b[G  83.1% [======================>     ] 83.06/100.00 ela: 00:04:29 rem: 00:00:54\u001b[2K\u001b[G  83.2% [======================>     ] 83.20/100.00 ela: 00:04:29 rem: 00:00:54\u001b[2K\u001b[G  83.3% [======================>     ] 83.28/100.00 ela: 00:04:29 rem: 00:00:54\u001b[2K\u001b[G  83.4% [=======================>    ] 83.39/100.00 ela: 00:04:29 rem: 00:00:53\u001b[2K\u001b[G  83.5% [=======================>    ] 83.47/100.00 ela: 00:04:30 rem: 00:00:53\u001b[2K\u001b[G  83.5% [=======================>    ] 83.55/100.00 ela: 00:04:30 rem: 00:00:53\u001b[2K\u001b[G  83.6% [=======================>    ] 83.61/100.00 ela: 00:04:30 rem: 00:00:52\u001b[2K\u001b[G  83.7% [=======================>    ] 83.70/100.00 ela: 00:04:30 rem: 00:00:52\u001b[2K\u001b[G  83.7% [=======================>    ] 83.74/100.00 ela: 00:04:30 rem: 00:00:52\u001b[2K\u001b[G  83.7% [=======================>    ] 83.75/100.00 ela: 00:04:30 rem: 00:00:52\u001b[2K\u001b[G  83.8% [=======================>    ] 83.85/100.00 ela: 00:04:30 rem: 00:00:52\u001b[2K\u001b[G  83.9% [=======================>    ] 83.95/100.00 ela: 00:04:30 rem: 00:00:51\u001b[2K\u001b[G  84.0% [=======================>    ] 84.04/100.00 ela: 00:04:31 rem: 00:00:51\u001b[2K\u001b[G  84.1% [=======================>    ] 84.11/100.00 ela: 00:04:31 rem: 00:00:51\u001b[2K\u001b[G  84.2% [=======================>    ] 84.16/100.00 ela: 00:04:31 rem: 00:00:51\u001b[2K\u001b[G  84.2% [=======================>    ] 84.19/100.00 ela: 00:04:31 rem: 00:00:50\u001b[2K\u001b[G  84.2% [=======================>    ] 84.23/100.00 ela: 00:04:31 rem: 00:00:50\u001b[2K\u001b[G  84.3% [=======================>    ] 84.28/100.00 ela: 00:04:31 rem: 00:00:50\u001b[2K\u001b[G  84.4% [=======================>    ] 84.35/100.00 ela: 00:04:31 rem: 00:00:50\u001b[2K\u001b[G  84.4% [=======================>    ] 84.41/100.00 ela: 00:04:31 rem: 00:00:50\u001b[2K\u001b[G  84.5% [=======================>    ] 84.50/100.00 ela: 00:04:31 rem: 00:00:49\u001b[2K\u001b[G  84.6% [=======================>    ] 84.56/100.00 ela: 00:04:32 rem: 00:00:49\u001b[2K\u001b[G  84.6% [=======================>    ] 84.65/100.00 ela: 00:04:32 rem: 00:00:49\u001b[2K\u001b[G  84.7% [=======================>    ] 84.71/100.00 ela: 00:04:32 rem: 00:00:49\u001b[2K\u001b[G  84.8% [=======================>    ] 84.77/100.00 ela: 00:04:32 rem: 00:00:48\u001b[2K\u001b[G  84.8% [=======================>    ] 84.80/100.00 ela: 00:04:32 rem: 00:00:48\u001b[2K\u001b[G  84.9% [=======================>    ] 84.94/100.00 ela: 00:04:32 rem: 00:00:48\u001b[2K\u001b[G  85.0% [=======================>    ] 85.01/100.00 ela: 00:04:32 rem: 00:00:48\u001b[2K\u001b[G  85.1% [=======================>    ] 85.12/100.00 ela: 00:04:32 rem: 00:00:47\u001b[2K\u001b[G  85.2% [=======================>    ] 85.18/100.00 ela: 00:04:32 rem: 00:00:47\u001b[2K\u001b[G  85.3% [=======================>    ] 85.26/100.00 ela: 00:04:33 rem: 00:00:47\u001b[2K\u001b[G  85.3% [=======================>    ] 85.35/100.00 ela: 00:04:33 rem: 00:00:46\u001b[2K\u001b[G  85.4% [=======================>    ] 85.42/100.00 ela: 00:04:33 rem: 00:00:46\u001b[2K\u001b[G  85.5% [=======================>    ] 85.49/100.00 ela: 00:04:33 rem: 00:00:46\u001b[2K\u001b[G  85.6% [=======================>    ] 85.56/100.00 ela: 00:04:33 rem: 00:00:46\u001b[2K\u001b[G  85.6% [=======================>    ] 85.62/100.00 ela: 00:04:33 rem: 00:00:45\u001b[2K\u001b[G  85.7% [=======================>    ] 85.68/100.00 ela: 00:04:33 rem: 00:00:45\u001b[2K\u001b[G  85.8% [=======================>    ] 85.76/100.00 ela: 00:04:33 rem: 00:00:45\u001b[2K\u001b[G  85.8% [=======================>    ] 85.82/100.00 ela: 00:04:33 rem: 00:00:45\u001b[2K\u001b[G  85.9% [=======================>    ] 85.89/100.00 ela: 00:04:34 rem: 00:00:45\u001b[2K\u001b[G  85.9% [=======================>    ] 85.94/100.00 ela: 00:04:34 rem: 00:00:44\u001b[2K\u001b[G  86.0% [=======================>    ] 85.98/100.00 ela: 00:04:34 rem: 00:00:44\u001b[2K\u001b[G  86.1% [=======================>    ] 86.06/100.00 ela: 00:04:34 rem: 00:00:44\u001b[2K\u001b[G  86.1% [=======================>    ] 86.12/100.00 ela: 00:04:34 rem: 00:00:44\u001b[2K\u001b[G  86.2% [=======================>    ] 86.16/100.00 ela: 00:04:34 rem: 00:00:44\u001b[2K\u001b[G  86.2% [=======================>    ] 86.23/100.00 ela: 00:04:34 rem: 00:00:43\u001b[2K\u001b[G  86.3% [=======================>    ] 86.26/100.00 ela: 00:04:34 rem: 00:00:43\u001b[2K\u001b[G  86.3% [=======================>    ] 86.31/100.00 ela: 00:04:34 rem: 00:00:43\u001b[2K\u001b[G  86.4% [=======================>    ] 86.36/100.00 ela: 00:04:35 rem: 00:00:43\u001b[2K\u001b[G  86.4% [=======================>    ] 86.41/100.00 ela: 00:04:35 rem: 00:00:43\u001b[2K\u001b[G  86.5% [=======================>    ] 86.47/100.00 ela: 00:04:35 rem: 00:00:43\u001b[2K\u001b[G  86.5% [=======================>    ] 86.53/100.00 ela: 00:04:35 rem: 00:00:42\u001b[2K\u001b[G  86.6% [=======================>    ] 86.57/100.00 ela: 00:04:35 rem: 00:00:42\u001b[2K\u001b[G  86.6% [=======================>    ] 86.62/100.00 ela: 00:04:35 rem: 00:00:42\u001b[2K\u001b[G  86.7% [=======================>    ] 86.68/100.00 ela: 00:04:35 rem: 00:00:42\u001b[2K\u001b[G  86.8% [=======================>    ] 86.76/100.00 ela: 00:04:35 rem: 00:00:42"
     ]
    },
    {
     "name": "stdout",
     "output_type": "stream",
     "text": [
      "\u001b[2K\u001b[G  86.8% [=======================>    ] 86.82/100.00 ela: 00:04:35 rem: 00:00:41\u001b[2K\u001b[G  86.9% [=======================>    ] 86.88/100.00 ela: 00:04:36 rem: 00:00:41\u001b[2K\u001b[G  86.9% [=======================>    ] 86.92/100.00 ela: 00:04:36 rem: 00:00:41\u001b[2K\u001b[G  87.0% [=======================>    ] 86.96/100.00 ela: 00:04:36 rem: 00:00:41\u001b[2K\u001b[G  87.0% [=======================>    ] 87.00/100.00 ela: 00:04:36 rem: 00:00:41\u001b[2K\u001b[G  87.0% [========================>   ] 87.04/100.00 ela: 00:04:36 rem: 00:00:41\u001b[2K\u001b[G  87.1% [========================>   ] 87.09/100.00 ela: 00:04:36 rem: 00:00:41\u001b[2K\u001b[G  87.2% [========================>   ] 87.20/100.00 ela: 00:04:36 rem: 00:00:40\u001b[2K\u001b[G  87.3% [========================>   ] 87.30/100.00 ela: 00:04:36 rem: 00:00:40\u001b[2K\u001b[G  87.4% [========================>   ] 87.39/100.00 ela: 00:04:36 rem: 00:00:39\u001b[2K\u001b[G  87.5% [========================>   ] 87.46/100.00 ela: 00:04:37 rem: 00:00:39\u001b[2K\u001b[G  87.5% [========================>   ] 87.50/100.00 ela: 00:04:37 rem: 00:00:39\u001b[2K\u001b[G  87.6% [========================>   ] 87.56/100.00 ela: 00:04:37 rem: 00:00:39\u001b[2K\u001b[G  87.6% [========================>   ] 87.60/100.00 ela: 00:04:37 rem: 00:00:39\u001b[2K\u001b[G  87.6% [========================>   ] 87.61/100.00 ela: 00:04:37 rem: 00:00:39\u001b[2K\u001b[G  87.7% [========================>   ] 87.65/100.00 ela: 00:04:37 rem: 00:00:39\u001b[2K\u001b[G  87.7% [========================>   ] 87.71/100.00 ela: 00:04:37 rem: 00:00:38\u001b[2K\u001b[G  87.8% [========================>   ] 87.75/100.00 ela: 00:04:37 rem: 00:00:38\u001b[2K\u001b[G  87.8% [========================>   ] 87.80/100.00 ela: 00:04:37 rem: 00:00:38\u001b[2K\u001b[G  87.9% [========================>   ] 87.90/100.00 ela: 00:04:37 rem: 00:00:38\u001b[2K\u001b[G  88.0% [========================>   ] 87.97/100.00 ela: 00:04:38 rem: 00:00:38\u001b[2K\u001b[G  88.0% [========================>   ] 88.02/100.00 ela: 00:04:38 rem: 00:00:37\u001b[2K\u001b[G  88.0% [========================>   ] 88.04/100.00 ela: 00:04:38 rem: 00:00:37\u001b[2K\u001b[G  88.1% [========================>   ] 88.09/100.00 ela: 00:04:38 rem: 00:00:37\u001b[2K\u001b[G  88.1% [========================>   ] 88.13/100.00 ela: 00:04:38 rem: 00:00:37\u001b[2K\u001b[G  88.2% [========================>   ] 88.19/100.00 ela: 00:04:38 rem: 00:00:37\u001b[2K\u001b[G  88.3% [========================>   ] 88.26/100.00 ela: 00:04:38 rem: 00:00:37\u001b[2K\u001b[G  88.3% [========================>   ] 88.31/100.00 ela: 00:04:38 rem: 00:00:36\u001b[2K\u001b[G  88.4% [========================>   ] 88.35/100.00 ela: 00:04:39 rem: 00:00:36\u001b[2K\u001b[G  88.4% [========================>   ] 88.43/100.00 ela: 00:04:39 rem: 00:00:36\u001b[2K\u001b[G  88.5% [========================>   ] 88.45/100.00 ela: 00:04:39 rem: 00:00:36\u001b[2K\u001b[G  88.5% [========================>   ] 88.51/100.00 ela: 00:04:39 rem: 00:00:36\u001b[2K\u001b[G  88.6% [========================>   ] 88.55/100.00 ela: 00:04:39 rem: 00:00:36\u001b[2K\u001b[G  88.6% [========================>   ] 88.60/100.00 ela: 00:04:39 rem: 00:00:35\u001b[2K\u001b[G  88.7% [========================>   ] 88.70/100.00 ela: 00:04:39 rem: 00:00:35\u001b[2K\u001b[G  88.7% [========================>   ] 88.75/100.00 ela: 00:04:39 rem: 00:00:35\u001b[2K\u001b[G  88.8% [========================>   ] 88.75/100.00 ela: 00:04:39 rem: 00:00:35\u001b[2K\u001b[G  88.8% [========================>   ] 88.76/100.00 ela: 00:04:40 rem: 00:00:35\u001b[2K\u001b[G  88.8% [========================>   ] 88.79/100.00 ela: 00:04:40 rem: 00:00:35\u001b[2K\u001b[G  88.8% [========================>   ] 88.84/100.00 ela: 00:04:40 rem: 00:00:35\u001b[2K\u001b[G  88.9% [========================>   ] 88.88/100.00 ela: 00:04:40 rem: 00:00:35\u001b[2K\u001b[G  88.9% [========================>   ] 88.93/100.00 ela: 00:04:40 rem: 00:00:34\u001b[2K\u001b[G  89.0% [========================>   ] 88.95/100.00 ela: 00:04:40 rem: 00:00:34\u001b[2K\u001b[G  89.0% [========================>   ] 89.02/100.00 ela: 00:04:40 rem: 00:00:34\u001b[2K\u001b[G  89.1% [========================>   ] 89.11/100.00 ela: 00:04:40 rem: 00:00:34\u001b[2K\u001b[G  89.2% [========================>   ] 89.19/100.00 ela: 00:04:40 rem: 00:00:34\u001b[2K\u001b[G  89.2% [========================>   ] 89.22/100.00 ela: 00:04:41 rem: 00:00:33\u001b[2K\u001b[G  89.3% [========================>   ] 89.26/100.00 ela: 00:04:41 rem: 00:00:33\u001b[2K\u001b[G  89.3% [========================>   ] 89.28/100.00 ela: 00:04:41 rem: 00:00:33\u001b[2K\u001b[G  89.3% [========================>   ] 89.31/100.00 ela: 00:04:41 rem: 00:00:33\u001b[2K\u001b[G  89.4% [========================>   ] 89.35/100.00 ela: 00:04:41 rem: 00:00:33\u001b[2K\u001b[G  89.4% [========================>   ] 89.39/100.00 ela: 00:04:41 rem: 00:00:33\u001b[2K\u001b[G  89.4% [========================>   ] 89.42/100.00 ela: 00:04:41 rem: 00:00:33\u001b[2K\u001b[G  89.5% [========================>   ] 89.45/100.00 ela: 00:04:41 rem: 00:00:33\u001b[2K\u001b[G  89.5% [========================>   ] 89.46/100.00 ela: 00:04:41 rem: 00:00:33\u001b[2K\u001b[G  89.5% [========================>   ] 89.51/100.00 ela: 00:04:42 rem: 00:00:33\u001b[2K\u001b[G  89.5% [========================>   ] 89.55/100.00 ela: 00:04:42 rem: 00:00:32\u001b[2K\u001b[G  89.6% [========================>   ] 89.58/100.00 ela: 00:04:42 rem: 00:00:32\u001b[2K\u001b[G  89.6% [========================>   ] 89.62/100.00 ela: 00:04:42 rem: 00:00:32\u001b[2K\u001b[G  89.6% [========================>   ] 89.64/100.00 ela: 00:04:42 rem: 00:00:32\u001b[2K\u001b[G  89.7% [========================>   ] 89.67/100.00 ela: 00:04:42 rem: 00:00:32\u001b[2K\u001b[G  89.7% [========================>   ] 89.68/100.00 ela: 00:04:42 rem: 00:00:32\u001b[2K\u001b[G  89.7% [========================>   ] 89.73/100.00 ela: 00:04:42 rem: 00:00:32\u001b[2K\u001b[G  89.9% [========================>   ] 89.85/100.00 ela: 00:04:42 rem: 00:00:31\u001b[2K\u001b[G  89.9% [========================>   ] 89.90/100.00 ela: 00:04:43 rem: 00:00:31\u001b[2K\u001b[G  90.0% [========================>   ] 90.00/100.00 ela: 00:04:43 rem: 00:00:31\u001b[2K\u001b[G  90.0% [========================>   ] 90.04/100.00 ela: 00:04:43 rem: 00:00:31\u001b[2K\u001b[G  90.1% [========================>   ] 90.12/100.00 ela: 00:04:43 rem: 00:00:31\u001b[2K\u001b[G  90.1% [========================>   ] 90.14/100.00 ela: 00:04:43 rem: 00:00:31\u001b[2K\u001b[G  90.1% [========================>   ] 90.14/100.00 ela: 00:04:43 rem: 00:00:31\u001b[2K\u001b[G  90.2% [========================>   ] 90.16/100.00 ela: 00:04:43 rem: 00:00:30\u001b[2K\u001b[G  90.2% [========================>   ] 90.17/100.00 ela: 00:04:44 rem: 00:00:30\u001b[2K\u001b[G  90.2% [========================>   ] 90.20/100.00 ela: 00:04:44 rem: 00:00:30\u001b[2K\u001b[G  90.2% [========================>   ] 90.21/100.00 ela: 00:04:44 rem: 00:00:30\u001b[2K\u001b[G  90.2% [========================>   ] 90.24/100.00 ela: 00:04:44 rem: 00:00:30\u001b[2K\u001b[G  90.3% [========================>   ] 90.27/100.00 ela: 00:04:44 rem: 00:00:30\u001b[2K\u001b[G  90.3% [========================>   ] 90.31/100.00 ela: 00:04:44 rem: 00:00:30\u001b[2K\u001b[G  90.4% [========================>   ] 90.38/100.00 ela: 00:04:44 rem: 00:00:30\u001b[2K\u001b[G  90.5% [========================>   ] 90.48/100.00 ela: 00:04:44 rem: 00:00:29\u001b[2K\u001b[G  90.5% [========================>   ] 90.54/100.00 ela: 00:04:45 rem: 00:00:29\u001b[2K\u001b[G  90.6% [========================>   ] 90.58/100.00 ela: 00:04:45 rem: 00:00:29\u001b[2K\u001b[G  90.6% [========================>   ] 90.64/100.00 ela: 00:04:45 rem: 00:00:29\u001b[2K\u001b[G  90.7% [========================>   ] 90.67/100.00 ela: 00:04:45 rem: 00:00:29\u001b[2K\u001b[G  90.7% [========================>   ] 90.73/100.00 ela: 00:04:45 rem: 00:00:29\u001b[2K\u001b[G  90.8% [=========================>  ] 90.81/100.00 ela: 00:04:45 rem: 00:00:28\u001b[2K\u001b[G  90.9% [=========================>  ] 90.90/100.00 ela: 00:04:45 rem: 00:00:28\u001b[2K\u001b[G  91.0% [=========================>  ] 90.96/100.00 ela: 00:04:45 rem: 00:00:28\u001b[2K\u001b[G  91.0% [=========================>  ] 91.03/100.00 ela: 00:04:45 rem: 00:00:28\u001b[2K\u001b[G  91.1% [=========================>  ] 91.09/100.00 ela: 00:04:46 rem: 00:00:27\u001b[2K\u001b[G  91.2% [=========================>  ] 91.16/100.00 ela: 00:04:46 rem: 00:00:27\u001b[2K\u001b[G  91.2% [=========================>  ] 91.21/100.00 ela: 00:04:46 rem: 00:00:27\u001b[2K\u001b[G  91.2% [=========================>  ] 91.25/100.00 ela: 00:04:46 rem: 00:00:27\u001b[2K\u001b[G  91.3% [=========================>  ] 91.30/100.00 ela: 00:04:46 rem: 00:00:27\u001b[2K\u001b[G  91.3% [=========================>  ] 91.34/100.00 ela: 00:04:46 rem: 00:00:27\u001b[2K\u001b[G  91.4% [=========================>  ] 91.42/100.00 ela: 00:04:46 rem: 00:00:26\u001b[2K\u001b[G  91.5% [=========================>  ] 91.46/100.00 ela: 00:04:46 rem: 00:00:26"
     ]
    },
    {
     "name": "stdout",
     "output_type": "stream",
     "text": [
      "\u001b[2K\u001b[G  91.6% [=========================>  ] 91.56/100.00 ela: 00:04:46 rem: 00:00:26\u001b[2K\u001b[G  91.6% [=========================>  ] 91.62/100.00 ela: 00:04:47 rem: 00:00:26\u001b[2K\u001b[G  91.7% [=========================>  ] 91.66/100.00 ela: 00:04:47 rem: 00:00:26\u001b[2K\u001b[G  91.7% [=========================>  ] 91.72/100.00 ela: 00:04:47 rem: 00:00:25\u001b[2K\u001b[G  91.8% [=========================>  ] 91.79/100.00 ela: 00:04:47 rem: 00:00:25\u001b[2K\u001b[G  91.9% [=========================>  ] 91.86/100.00 ela: 00:04:47 rem: 00:00:25\u001b[2K\u001b[G  91.9% [=========================>  ] 91.90/100.00 ela: 00:04:47 rem: 00:00:25\u001b[2K\u001b[G  92.0% [=========================>  ] 91.97/100.00 ela: 00:04:47 rem: 00:00:25\u001b[2K\u001b[G  92.0% [=========================>  ] 92.03/100.00 ela: 00:04:47 rem: 00:00:24\u001b[2K\u001b[G  92.1% [=========================>  ] 92.10/100.00 ela: 00:04:47 rem: 00:00:24\u001b[2K\u001b[G  92.1% [=========================>  ] 92.14/100.00 ela: 00:04:48 rem: 00:00:24\u001b[2K\u001b[G  92.2% [=========================>  ] 92.20/100.00 ela: 00:04:48 rem: 00:00:24\u001b[2K\u001b[G  92.2% [=========================>  ] 92.25/100.00 ela: 00:04:48 rem: 00:00:24\u001b[2K\u001b[G  92.3% [=========================>  ] 92.30/100.00 ela: 00:04:48 rem: 00:00:24\u001b[2K\u001b[G  92.3% [=========================>  ] 92.32/100.00 ela: 00:04:48 rem: 00:00:23\u001b[2K\u001b[G  92.4% [=========================>  ] 92.42/100.00 ela: 00:04:48 rem: 00:00:23\u001b[2K\u001b[G  92.5% [=========================>  ] 92.50/100.00 ela: 00:04:48 rem: 00:00:23\u001b[2K\u001b[G  92.6% [=========================>  ] 92.56/100.00 ela: 00:04:48 rem: 00:00:23\u001b[2K\u001b[G  92.6% [=========================>  ] 92.64/100.00 ela: 00:04:48 rem: 00:00:22\u001b[2K\u001b[G  92.7% [=========================>  ] 92.69/100.00 ela: 00:04:49 rem: 00:00:22\u001b[2K\u001b[G  92.8% [=========================>  ] 92.78/100.00 ela: 00:04:49 rem: 00:00:22\u001b[2K\u001b[G  92.8% [=========================>  ] 92.82/100.00 ela: 00:04:49 rem: 00:00:22\u001b[2K\u001b[G  92.9% [=========================>  ] 92.86/100.00 ela: 00:04:49 rem: 00:00:22\u001b[2K\u001b[G  92.9% [=========================>  ] 92.93/100.00 ela: 00:04:49 rem: 00:00:22\u001b[2K\u001b[G  93.0% [=========================>  ] 93.01/100.00 ela: 00:04:49 rem: 00:00:21\u001b[2K\u001b[G  93.1% [=========================>  ] 93.05/100.00 ela: 00:04:49 rem: 00:00:21\u001b[2K\u001b[G  93.1% [=========================>  ] 93.13/100.00 ela: 00:04:49 rem: 00:00:21\u001b[2K\u001b[G  93.2% [=========================>  ] 93.21/100.00 ela: 00:04:50 rem: 00:00:21\u001b[2K\u001b[G  93.3% [=========================>  ] 93.30/100.00 ela: 00:04:50 rem: 00:00:20\u001b[2K\u001b[G  93.4% [=========================>  ] 93.36/100.00 ela: 00:04:50 rem: 00:00:20\u001b[2K\u001b[G  93.4% [=========================>  ] 93.44/100.00 ela: 00:04:50 rem: 00:00:20\u001b[2K\u001b[G  93.5% [=========================>  ] 93.51/100.00 ela: 00:04:50 rem: 00:00:20\u001b[2K\u001b[G  93.6% [=========================>  ] 93.56/100.00 ela: 00:04:50 rem: 00:00:20\u001b[2K\u001b[G  93.6% [=========================>  ] 93.61/100.00 ela: 00:04:50 rem: 00:00:19\u001b[2K\u001b[G  93.7% [=========================>  ] 93.69/100.00 ela: 00:04:50 rem: 00:00:19\u001b[2K\u001b[G  93.8% [=========================>  ] 93.76/100.00 ela: 00:04:50 rem: 00:00:19\u001b[2K\u001b[G  93.8% [=========================>  ] 93.82/100.00 ela: 00:04:51 rem: 00:00:19\u001b[2K\u001b[G  93.9% [=========================>  ] 93.90/100.00 ela: 00:04:51 rem: 00:00:18\u001b[2K\u001b[G  94.0% [=========================>  ] 93.96/100.00 ela: 00:04:51 rem: 00:00:18\u001b[2K\u001b[G  94.0% [=========================>  ] 94.02/100.00 ela: 00:04:51 rem: 00:00:18\u001b[2K\u001b[G  94.1% [=========================>  ] 94.09/100.00 ela: 00:04:51 rem: 00:00:18\u001b[2K\u001b[G  94.1% [=========================>  ] 94.13/100.00 ela: 00:04:51 rem: 00:00:18\u001b[2K\u001b[G  94.2% [=========================>  ] 94.18/100.00 ela: 00:04:51 rem: 00:00:18\u001b[2K\u001b[G  94.2% [=========================>  ] 94.25/100.00 ela: 00:04:51 rem: 00:00:17\u001b[2K\u001b[G  94.3% [=========================>  ] 94.31/100.00 ela: 00:04:51 rem: 00:00:17\u001b[2K\u001b[G  94.4% [=========================>  ] 94.41/100.00 ela: 00:04:52 rem: 00:00:17\u001b[2K\u001b[G  94.5% [==========================> ] 94.50/100.00 ela: 00:04:52 rem: 00:00:16\u001b[2K\u001b[G  94.6% [==========================> ] 94.59/100.00 ela: 00:04:52 rem: 00:00:16\u001b[2K\u001b[G  94.6% [==========================> ] 94.65/100.00 ela: 00:04:52 rem: 00:00:16\u001b[2K\u001b[G  94.7% [==========================> ] 94.73/100.00 ela: 00:04:52 rem: 00:00:16\u001b[2K\u001b[G  94.8% [==========================> ] 94.80/100.00 ela: 00:04:52 rem: 00:00:16\u001b[2K\u001b[G  94.9% [==========================> ] 94.88/100.00 ela: 00:04:52 rem: 00:00:15\u001b[2K\u001b[G  95.0% [==========================> ] 94.96/100.00 ela: 00:04:52 rem: 00:00:15\u001b[2K\u001b[G  95.1% [==========================> ] 95.07/100.00 ela: 00:04:52 rem: 00:00:15\u001b[2K\u001b[G  95.1% [==========================> ] 95.08/100.00 ela: 00:04:53 rem: 00:00:15\u001b[2K\u001b[G  95.1% [==========================> ] 95.09/100.00 ela: 00:04:53 rem: 00:00:15\u001b[2K\u001b[G  95.1% [==========================> ] 95.15/100.00 ela: 00:04:53 rem: 00:00:14\u001b[2K\u001b[G  95.2% [==========================> ] 95.21/100.00 ela: 00:04:53 rem: 00:00:14\u001b[2K\u001b[G  95.3% [==========================> ] 95.28/100.00 ela: 00:04:53 rem: 00:00:14\u001b[2K\u001b[G  95.3% [==========================> ] 95.34/100.00 ela: 00:04:53 rem: 00:00:14\u001b[2K\u001b[G  95.4% [==========================> ] 95.41/100.00 ela: 00:04:53 rem: 00:00:14\u001b[2K\u001b[G  95.4% [==========================> ] 95.44/100.00 ela: 00:04:53 rem: 00:00:14\u001b[2K\u001b[G  95.5% [==========================> ] 95.47/100.00 ela: 00:04:53 rem: 00:00:13\u001b[2K\u001b[G  95.5% [==========================> ] 95.49/100.00 ela: 00:04:54 rem: 00:00:13\u001b[2K\u001b[G  95.5% [==========================> ] 95.53/100.00 ela: 00:04:54 rem: 00:00:13\u001b[2K\u001b[G  95.6% [==========================> ] 95.56/100.00 ela: 00:04:54 rem: 00:00:13\u001b[2K\u001b[G  95.6% [==========================> ] 95.59/100.00 ela: 00:04:54 rem: 00:00:13\u001b[2K\u001b[G  95.6% [==========================> ] 95.61/100.00 ela: 00:04:54 rem: 00:00:13\u001b[2K\u001b[G  95.6% [==========================> ] 95.63/100.00 ela: 00:04:54 rem: 00:00:13\u001b[2K\u001b[G  95.7% [==========================> ] 95.66/100.00 ela: 00:04:54 rem: 00:00:13\u001b[2K\u001b[G  95.7% [==========================> ] 95.70/100.00 ela: 00:04:54 rem: 00:00:13\u001b[2K\u001b[G  95.7% [==========================> ] 95.75/100.00 ela: 00:04:55 rem: 00:00:13\u001b[2K\u001b[G  95.8% [==========================> ] 95.77/100.00 ela: 00:04:55 rem: 00:00:13\u001b[2K\u001b[G  95.8% [==========================> ] 95.80/100.00 ela: 00:04:55 rem: 00:00:12\u001b[2K\u001b[G  95.8% [==========================> ] 95.81/100.00 ela: 00:04:55 rem: 00:00:12\u001b[2K\u001b[G  95.8% [==========================> ] 95.83/100.00 ela: 00:04:55 rem: 00:00:12\u001b[2K\u001b[G  95.9% [==========================> ] 95.86/100.00 ela: 00:04:55 rem: 00:00:12\u001b[2K\u001b[G  95.9% [==========================> ] 95.87/100.00 ela: 00:04:55 rem: 00:00:12\u001b[2K\u001b[G  95.9% [==========================> ] 95.88/100.00 ela: 00:04:55 rem: 00:00:12\u001b[2K\u001b[G  95.9% [==========================> ] 95.91/100.00 ela: 00:04:56 rem: 00:00:12\u001b[2K\u001b[G  95.9% [==========================> ] 95.92/100.00 ela: 00:04:56 rem: 00:00:12\u001b[2K\u001b[G  95.9% [==========================> ] 95.94/100.00 ela: 00:04:56 rem: 00:00:12\u001b[2K\u001b[G  96.0% [==========================> ] 95.98/100.00 ela: 00:04:56 rem: 00:00:12\u001b[2K\u001b[G  96.0% [==========================> ] 96.02/100.00 ela: 00:04:56 rem: 00:00:12\u001b[2K\u001b[G  96.1% [==========================> ] 96.10/100.00 ela: 00:04:56 rem: 00:00:12\u001b[2K\u001b[G  96.2% [==========================> ] 96.18/100.00 ela: 00:04:56 rem: 00:00:11\u001b[2K\u001b[G  96.3% [==========================> ] 96.25/100.00 ela: 00:04:56 rem: 00:00:11\u001b[2K\u001b[G  96.3% [==========================> ] 96.33/100.00 ela: 00:04:56 rem: 00:00:11\u001b[2K\u001b[G  96.4% [==========================> ] 96.43/100.00 ela: 00:04:57 rem: 00:00:10\u001b[2K\u001b[G  96.5% [==========================> ] 96.53/100.00 ela: 00:04:57 rem: 00:00:10\u001b[2K\u001b[G  96.6% [==========================> ] 96.61/100.00 ela: 00:04:57 rem: 00:00:10\u001b[2K\u001b[G  96.7% [==========================> ] 96.67/100.00 ela: 00:04:57 rem: 00:00:10\u001b[2K\u001b[G  96.7% [==========================> ] 96.74/100.00 ela: 00:04:57 rem: 00:00:10\u001b[2K\u001b[G  96.8% [==========================> ] 96.79/100.00 ela: 00:04:57 rem: 00:00:09\u001b[2K\u001b[G  96.8% [==========================> ] 96.85/100.00 ela: 00:04:57 rem: 00:00:09\u001b[2K\u001b[G  96.9% [==========================> ] 96.93/100.00 ela: 00:04:57 rem: 00:00:09"
     ]
    },
    {
     "name": "stdout",
     "output_type": "stream",
     "text": [
      "\u001b[2K\u001b[G  97.0% [==========================> ] 97.02/100.00 ela: 00:04:57 rem: 00:00:09\u001b[2K\u001b[G  97.1% [==========================> ] 97.12/100.00 ela: 00:04:58 rem: 00:00:08\u001b[2K\u001b[G  97.2% [==========================> ] 97.20/100.00 ela: 00:04:58 rem: 00:00:08\u001b[2K\u001b[G  97.2% [==========================> ] 97.22/100.00 ela: 00:04:58 rem: 00:00:08\u001b[2K\u001b[G  97.2% [==========================> ] 97.23/100.00 ela: 00:04:58 rem: 00:00:08\u001b[2K\u001b[G  97.3% [==========================> ] 97.29/100.00 ela: 00:04:58 rem: 00:00:08\u001b[2K\u001b[G  97.3% [==========================> ] 97.32/100.00 ela: 00:04:58 rem: 00:00:08\u001b[2K\u001b[G  97.4% [==========================> ] 97.36/100.00 ela: 00:04:58 rem: 00:00:08\u001b[2K\u001b[G  97.4% [==========================> ] 97.39/100.00 ela: 00:04:58 rem: 00:00:07\u001b[2K\u001b[G  97.4% [==========================> ] 97.41/100.00 ela: 00:04:59 rem: 00:00:07\u001b[2K\u001b[G  97.4% [==========================> ] 97.43/100.00 ela: 00:04:59 rem: 00:00:07\u001b[2K\u001b[G  97.5% [==========================> ] 97.46/100.00 ela: 00:04:59 rem: 00:00:07\u001b[2K\u001b[G  97.5% [==========================> ] 97.50/100.00 ela: 00:04:59 rem: 00:00:07\u001b[2K\u001b[G  97.5% [==========================> ] 97.52/100.00 ela: 00:04:59 rem: 00:00:07\u001b[2K\u001b[G  97.5% [==========================> ] 97.53/100.00 ela: 00:04:59 rem: 00:00:07\u001b[2K\u001b[G  97.5% [==========================> ] 97.54/100.00 ela: 00:05:00 rem: 00:00:07\u001b[2K\u001b[G  97.5% [==========================> ] 97.55/100.00 ela: 00:05:00 rem: 00:00:07\u001b[2K\u001b[G  97.6% [==========================> ] 97.55/100.00 ela: 00:05:00 rem: 00:00:07\u001b[2K\u001b[G  97.6% [==========================> ] 97.56/100.00 ela: 00:05:00 rem: 00:00:07\u001b[2K\u001b[G  97.6% [==========================> ] 97.58/100.00 ela: 00:05:00 rem: 00:00:07\u001b[2K\u001b[G  97.6% [==========================> ] 97.65/100.00 ela: 00:05:01 rem: 00:00:07\u001b[2K\u001b[G  97.7% [==========================> ] 97.67/100.00 ela: 00:05:01 rem: 00:00:07\u001b[2K\u001b[G  97.7% [==========================> ] 97.69/100.00 ela: 00:05:01 rem: 00:00:07\u001b[2K\u001b[G  97.7% [==========================> ] 97.71/100.00 ela: 00:05:01 rem: 00:00:07\u001b[2K\u001b[G  97.8% [==========================> ] 97.75/100.00 ela: 00:05:01 rem: 00:00:06\u001b[2K\u001b[G  97.8% [==========================> ] 97.80/100.00 ela: 00:05:01 rem: 00:00:06\u001b[2K\u001b[G  97.8% [==========================> ] 97.83/100.00 ela: 00:05:01 rem: 00:00:06\u001b[2K\u001b[G  97.9% [==========================> ] 97.86/100.00 ela: 00:05:01 rem: 00:00:06\u001b[2K\u001b[G  97.9% [==========================> ] 97.92/100.00 ela: 00:05:02 rem: 00:00:06\u001b[2K\u001b[G  98.0% [==========================> ] 97.95/100.00 ela: 00:05:02 rem: 00:00:06\u001b[2K\u001b[G  98.0% [==========================> ] 98.01/100.00 ela: 00:05:02 rem: 00:00:06\u001b[2K\u001b[G  98.0% [==========================> ] 98.02/100.00 ela: 00:05:02 rem: 00:00:06\u001b[2K\u001b[G  98.0% [==========================> ] 98.05/100.00 ela: 00:05:02 rem: 00:00:06\u001b[2K\u001b[G  98.1% [==========================> ] 98.09/100.00 ela: 00:05:02 rem: 00:00:05\u001b[2K\u001b[G  98.1% [==========================> ] 98.11/100.00 ela: 00:05:02 rem: 00:00:05\u001b[2K\u001b[G  98.1% [==========================> ] 98.11/100.00 ela: 00:05:03 rem: 00:00:05\u001b[2K\u001b[G  98.2% [===========================>] 98.15/100.00 ela: 00:05:03 rem: 00:00:05\u001b[2K\u001b[G  98.2% [===========================>] 98.18/100.00 ela: 00:05:03 rem: 00:00:05\u001b[2K\u001b[G  98.2% [===========================>] 98.20/100.00 ela: 00:05:03 rem: 00:00:05\u001b[2K\u001b[G  98.2% [===========================>] 98.23/100.00 ela: 00:05:03 rem: 00:00:05\u001b[2K\u001b[G  98.3% [===========================>] 98.27/100.00 ela: 00:05:03 rem: 00:00:05\u001b[2K\u001b[G  98.3% [===========================>] 98.30/100.00 ela: 00:05:03 rem: 00:00:05\u001b[2K\u001b[G  98.3% [===========================>] 98.34/100.00 ela: 00:05:03 rem: 00:00:05\u001b[2K\u001b[G  98.4% [===========================>] 98.37/100.00 ela: 00:05:03 rem: 00:00:05\u001b[2K\u001b[G  98.4% [===========================>] 98.39/100.00 ela: 00:05:04 rem: 00:00:04\u001b[2K\u001b[G  98.4% [===========================>] 98.42/100.00 ela: 00:05:04 rem: 00:00:04\u001b[2K\u001b[G  98.4% [===========================>] 98.44/100.00 ela: 00:05:04 rem: 00:00:04\u001b[2K\u001b[G  98.5% [===========================>] 98.46/100.00 ela: 00:05:04 rem: 00:00:04\u001b[2K\u001b[G  98.5% [===========================>] 98.47/100.00 ela: 00:05:04 rem: 00:00:04\u001b[2K\u001b[G  98.5% [===========================>] 98.52/100.00 ela: 00:05:04 rem: 00:00:04\u001b[2K\u001b[G  98.6% [===========================>] 98.61/100.00 ela: 00:05:04 rem: 00:00:04\u001b[2K\u001b[G  98.7% [===========================>] 98.68/100.00 ela: 00:05:04 rem: 00:00:04\u001b[2K\u001b[G  98.8% [===========================>] 98.79/100.00 ela: 00:05:05 rem: 00:00:03\u001b[2K\u001b[G  98.8% [===========================>] 98.83/100.00 ela: 00:05:05 rem: 00:00:03\u001b[2K\u001b[G  98.9% [===========================>] 98.87/100.00 ela: 00:05:05 rem: 00:00:03\u001b[2K\u001b[G  98.9% [===========================>] 98.92/100.00 ela: 00:05:05 rem: 00:00:03\u001b[2K\u001b[G  99.0% [===========================>] 98.97/100.00 ela: 00:05:05 rem: 00:00:03\u001b[2K\u001b[G  99.0% [===========================>] 99.00/100.00 ela: 00:05:05 rem: 00:00:03\u001b[2K\u001b[G  99.0% [===========================>] 99.04/100.00 ela: 00:05:05 rem: 00:00:02\u001b[2K\u001b[G  99.1% [===========================>] 99.12/100.00 ela: 00:05:05 rem: 00:00:02\u001b[2K\u001b[G  99.1% [===========================>] 99.15/100.00 ela: 00:05:05 rem: 00:00:02\u001b[2K\u001b[G  99.2% [===========================>] 99.18/100.00 ela: 00:05:06 rem: 00:00:02\u001b[2K\u001b[G  99.2% [===========================>] 99.20/100.00 ela: 00:05:06 rem: 00:00:02\u001b[2K\u001b[G  99.2% [===========================>] 99.22/100.00 ela: 00:05:06 rem: 00:00:02\u001b[2K\u001b[G  99.3% [===========================>] 99.27/100.00 ela: 00:05:06 rem: 00:00:02\u001b[2K\u001b[G  99.3% [===========================>] 99.29/100.00 ela: 00:05:06 rem: 00:00:02\u001b[2K\u001b[G  99.3% [===========================>] 99.33/100.00 ela: 00:05:06 rem: 00:00:02\u001b[2K\u001b[G  99.4% [===========================>] 99.38/100.00 ela: 00:05:06 rem: 00:00:01\u001b[2K\u001b[G  99.4% [===========================>] 99.42/100.00 ela: 00:05:06 rem: 00:00:01\u001b[2K\u001b[G  99.5% [===========================>] 99.46/100.00 ela: 00:05:06 rem: 00:00:01\u001b[2K\u001b[G  99.5% [===========================>] 99.49/100.00 ela: 00:05:07 rem: 00:00:01\u001b[2K\u001b[G  99.5% [===========================>] 99.54/100.00 ela: 00:05:07 rem: 00:00:01\u001b[2K\u001b[G  99.6% [===========================>] 99.59/100.00 ela: 00:05:07 rem: 00:00:01\u001b[2K\u001b[G  99.6% [===========================>] 99.64/100.00 ela: 00:05:07 rem: 00:00:01\u001b[2K\u001b[G  99.7% [===========================>] 99.69/100.00 ela: 00:05:07 rem: 00:00:00\u001b[2K\u001b[G  99.7% [===========================>] 99.72/100.00 ela: 00:05:07 rem: 00:00:00\u001b[2K\u001b[G  99.8% [===========================>] 99.79/100.00 ela: 00:05:07 rem: 00:00:00\u001b[2K\u001b[G  99.9% [===========================>] 99.86/100.00 ela: 00:05:07 rem: 00:00:00\u001b[2K\u001b[G  99.9% [===========================>] 99.91/100.00 ela: 00:05:07 rem: 00:00:00\u001b[2K\u001b[G  99.9% [===========================>] 99.94/100.00 ela: 00:05:08 rem: 00:00:00\u001b[2K\u001b[G 100.0% [===========================>] 99.95/100.00 ela: 00:05:08 rem: 00:00:00\u001b[2K\u001b[G 100.0% [===========================>] 99.96/100.00 ela: 00:05:08 rem: 00:00:00\u001b[2K\u001b[G 100.0% [===========================>] 99.99/100.00 ela: 00:05:08 rem: 00:00:00\u001b[2K\u001b[G 100.0% [===========================>] 100.00/100.00 ela: 00:05:08 rem: 00:00:00\n"
     ]
    }
   ],
   "source": [
    "!pyfr run -b openmp -p ../demos/data/euler_vortex_2d.pyfrm ../demos/data/euler_vortex_2d.ini"
   ]
  },
  {
   "cell_type": "markdown",
   "metadata": {},
   "source": [
    "PyFR outputs in VTK format, "
   ]
  },
  {
   "cell_type": "code",
   "execution_count": 13,
   "metadata": {},
   "outputs": [],
   "source": [
    "import ipyparallel as ipp\n",
    "c = ipp.Client()\n",
    "view = c[:]\n",
    "view.activate()\n",
    "view.run('/opt/conda/envs/pyfr/bin run -b openmp -p ../code/pyfr/euler_vortex_2d.pyfrm ../code/pyfr/euler_vortex_2d.ini')\n",
    "view"
   ]
  },
  {
   "cell_type": "code",
   "execution_count": 11,
   "metadata": {
    "scrolled": true
   },
   "outputs": [
    {
     "data": {
      "text/plain": [
       "<AsyncResult: execute>"
      ]
     },
     "execution_count": 11,
     "metadata": {},
     "output_type": "execute_result"
    }
   ],
   "source": [
    "view = c[:]\n",
    "view.activate()\n",
    "view.run('/opt/conda/envs/pyfr/bin/pyfr')"
   ]
  },
  {
   "cell_type": "markdown",
   "metadata": {},
   "source": [
    "Here's what it look like:\n",
    "<img src=\"../img/numba_process.png\" style=\"height:450px\">"
   ]
  },
  {
   "cell_type": "markdown",
   "metadata": {},
   "source": [
    "    "
   ]
  },
  {
   "cell_type": "markdown",
   "metadata": {},
   "source": [
    "# Python at Pawsey\n",
    "\n",
    "Pawsey has a number of solutions for Python users:\n",
    "\n",
    "- Compiled Python modules (Versions 2&3)\n",
    "- Tuned NumPy/SciPy libraries (linked agains MKL and Cray-LibSci)\n",
    "- Job-Packing Methods\n",
    "- Shifter/Singularity"
   ]
  },
  {
   "cell_type": "markdown",
   "metadata": {},
   "source": [
    "### Job-Packing\n",
    "\n",
    "Users of Magnus and Galaxy are allocated an entire node, and charged accordingly, whether they use it all or not.  Many users want to run as many single-core Python jobs on a node as possible.  The easiest way to do that is to use job-packing in your SLURM jobscript."
   ]
  },
  {
   "cell_type": "markdown",
   "metadata": {},
   "source": [
    "```bash\n",
    "#!/bin/bash -l\n",
    "#SBATCH --nodes=1\n",
    "#SBATCH --ntasks=24\n",
    "#SBATCH --ntasks-per-node=24\n",
    "#SBATCH --cpus-per-task=1\n",
    "#SBATCH --time=00:10:00\n",
    "#SBATCH --partition=debugq\n",
    "#SBATCH --account=pawsey0001\n",
    "#SBATCH --export=NONE\n",
    "\n",
    "module swap PrgEnv-crady PrgEnv-gnu\n",
    "module load python\n",
    "module load numpy\n",
    "module load scipy\n",
    "module load matplotlib\n",
    "\n",
    "srun --export=ALL -n 24 -N 1 python_job_wrapper.sh\n",
    "```"
   ]
  },
  {
   "cell_type": "markdown",
   "metadata": {},
   "source": [
    "We run a single wrapper script across 24 cores.  The key is how we write our wrapper script:"
   ]
  },
  {
   "cell_type": "markdown",
   "metadata": {},
   "source": [
    "```bash\n",
    "#!/bin/bash\n",
    "\n",
    "python voxelSlice.py qs-curie-${SLURM_PROCID}\"\n",
    "```"
   ]
  },
  {
   "cell_type": "markdown",
   "metadata": {},
   "source": [
    "Each instance of the wrapper script will call the Python interpreter, but we use the environment variable `SLURM_PROCID` to differentiate between the cores, and each core takes a different input data set."
   ]
  },
  {
   "cell_type": "markdown",
   "metadata": {},
   "source": [
    "The benefit with this method is it usually require no changes to existing Python scripts, but may require some thought be given as to how to structure data inputs."
   ]
  },
  {
   "cell_type": "markdown",
   "metadata": {},
   "source": [
    "### Containers"
   ]
  },
  {
   "cell_type": "markdown",
   "metadata": {},
   "source": [
    "Pawsey also has Docker images available to use, particularly for Python users.  We have a program called Shifter installed on our Cray systems.  It allows for Docker containers to be run on a shared HPC system, while still maintaining performance."
   ]
  },
  {
   "cell_type": "markdown",
   "metadata": {},
   "source": [
    "<img src=\"../img/Shifter_OSU_allgather.png\" style=\"height:450px\">"
   ]
  },
  {
   "cell_type": "markdown",
   "metadata": {},
   "source": [
    "<img src=\"../img/Shifter_OSU_bandwidth_reduced.png\" style=\"height:450px\">"
   ]
  },
  {
   "cell_type": "markdown",
   "metadata": {},
   "source": [
    "Job scripts require minimal modification:\n",
    "    \n",
    "```bash\n",
    "#!/bin/bash\n",
    "#SBATCH --nodes=1\n",
    "#SBATCH --time=00:10:00\n",
    "#SBATCH --image=docker:pawsey/hpc-python:latest\n",
    " \n",
    " \n",
    "module load shifter\n",
    " \n",
    " \n",
    "srun -n 24 shifter python my_python_app.py <args>\n",
    "```"
   ]
  },
  {
   "cell_type": "markdown",
   "metadata": {},
   "source": [
    "And the Docker images provide a base of what most users would need to build their own images:\n",
    "    \n",
    "```docker\n",
    "FROM ubuntu:latest\n",
    "\n",
    "LABEL maintainer=\"brian.skjerven@pawsey.org.au\"\n",
    "\n",
    "RUN apt-get update \\\n",
    "      && apt-get install -y \\\n",
    "      cython \\\n",
    "      python-minimal \\\n",
    "      python-pip\n",
    "\n",
    "RUN pip install --upgrade pip \\\n",
    "      && pip install \\\n",
    "      astropy \\\n",
    "      h5py \\\n",
    "      matplotlib \\\n",
    "      nose \\\n",
    "      numpy \\\n",
    "      pytest \\\n",
    "      scipy \\\n",
    "      setuptools\n",
    "\n",
    "CMD [\"/bin/bash\"]\n",
    "```"
   ]
  },
  {
   "cell_type": "markdown",
   "metadata": {},
   "source": [
    "The other benefit to using Python in a container is related to dynamic library loading:"
   ]
  },
  {
   "cell_type": "markdown",
   "metadata": {},
   "source": [
    "<img src=\"../img/shifter_magnus.png\" style=\"height:450px\">"
   ]
  },
  {
   "cell_type": "markdown",
   "metadata": {},
   "source": [
    "## Final Thoughts\n",
    "\n",
    "- Lots of diferent ways of explointing parallelism in Python\n",
    "    * Some better sutied to different workflows\n",
    "- Make use of Pawsey compiled Python libraries (performance and module compatibility)\n",
    "- Try to use MPI capable libraries\n",
    "- Multiprocess *can* be useful, but there is a performance hit\n",
    "- Other Python options available to users (Shifter, job-packing)"
   ]
  }
 ],
 "metadata": {
  "kernelspec": {
   "display_name": "Python [conda env:pyfr]",
   "language": "python",
   "name": "conda-env-pyfr-py"
  },
  "language_info": {
   "codemirror_mode": {
    "name": "ipython",
    "version": 3
   },
   "file_extension": ".py",
   "mimetype": "text/x-python",
   "name": "python",
   "nbconvert_exporter": "python",
   "pygments_lexer": "ipython3",
   "version": "3.7.3"
  }
 },
 "nbformat": 4,
 "nbformat_minor": 2
}
